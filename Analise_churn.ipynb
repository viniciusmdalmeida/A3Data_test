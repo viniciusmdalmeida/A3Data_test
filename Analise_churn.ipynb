{
 "cells": [
  {
   "cell_type": "code",
   "execution_count": 1,
   "id": "036c227d",
   "metadata": {},
   "outputs": [],
   "source": [
    "import pandas as pd \n",
    "import numpy as np \n",
    "import seaborn as sns \n",
    "import matplotlib.pyplot as plt \n",
    "import time\n",
    "from tqdm import tqdm\n",
    "\n",
    "import pandas as pd\n",
    "from sklearn.ensemble import RandomForestClassifier\n",
    "from boruta import BorutaPy\n",
    "\n",
    "from sklearn.model_selection import StratifiedKFold\n",
    "from skopt import BayesSearchCV\n",
    "\n",
    "np.random.seed(0)"
   ]
  },
  {
   "cell_type": "markdown",
   "id": "720c4221",
   "metadata": {},
   "source": [
    "# 1. Lendo dados "
   ]
  },
  {
   "cell_type": "code",
   "execution_count": 2,
   "id": "e761240b",
   "metadata": {},
   "outputs": [
    {
     "data": {
      "text/html": [
       "<div>\n",
       "<style scoped>\n",
       "    .dataframe tbody tr th:only-of-type {\n",
       "        vertical-align: middle;\n",
       "    }\n",
       "\n",
       "    .dataframe tbody tr th {\n",
       "        vertical-align: top;\n",
       "    }\n",
       "\n",
       "    .dataframe thead th {\n",
       "        text-align: right;\n",
       "    }\n",
       "</style>\n",
       "<table border=\"1\" class=\"dataframe\">\n",
       "  <thead>\n",
       "    <tr style=\"text-align: right;\">\n",
       "      <th></th>\n",
       "      <th>customerID</th>\n",
       "      <th>gender</th>\n",
       "      <th>SeniorCitizen</th>\n",
       "      <th>Partner</th>\n",
       "      <th>Dependents</th>\n",
       "      <th>tenure</th>\n",
       "      <th>PhoneService</th>\n",
       "      <th>MultipleLines</th>\n",
       "      <th>InternetService</th>\n",
       "      <th>OnlineSecurity</th>\n",
       "      <th>...</th>\n",
       "      <th>DeviceProtection</th>\n",
       "      <th>TechSupport</th>\n",
       "      <th>StreamingTV</th>\n",
       "      <th>StreamingMovies</th>\n",
       "      <th>Contract</th>\n",
       "      <th>PaperlessBilling</th>\n",
       "      <th>PaymentMethod</th>\n",
       "      <th>MonthlyCharges</th>\n",
       "      <th>TotalCharges</th>\n",
       "      <th>Churn</th>\n",
       "    </tr>\n",
       "  </thead>\n",
       "  <tbody>\n",
       "    <tr>\n",
       "      <th>0</th>\n",
       "      <td>7569-NMZYQ</td>\n",
       "      <td>Female</td>\n",
       "      <td>0</td>\n",
       "      <td>Yes</td>\n",
       "      <td>Yes</td>\n",
       "      <td>72</td>\n",
       "      <td>Yes</td>\n",
       "      <td>Yes</td>\n",
       "      <td>Fiber optic</td>\n",
       "      <td>Yes</td>\n",
       "      <td>...</td>\n",
       "      <td>Yes</td>\n",
       "      <td>Yes</td>\n",
       "      <td>Yes</td>\n",
       "      <td>Yes</td>\n",
       "      <td>Two year</td>\n",
       "      <td>Yes</td>\n",
       "      <td>Bank transfer (automatic)</td>\n",
       "      <td>118.75</td>\n",
       "      <td>8672.45</td>\n",
       "      <td>No</td>\n",
       "    </tr>\n",
       "    <tr>\n",
       "      <th>1</th>\n",
       "      <td>8984-HPEMB</td>\n",
       "      <td>Female</td>\n",
       "      <td>0</td>\n",
       "      <td>No</td>\n",
       "      <td>No</td>\n",
       "      <td>71</td>\n",
       "      <td>Yes</td>\n",
       "      <td>Yes</td>\n",
       "      <td>Fiber optic</td>\n",
       "      <td>Yes</td>\n",
       "      <td>...</td>\n",
       "      <td>Yes</td>\n",
       "      <td>Yes</td>\n",
       "      <td>Yes</td>\n",
       "      <td>Yes</td>\n",
       "      <td>Two year</td>\n",
       "      <td>Yes</td>\n",
       "      <td>Electronic check</td>\n",
       "      <td>118.65</td>\n",
       "      <td>8477.60</td>\n",
       "      <td>No</td>\n",
       "    </tr>\n",
       "    <tr>\n",
       "      <th>2</th>\n",
       "      <td>5989-AXPUC</td>\n",
       "      <td>Female</td>\n",
       "      <td>0</td>\n",
       "      <td>Yes</td>\n",
       "      <td>No</td>\n",
       "      <td>68</td>\n",
       "      <td>Yes</td>\n",
       "      <td>Yes</td>\n",
       "      <td>Fiber optic</td>\n",
       "      <td>Yes</td>\n",
       "      <td>...</td>\n",
       "      <td>Yes</td>\n",
       "      <td>Yes</td>\n",
       "      <td>Yes</td>\n",
       "      <td>Yes</td>\n",
       "      <td>Two year</td>\n",
       "      <td>No</td>\n",
       "      <td>Mailed check</td>\n",
       "      <td>118.60</td>\n",
       "      <td>7990.05</td>\n",
       "      <td>No</td>\n",
       "    </tr>\n",
       "    <tr>\n",
       "      <th>3</th>\n",
       "      <td>5734-EJKXG</td>\n",
       "      <td>Female</td>\n",
       "      <td>0</td>\n",
       "      <td>No</td>\n",
       "      <td>No</td>\n",
       "      <td>61</td>\n",
       "      <td>Yes</td>\n",
       "      <td>Yes</td>\n",
       "      <td>Fiber optic</td>\n",
       "      <td>Yes</td>\n",
       "      <td>...</td>\n",
       "      <td>Yes</td>\n",
       "      <td>Yes</td>\n",
       "      <td>Yes</td>\n",
       "      <td>Yes</td>\n",
       "      <td>One year</td>\n",
       "      <td>Yes</td>\n",
       "      <td>Electronic check</td>\n",
       "      <td>118.60</td>\n",
       "      <td>7365.70</td>\n",
       "      <td>No</td>\n",
       "    </tr>\n",
       "    <tr>\n",
       "      <th>4</th>\n",
       "      <td>8199-ZLLSA</td>\n",
       "      <td>Male</td>\n",
       "      <td>0</td>\n",
       "      <td>No</td>\n",
       "      <td>No</td>\n",
       "      <td>67</td>\n",
       "      <td>Yes</td>\n",
       "      <td>Yes</td>\n",
       "      <td>Fiber optic</td>\n",
       "      <td>Yes</td>\n",
       "      <td>...</td>\n",
       "      <td>Yes</td>\n",
       "      <td>Yes</td>\n",
       "      <td>Yes</td>\n",
       "      <td>Yes</td>\n",
       "      <td>One year</td>\n",
       "      <td>Yes</td>\n",
       "      <td>Bank transfer (automatic)</td>\n",
       "      <td>118.35</td>\n",
       "      <td>7804.15</td>\n",
       "      <td>Yes</td>\n",
       "    </tr>\n",
       "  </tbody>\n",
       "</table>\n",
       "<p>5 rows × 21 columns</p>\n",
       "</div>"
      ],
      "text/plain": [
       "   customerID  gender  SeniorCitizen Partner Dependents  tenure PhoneService  \\\n",
       "0  7569-NMZYQ  Female              0     Yes        Yes      72          Yes   \n",
       "1  8984-HPEMB  Female              0      No         No      71          Yes   \n",
       "2  5989-AXPUC  Female              0     Yes         No      68          Yes   \n",
       "3  5734-EJKXG  Female              0      No         No      61          Yes   \n",
       "4  8199-ZLLSA    Male              0      No         No      67          Yes   \n",
       "\n",
       "  MultipleLines InternetService OnlineSecurity  ... DeviceProtection  \\\n",
       "0           Yes     Fiber optic            Yes  ...              Yes   \n",
       "1           Yes     Fiber optic            Yes  ...              Yes   \n",
       "2           Yes     Fiber optic            Yes  ...              Yes   \n",
       "3           Yes     Fiber optic            Yes  ...              Yes   \n",
       "4           Yes     Fiber optic            Yes  ...              Yes   \n",
       "\n",
       "  TechSupport StreamingTV StreamingMovies  Contract PaperlessBilling  \\\n",
       "0         Yes         Yes             Yes  Two year              Yes   \n",
       "1         Yes         Yes             Yes  Two year              Yes   \n",
       "2         Yes         Yes             Yes  Two year               No   \n",
       "3         Yes         Yes             Yes  One year              Yes   \n",
       "4         Yes         Yes             Yes  One year              Yes   \n",
       "\n",
       "               PaymentMethod MonthlyCharges  TotalCharges  Churn  \n",
       "0  Bank transfer (automatic)         118.75       8672.45     No  \n",
       "1           Electronic check         118.65       8477.60     No  \n",
       "2               Mailed check         118.60       7990.05     No  \n",
       "3           Electronic check         118.60       7365.70     No  \n",
       "4  Bank transfer (automatic)         118.35       7804.15    Yes  \n",
       "\n",
       "[5 rows x 21 columns]"
      ]
     },
     "execution_count": 2,
     "metadata": {},
     "output_type": "execute_result"
    }
   ],
   "source": [
    "link = 'https://docs.google.com/spreadsheets/d/1hyNndE4QVhjVLmB37ePBURRUkBlFUMJ3g6wlH2UenJY/edit#gid=516785925'\n",
    "#df_dados = pd.read_csv(link)\n",
    "df_dados = pd.read_csv(\"Customer-Churn - Customer-Churn.csv\", decimal=',')\n",
    "\n",
    "df_dados.head() "
   ]
  },
  {
   "cell_type": "markdown",
   "id": "bf24f88f",
   "metadata": {},
   "source": [
    "## 1.2 Analise de integridade"
   ]
  },
  {
   "cell_type": "markdown",
   "id": "ca911f60",
   "metadata": {},
   "source": [
    "**Analise de tipos**"
   ]
  },
  {
   "cell_type": "code",
   "execution_count": 3,
   "id": "26c968b0",
   "metadata": {},
   "outputs": [
    {
     "name": "stdout",
     "output_type": "stream",
     "text": [
      "<class 'pandas.core.frame.DataFrame'>\n",
      "RangeIndex: 7043 entries, 0 to 7042\n",
      "Data columns (total 21 columns):\n",
      " #   Column            Non-Null Count  Dtype  \n",
      "---  ------            --------------  -----  \n",
      " 0   customerID        7043 non-null   object \n",
      " 1   gender            7043 non-null   object \n",
      " 2   SeniorCitizen     7043 non-null   int64  \n",
      " 3   Partner           7043 non-null   object \n",
      " 4   Dependents        7043 non-null   object \n",
      " 5   tenure            7043 non-null   int64  \n",
      " 6   PhoneService      7043 non-null   object \n",
      " 7   MultipleLines     7043 non-null   object \n",
      " 8   InternetService   7043 non-null   object \n",
      " 9   OnlineSecurity    7043 non-null   object \n",
      " 10  OnlineBackup      7043 non-null   object \n",
      " 11  DeviceProtection  7043 non-null   object \n",
      " 12  TechSupport       7043 non-null   object \n",
      " 13  StreamingTV       7043 non-null   object \n",
      " 14  StreamingMovies   7043 non-null   object \n",
      " 15  Contract          7043 non-null   object \n",
      " 16  PaperlessBilling  7043 non-null   object \n",
      " 17  PaymentMethod     7043 non-null   object \n",
      " 18  MonthlyCharges    7043 non-null   float64\n",
      " 19  TotalCharges      7032 non-null   float64\n",
      " 20  Churn             7043 non-null   object \n",
      "dtypes: float64(2), int64(2), object(17)\n",
      "memory usage: 1.1+ MB\n"
     ]
    }
   ],
   "source": [
    "df_dados.info()"
   ]
  },
  {
   "cell_type": "code",
   "execution_count": 93,
   "id": "7496d35d",
   "metadata": {},
   "outputs": [
    {
     "data": {
      "text/plain": [
       "16056168.699999997"
      ]
     },
     "execution_count": 93,
     "metadata": {},
     "output_type": "execute_result"
    }
   ],
   "source": [
    "df_dados['TotalCharges'].sum()"
   ]
  },
  {
   "cell_type": "code",
   "execution_count": 94,
   "id": "d0abbee0",
   "metadata": {},
   "outputs": [
    {
     "data": {
      "text/plain": [
       "64.76169246059918"
      ]
     },
     "execution_count": 94,
     "metadata": {},
     "output_type": "execute_result"
    }
   ],
   "source": [
    "df_dados['MonthlyCharges'].mean()"
   ]
  },
  {
   "cell_type": "markdown",
   "id": "e1722a6d",
   "metadata": {},
   "source": [
    "**Analises simples**"
   ]
  },
  {
   "cell_type": "code",
   "execution_count": 4,
   "id": "7be01b27",
   "metadata": {},
   "outputs": [
    {
     "data": {
      "text/html": [
       "<div>\n",
       "<style scoped>\n",
       "    .dataframe tbody tr th:only-of-type {\n",
       "        vertical-align: middle;\n",
       "    }\n",
       "\n",
       "    .dataframe tbody tr th {\n",
       "        vertical-align: top;\n",
       "    }\n",
       "\n",
       "    .dataframe thead th {\n",
       "        text-align: right;\n",
       "    }\n",
       "</style>\n",
       "<table border=\"1\" class=\"dataframe\">\n",
       "  <thead>\n",
       "    <tr style=\"text-align: right;\">\n",
       "      <th></th>\n",
       "      <th>SeniorCitizen</th>\n",
       "      <th>tenure</th>\n",
       "      <th>MonthlyCharges</th>\n",
       "      <th>TotalCharges</th>\n",
       "    </tr>\n",
       "  </thead>\n",
       "  <tbody>\n",
       "    <tr>\n",
       "      <th>count</th>\n",
       "      <td>7043.000000</td>\n",
       "      <td>7043.000000</td>\n",
       "      <td>7043.000000</td>\n",
       "      <td>7032.000000</td>\n",
       "    </tr>\n",
       "    <tr>\n",
       "      <th>mean</th>\n",
       "      <td>0.162147</td>\n",
       "      <td>32.371149</td>\n",
       "      <td>64.761692</td>\n",
       "      <td>2283.300441</td>\n",
       "    </tr>\n",
       "    <tr>\n",
       "      <th>std</th>\n",
       "      <td>0.368612</td>\n",
       "      <td>24.559481</td>\n",
       "      <td>30.090047</td>\n",
       "      <td>2266.771362</td>\n",
       "    </tr>\n",
       "    <tr>\n",
       "      <th>min</th>\n",
       "      <td>0.000000</td>\n",
       "      <td>0.000000</td>\n",
       "      <td>18.250000</td>\n",
       "      <td>18.800000</td>\n",
       "    </tr>\n",
       "    <tr>\n",
       "      <th>25%</th>\n",
       "      <td>0.000000</td>\n",
       "      <td>9.000000</td>\n",
       "      <td>35.500000</td>\n",
       "      <td>401.450000</td>\n",
       "    </tr>\n",
       "    <tr>\n",
       "      <th>50%</th>\n",
       "      <td>0.000000</td>\n",
       "      <td>29.000000</td>\n",
       "      <td>70.350000</td>\n",
       "      <td>1397.475000</td>\n",
       "    </tr>\n",
       "    <tr>\n",
       "      <th>75%</th>\n",
       "      <td>0.000000</td>\n",
       "      <td>55.000000</td>\n",
       "      <td>89.850000</td>\n",
       "      <td>3794.737500</td>\n",
       "    </tr>\n",
       "    <tr>\n",
       "      <th>max</th>\n",
       "      <td>1.000000</td>\n",
       "      <td>72.000000</td>\n",
       "      <td>118.750000</td>\n",
       "      <td>8684.800000</td>\n",
       "    </tr>\n",
       "  </tbody>\n",
       "</table>\n",
       "</div>"
      ],
      "text/plain": [
       "       SeniorCitizen       tenure  MonthlyCharges  TotalCharges\n",
       "count    7043.000000  7043.000000     7043.000000   7032.000000\n",
       "mean        0.162147    32.371149       64.761692   2283.300441\n",
       "std         0.368612    24.559481       30.090047   2266.771362\n",
       "min         0.000000     0.000000       18.250000     18.800000\n",
       "25%         0.000000     9.000000       35.500000    401.450000\n",
       "50%         0.000000    29.000000       70.350000   1397.475000\n",
       "75%         0.000000    55.000000       89.850000   3794.737500\n",
       "max         1.000000    72.000000      118.750000   8684.800000"
      ]
     },
     "execution_count": 4,
     "metadata": {},
     "output_type": "execute_result"
    }
   ],
   "source": [
    "# Dados numericos\n",
    "df_dados.describe()"
   ]
  },
  {
   "cell_type": "code",
   "execution_count": 5,
   "id": "27b0b788",
   "metadata": {},
   "outputs": [
    {
     "data": {
      "text/html": [
       "<div>\n",
       "<style scoped>\n",
       "    .dataframe tbody tr th:only-of-type {\n",
       "        vertical-align: middle;\n",
       "    }\n",
       "\n",
       "    .dataframe tbody tr th {\n",
       "        vertical-align: top;\n",
       "    }\n",
       "\n",
       "    .dataframe thead th {\n",
       "        text-align: right;\n",
       "    }\n",
       "</style>\n",
       "<table border=\"1\" class=\"dataframe\">\n",
       "  <thead>\n",
       "    <tr style=\"text-align: right;\">\n",
       "      <th></th>\n",
       "      <th>customerID</th>\n",
       "      <th>gender</th>\n",
       "      <th>Partner</th>\n",
       "      <th>Dependents</th>\n",
       "      <th>PhoneService</th>\n",
       "      <th>MultipleLines</th>\n",
       "      <th>InternetService</th>\n",
       "      <th>OnlineSecurity</th>\n",
       "      <th>OnlineBackup</th>\n",
       "      <th>DeviceProtection</th>\n",
       "      <th>TechSupport</th>\n",
       "      <th>StreamingTV</th>\n",
       "      <th>StreamingMovies</th>\n",
       "      <th>Contract</th>\n",
       "      <th>PaperlessBilling</th>\n",
       "      <th>PaymentMethod</th>\n",
       "      <th>Churn</th>\n",
       "    </tr>\n",
       "  </thead>\n",
       "  <tbody>\n",
       "    <tr>\n",
       "      <th>count</th>\n",
       "      <td>7043</td>\n",
       "      <td>7043</td>\n",
       "      <td>7043</td>\n",
       "      <td>7043</td>\n",
       "      <td>7043</td>\n",
       "      <td>7043</td>\n",
       "      <td>7043</td>\n",
       "      <td>7043</td>\n",
       "      <td>7043</td>\n",
       "      <td>7043</td>\n",
       "      <td>7043</td>\n",
       "      <td>7043</td>\n",
       "      <td>7043</td>\n",
       "      <td>7043</td>\n",
       "      <td>7043</td>\n",
       "      <td>7043</td>\n",
       "      <td>7043</td>\n",
       "    </tr>\n",
       "    <tr>\n",
       "      <th>unique</th>\n",
       "      <td>7043</td>\n",
       "      <td>2</td>\n",
       "      <td>2</td>\n",
       "      <td>2</td>\n",
       "      <td>2</td>\n",
       "      <td>3</td>\n",
       "      <td>3</td>\n",
       "      <td>3</td>\n",
       "      <td>3</td>\n",
       "      <td>3</td>\n",
       "      <td>3</td>\n",
       "      <td>3</td>\n",
       "      <td>3</td>\n",
       "      <td>3</td>\n",
       "      <td>2</td>\n",
       "      <td>4</td>\n",
       "      <td>2</td>\n",
       "    </tr>\n",
       "    <tr>\n",
       "      <th>top</th>\n",
       "      <td>7569-NMZYQ</td>\n",
       "      <td>Male</td>\n",
       "      <td>No</td>\n",
       "      <td>No</td>\n",
       "      <td>Yes</td>\n",
       "      <td>No</td>\n",
       "      <td>Fiber optic</td>\n",
       "      <td>No</td>\n",
       "      <td>No</td>\n",
       "      <td>No</td>\n",
       "      <td>No</td>\n",
       "      <td>No</td>\n",
       "      <td>No</td>\n",
       "      <td>Month-to-month</td>\n",
       "      <td>Yes</td>\n",
       "      <td>Electronic check</td>\n",
       "      <td>No</td>\n",
       "    </tr>\n",
       "    <tr>\n",
       "      <th>freq</th>\n",
       "      <td>1</td>\n",
       "      <td>3555</td>\n",
       "      <td>3641</td>\n",
       "      <td>4933</td>\n",
       "      <td>6361</td>\n",
       "      <td>3390</td>\n",
       "      <td>3096</td>\n",
       "      <td>3498</td>\n",
       "      <td>3088</td>\n",
       "      <td>3095</td>\n",
       "      <td>3473</td>\n",
       "      <td>2810</td>\n",
       "      <td>2785</td>\n",
       "      <td>3875</td>\n",
       "      <td>4171</td>\n",
       "      <td>2365</td>\n",
       "      <td>5174</td>\n",
       "    </tr>\n",
       "  </tbody>\n",
       "</table>\n",
       "</div>"
      ],
      "text/plain": [
       "        customerID gender Partner Dependents PhoneService MultipleLines  \\\n",
       "count         7043   7043    7043       7043         7043          7043   \n",
       "unique        7043      2       2          2            2             3   \n",
       "top     7569-NMZYQ   Male      No         No          Yes            No   \n",
       "freq             1   3555    3641       4933         6361          3390   \n",
       "\n",
       "       InternetService OnlineSecurity OnlineBackup DeviceProtection  \\\n",
       "count             7043           7043         7043             7043   \n",
       "unique               3              3            3                3   \n",
       "top        Fiber optic             No           No               No   \n",
       "freq              3096           3498         3088             3095   \n",
       "\n",
       "       TechSupport StreamingTV StreamingMovies        Contract  \\\n",
       "count         7043        7043            7043            7043   \n",
       "unique           3           3               3               3   \n",
       "top             No          No              No  Month-to-month   \n",
       "freq          3473        2810            2785            3875   \n",
       "\n",
       "       PaperlessBilling     PaymentMethod Churn  \n",
       "count              7043              7043  7043  \n",
       "unique                2                 4     2  \n",
       "top                 Yes  Electronic check    No  \n",
       "freq               4171              2365  5174  "
      ]
     },
     "execution_count": 5,
     "metadata": {},
     "output_type": "execute_result"
    }
   ],
   "source": [
    "df_dados.describe(include=['object'])"
   ]
  },
  {
   "cell_type": "markdown",
   "id": "0f336685",
   "metadata": {},
   "source": [
    "# 2. Analise exploratoria"
   ]
  },
  {
   "cell_type": "markdown",
   "id": "2e03b95b",
   "metadata": {},
   "source": [
    "## 2.1 Analisando dados churn "
   ]
  },
  {
   "cell_type": "markdown",
   "id": "7cce1b4b",
   "metadata": {},
   "source": [
    "**Distribuição dos valores**"
   ]
  },
  {
   "cell_type": "code",
   "execution_count": 6,
   "id": "6539aeca",
   "metadata": {},
   "outputs": [
    {
     "data": {
      "text/plain": [
       "No     5174\n",
       "Yes    1869\n",
       "Name: Churn, dtype: int64"
      ]
     },
     "execution_count": 6,
     "metadata": {},
     "output_type": "execute_result"
    }
   ],
   "source": [
    "df_dados['Churn'].value_counts()"
   ]
  },
  {
   "cell_type": "code",
   "execution_count": 7,
   "id": "6a1d2a10",
   "metadata": {},
   "outputs": [
    {
     "data": {
      "text/plain": [
       "<Axes: xlabel='Churn', ylabel='count'>"
      ]
     },
     "execution_count": 7,
     "metadata": {},
     "output_type": "execute_result"
    },
    {
     "data": {
      "image/png": "[encoded data removed]",
      "text/plain": [
       "<Figure size 640x480 with 1 Axes>"
      ]
     },
     "metadata": {},
     "output_type": "display_data"
    }
   ],
   "source": [
    "sns.countplot(df_dados,x='Churn')"
   ]
  },
  {
   "cell_type": "code",
   "execution_count": 8,
   "id": "a3c0280f",
   "metadata": {},
   "outputs": [
    {
     "data": {
      "text/plain": [
       "<Axes: ylabel='Churn'>"
      ]
     },
     "execution_count": 8,
     "metadata": {},
     "output_type": "execute_result"
    },
    {
     "data": {
      "image/png": "[encoded data removed]",
      "text/plain": [
       "<Figure size 640x480 with 1 Axes>"
      ]
     },
     "metadata": {},
     "output_type": "display_data"
    }
   ],
   "source": [
    "df_dados['Churn'].value_counts().plot(kind='pie', autopct='%1.0f%%')"
   ]
  },
  {
   "cell_type": "markdown",
   "id": "db85841e",
   "metadata": {},
   "source": [
    "**Correlação entre os dados numericos**"
   ]
  },
  {
   "cell_type": "code",
   "execution_count": 9,
   "id": "02e3490e",
   "metadata": {},
   "outputs": [],
   "source": [
    "df_dados_modf = df_dados.copy()\n",
    "df_dados_modf['Churn'] = np.where(df_dados_modf['Churn'] == 'No', 0, 1)\n",
    "df_dados_num = df_dados_modf[['SeniorCitizen','tenure','MonthlyCharges','TotalCharges','Churn']]"
   ]
  },
  {
   "cell_type": "code",
   "execution_count": 10,
   "id": "05ce19c7",
   "metadata": {},
   "outputs": [
    {
     "data": {
      "text/html": [
       "<div>\n",
       "<style scoped>\n",
       "    .dataframe tbody tr th:only-of-type {\n",
       "        vertical-align: middle;\n",
       "    }\n",
       "\n",
       "    .dataframe tbody tr th {\n",
       "        vertical-align: top;\n",
       "    }\n",
       "\n",
       "    .dataframe thead th {\n",
       "        text-align: right;\n",
       "    }\n",
       "</style>\n",
       "<table border=\"1\" class=\"dataframe\">\n",
       "  <thead>\n",
       "    <tr style=\"text-align: right;\">\n",
       "      <th></th>\n",
       "      <th>SeniorCitizen</th>\n",
       "      <th>tenure</th>\n",
       "      <th>MonthlyCharges</th>\n",
       "      <th>TotalCharges</th>\n",
       "      <th>Churn</th>\n",
       "    </tr>\n",
       "  </thead>\n",
       "  <tbody>\n",
       "    <tr>\n",
       "      <th>SeniorCitizen</th>\n",
       "      <td>1.000000</td>\n",
       "      <td>0.016567</td>\n",
       "      <td>0.220173</td>\n",
       "      <td>0.102411</td>\n",
       "      <td>0.150889</td>\n",
       "    </tr>\n",
       "    <tr>\n",
       "      <th>tenure</th>\n",
       "      <td>0.016567</td>\n",
       "      <td>1.000000</td>\n",
       "      <td>0.247900</td>\n",
       "      <td>0.825880</td>\n",
       "      <td>-0.352229</td>\n",
       "    </tr>\n",
       "    <tr>\n",
       "      <th>MonthlyCharges</th>\n",
       "      <td>0.220173</td>\n",
       "      <td>0.247900</td>\n",
       "      <td>1.000000</td>\n",
       "      <td>0.651065</td>\n",
       "      <td>0.193356</td>\n",
       "    </tr>\n",
       "    <tr>\n",
       "      <th>TotalCharges</th>\n",
       "      <td>0.102411</td>\n",
       "      <td>0.825880</td>\n",
       "      <td>0.651065</td>\n",
       "      <td>1.000000</td>\n",
       "      <td>-0.199484</td>\n",
       "    </tr>\n",
       "    <tr>\n",
       "      <th>Churn</th>\n",
       "      <td>0.150889</td>\n",
       "      <td>-0.352229</td>\n",
       "      <td>0.193356</td>\n",
       "      <td>-0.199484</td>\n",
       "      <td>1.000000</td>\n",
       "    </tr>\n",
       "  </tbody>\n",
       "</table>\n",
       "</div>"
      ],
      "text/plain": [
       "                SeniorCitizen    tenure  MonthlyCharges  TotalCharges  \\\n",
       "SeniorCitizen        1.000000  0.016567        0.220173      0.102411   \n",
       "tenure               0.016567  1.000000        0.247900      0.825880   \n",
       "MonthlyCharges       0.220173  0.247900        1.000000      0.651065   \n",
       "TotalCharges         0.102411  0.825880        0.651065      1.000000   \n",
       "Churn                0.150889 -0.352229        0.193356     -0.199484   \n",
       "\n",
       "                   Churn  \n",
       "SeniorCitizen   0.150889  \n",
       "tenure         -0.352229  \n",
       "MonthlyCharges  0.193356  \n",
       "TotalCharges   -0.199484  \n",
       "Churn           1.000000  "
      ]
     },
     "execution_count": 10,
     "metadata": {},
     "output_type": "execute_result"
    }
   ],
   "source": [
    "df_corr = df_dados_num.corr()\n",
    "df_corr"
   ]
  },
  {
   "cell_type": "markdown",
   "id": "72a756fc",
   "metadata": {},
   "source": [
    "**Analise Numericos**"
   ]
  },
  {
   "cell_type": "code",
   "execution_count": 85,
   "id": "1182eda5",
   "metadata": {},
   "outputs": [
    {
     "data": {
      "text/plain": [
       "<Axes: xlabel='Churn', ylabel='TotalCharges'>"
      ]
     },
     "execution_count": 85,
     "metadata": {},
     "output_type": "execute_result"
    },
    {
     "data": {
      "image/png": "[encoded data removed]",
      "text/plain": [
       "<Figure size 640x480 with 1 Axes>"
      ]
     },
     "metadata": {},
     "output_type": "display_data"
    }
   ],
   "source": [
    "sns.barplot(df_dados, x='Churn',y='TotalCharges')"
   ]
  },
  {
   "cell_type": "code",
   "execution_count": 92,
   "id": "c8367c9f",
   "metadata": {},
   "outputs": [
    {
     "data": {
      "text/plain": [
       "<Axes: xlabel='Churn', ylabel='MonthlyCharges'>"
      ]
     },
     "execution_count": 92,
     "metadata": {},
     "output_type": "execute_result"
    },
    {
     "data": {
      "image/png": "[encoded data removed]",
      "text/plain": [
       "<Figure size 640x480 with 1 Axes>"
      ]
     },
     "metadata": {},
     "output_type": "display_data"
    }
   ],
   "source": [
    "sns.barplot(df_dados, x='Churn',y='MonthlyCharges')"
   ]
  },
  {
   "cell_type": "code",
   "execution_count": 83,
   "id": "411d82e7",
   "metadata": {},
   "outputs": [
    {
     "data": {
      "text/plain": [
       "<Axes: xlabel='Churn', ylabel='tenure'>"
      ]
     },
     "execution_count": 83,
     "metadata": {},
     "output_type": "execute_result"
    },
    {
     "data": {
      "image/png": "[encoded data removed]",
      "text/plain": [
       "<Figure size 640x480 with 1 Axes>"
      ]
     },
     "metadata": {},
     "output_type": "display_data"
    }
   ],
   "source": [
    "sns.barplot(df_dados, x='Churn',y='tenure')"
   ]
  },
  {
   "cell_type": "code",
   "execution_count": 82,
   "id": "eb8d3743",
   "metadata": {},
   "outputs": [
    {
     "data": {
      "text/plain": [
       "<Axes: xlabel='Churn', ylabel='SeniorCitizen'>"
      ]
     },
     "execution_count": 82,
     "metadata": {},
     "output_type": "execute_result"
    },
    {
     "data": {
      "image/png": "[encoded data removed]",
      "text/plain": [
       "<Figure size 640x480 with 1 Axes>"
      ]
     },
     "metadata": {},
     "output_type": "display_data"
    }
   ],
   "source": [
    "sns.barplot(df_dados, x='Churn',y='SeniorCitizen')"
   ]
  },
  {
   "cell_type": "code",
   "execution_count": 87,
   "id": "db0a4fd0",
   "metadata": {},
   "outputs": [
    {
     "name": "stderr",
     "output_type": "stream",
     "text": [
      "C:\\Users\\vinic\\AppData\\Local\\Temp\\ipykernel_33476\\3802313106.py:1: FutureWarning: The default value of numeric_only in DataFrameGroupBy.mean is deprecated. In a future version, numeric_only will default to False. Either specify numeric_only or select only columns which should be valid for the function.\n",
      "  df_dados.groupby('Churn').mean()\n"
     ]
    },
    {
     "data": {
      "text/html": [
       "<div>\n",
       "<style scoped>\n",
       "    .dataframe tbody tr th:only-of-type {\n",
       "        vertical-align: middle;\n",
       "    }\n",
       "\n",
       "    .dataframe tbody tr th {\n",
       "        vertical-align: top;\n",
       "    }\n",
       "\n",
       "    .dataframe thead th {\n",
       "        text-align: right;\n",
       "    }\n",
       "</style>\n",
       "<table border=\"1\" class=\"dataframe\">\n",
       "  <thead>\n",
       "    <tr style=\"text-align: right;\">\n",
       "      <th></th>\n",
       "      <th>SeniorCitizen</th>\n",
       "      <th>tenure</th>\n",
       "      <th>MonthlyCharges</th>\n",
       "      <th>TotalCharges</th>\n",
       "    </tr>\n",
       "    <tr>\n",
       "      <th>Churn</th>\n",
       "      <th></th>\n",
       "      <th></th>\n",
       "      <th></th>\n",
       "      <th></th>\n",
       "    </tr>\n",
       "  </thead>\n",
       "  <tbody>\n",
       "    <tr>\n",
       "      <th>No</th>\n",
       "      <td>0.128721</td>\n",
       "      <td>37.569965</td>\n",
       "      <td>61.265124</td>\n",
       "      <td>2555.344141</td>\n",
       "    </tr>\n",
       "    <tr>\n",
       "      <th>Yes</th>\n",
       "      <td>0.254682</td>\n",
       "      <td>17.979133</td>\n",
       "      <td>74.441332</td>\n",
       "      <td>1531.796094</td>\n",
       "    </tr>\n",
       "  </tbody>\n",
       "</table>\n",
       "</div>"
      ],
      "text/plain": [
       "       SeniorCitizen     tenure  MonthlyCharges  TotalCharges\n",
       "Churn                                                        \n",
       "No          0.128721  37.569965       61.265124   2555.344141\n",
       "Yes         0.254682  17.979133       74.441332   1531.796094"
      ]
     },
     "execution_count": 87,
     "metadata": {},
     "output_type": "execute_result"
    }
   ],
   "source": [
    "df_dados.groupby('Churn').mean()"
   ]
  },
  {
   "cell_type": "code",
   "execution_count": 91,
   "id": "8aaf592e",
   "metadata": {},
   "outputs": [
    {
     "data": {
      "text/plain": [
       "array([118.75, 118.65, 118.6 , ...,  18.55,  18.4 ,  18.25])"
      ]
     },
     "execution_count": 91,
     "metadata": {},
     "output_type": "execute_result"
    }
   ],
   "source": [
    "df_dados['MonthlyCharges'].unique()"
   ]
  },
  {
   "cell_type": "markdown",
   "id": "6133042b",
   "metadata": {},
   "source": [
    "**Correlação dados categoricos**"
   ]
  },
  {
   "cell_type": "code",
   "execution_count": 95,
   "id": "e117dfa1",
   "metadata": {},
   "outputs": [
    {
     "data": {
      "image/png": "[encoded data removed]",
      "text/plain": [
       "<Figure size 1800x900 with 15 Axes>"
      ]
     },
     "metadata": {},
     "output_type": "display_data"
    }
   ],
   "source": [
    "num_cat = 15\n",
    "plt.figure(figsize=(18,9))\n",
    "\n",
    "cont = 1\n",
    "dict_pivot = {}\n",
    "for column in df_dados:\n",
    "    if df_dados[column].dtype == 'object' and column != 'customerID' and column != 'Churn':\n",
    "        df = pd.pivot_table(df_dados, values='customerID',index=[column], columns=['Churn'], aggfunc='count')\n",
    "        df = df.div(df.sum(axis=1),axis=0)  \n",
    "        dict_pivot[column] = df\n",
    "        \n",
    "        ax = plt.subplot(3,5,cont);\n",
    "        df.plot.bar(stacked=True, ax = ax, legend=False, title = column)\n",
    "        plt.subplots_adjust(hspace=0.5)\n",
    "        x_offset = -0.1\n",
    "        y_offset = -0.05\n",
    "        for p in ax.patches:\n",
    "            b = p.get_bbox()\n",
    "            val = \"{:.3f}\".format(round(b.y1 - b.y0,3))        \n",
    "            ax.annotate(val, ((b.x0 + b.x1)/2 + x_offset, b.y1 + y_offset));\n",
    "        cont += 1\n"
   ]
  },
  {
   "cell_type": "code",
   "execution_count": 96,
   "id": "38a45fc9",
   "metadata": {},
   "outputs": [
    {
     "data": {
      "text/html": [
       "<div>\n",
       "<style scoped>\n",
       "    .dataframe tbody tr th:only-of-type {\n",
       "        vertical-align: middle;\n",
       "    }\n",
       "\n",
       "    .dataframe tbody tr th {\n",
       "        vertical-align: top;\n",
       "    }\n",
       "\n",
       "    .dataframe thead th {\n",
       "        text-align: right;\n",
       "    }\n",
       "</style>\n",
       "<table border=\"1\" class=\"dataframe\">\n",
       "  <thead>\n",
       "    <tr style=\"text-align: right;\">\n",
       "      <th>Churn</th>\n",
       "      <th>No</th>\n",
       "      <th>Yes</th>\n",
       "    </tr>\n",
       "    <tr>\n",
       "      <th>TechSupport</th>\n",
       "      <th></th>\n",
       "      <th></th>\n",
       "    </tr>\n",
       "  </thead>\n",
       "  <tbody>\n",
       "    <tr>\n",
       "      <th>No</th>\n",
       "      <td>0.583645</td>\n",
       "      <td>0.416355</td>\n",
       "    </tr>\n",
       "    <tr>\n",
       "      <th>No internet service</th>\n",
       "      <td>0.925950</td>\n",
       "      <td>0.074050</td>\n",
       "    </tr>\n",
       "    <tr>\n",
       "      <th>Yes</th>\n",
       "      <td>0.848337</td>\n",
       "      <td>0.151663</td>\n",
       "    </tr>\n",
       "  </tbody>\n",
       "</table>\n",
       "</div>"
      ],
      "text/plain": [
       "Churn                      No       Yes\n",
       "TechSupport                            \n",
       "No                   0.583645  0.416355\n",
       "No internet service  0.925950  0.074050\n",
       "Yes                  0.848337  0.151663"
      ]
     },
     "execution_count": 96,
     "metadata": {},
     "output_type": "execute_result"
    }
   ],
   "source": [
    "dict_pivot['TechSupport']"
   ]
  },
  {
   "cell_type": "code",
   "execution_count": 97,
   "id": "5b5474d6",
   "metadata": {},
   "outputs": [
    {
     "data": {
      "text/html": [
       "<div>\n",
       "<style scoped>\n",
       "    .dataframe tbody tr th:only-of-type {\n",
       "        vertical-align: middle;\n",
       "    }\n",
       "\n",
       "    .dataframe tbody tr th {\n",
       "        vertical-align: top;\n",
       "    }\n",
       "\n",
       "    .dataframe thead th {\n",
       "        text-align: right;\n",
       "    }\n",
       "</style>\n",
       "<table border=\"1\" class=\"dataframe\">\n",
       "  <thead>\n",
       "    <tr style=\"text-align: right;\">\n",
       "      <th>Churn</th>\n",
       "      <th>No</th>\n",
       "      <th>Yes</th>\n",
       "    </tr>\n",
       "    <tr>\n",
       "      <th>Partner</th>\n",
       "      <th></th>\n",
       "      <th></th>\n",
       "    </tr>\n",
       "  </thead>\n",
       "  <tbody>\n",
       "    <tr>\n",
       "      <th>No</th>\n",
       "      <td>0.670420</td>\n",
       "      <td>0.329580</td>\n",
       "    </tr>\n",
       "    <tr>\n",
       "      <th>Yes</th>\n",
       "      <td>0.803351</td>\n",
       "      <td>0.196649</td>\n",
       "    </tr>\n",
       "  </tbody>\n",
       "</table>\n",
       "</div>"
      ],
      "text/plain": [
       "Churn          No       Yes\n",
       "Partner                    \n",
       "No       0.670420  0.329580\n",
       "Yes      0.803351  0.196649"
      ]
     },
     "execution_count": 97,
     "metadata": {},
     "output_type": "execute_result"
    }
   ],
   "source": [
    "dict_pivot['Partner']"
   ]
  },
  {
   "cell_type": "code",
   "execution_count": 98,
   "id": "3919a44e",
   "metadata": {},
   "outputs": [
    {
     "data": {
      "text/html": [
       "<div>\n",
       "<style scoped>\n",
       "    .dataframe tbody tr th:only-of-type {\n",
       "        vertical-align: middle;\n",
       "    }\n",
       "\n",
       "    .dataframe tbody tr th {\n",
       "        vertical-align: top;\n",
       "    }\n",
       "\n",
       "    .dataframe thead th {\n",
       "        text-align: right;\n",
       "    }\n",
       "</style>\n",
       "<table border=\"1\" class=\"dataframe\">\n",
       "  <thead>\n",
       "    <tr style=\"text-align: right;\">\n",
       "      <th>Churn</th>\n",
       "      <th>No</th>\n",
       "      <th>Yes</th>\n",
       "    </tr>\n",
       "    <tr>\n",
       "      <th>InternetService</th>\n",
       "      <th></th>\n",
       "      <th></th>\n",
       "    </tr>\n",
       "  </thead>\n",
       "  <tbody>\n",
       "    <tr>\n",
       "      <th>DSL</th>\n",
       "      <td>0.810409</td>\n",
       "      <td>0.189591</td>\n",
       "    </tr>\n",
       "    <tr>\n",
       "      <th>Fiber optic</th>\n",
       "      <td>0.581072</td>\n",
       "      <td>0.418928</td>\n",
       "    </tr>\n",
       "    <tr>\n",
       "      <th>No</th>\n",
       "      <td>0.925950</td>\n",
       "      <td>0.074050</td>\n",
       "    </tr>\n",
       "  </tbody>\n",
       "</table>\n",
       "</div>"
      ],
      "text/plain": [
       "Churn                  No       Yes\n",
       "InternetService                    \n",
       "DSL              0.810409  0.189591\n",
       "Fiber optic      0.581072  0.418928\n",
       "No               0.925950  0.074050"
      ]
     },
     "execution_count": 98,
     "metadata": {},
     "output_type": "execute_result"
    }
   ],
   "source": [
    "dict_pivot['InternetService']"
   ]
  },
  {
   "cell_type": "code",
   "execution_count": 99,
   "id": "8e0fd197",
   "metadata": {},
   "outputs": [
    {
     "data": {
      "text/html": [
       "<div>\n",
       "<style scoped>\n",
       "    .dataframe tbody tr th:only-of-type {\n",
       "        vertical-align: middle;\n",
       "    }\n",
       "\n",
       "    .dataframe tbody tr th {\n",
       "        vertical-align: top;\n",
       "    }\n",
       "\n",
       "    .dataframe thead th {\n",
       "        text-align: right;\n",
       "    }\n",
       "</style>\n",
       "<table border=\"1\" class=\"dataframe\">\n",
       "  <thead>\n",
       "    <tr style=\"text-align: right;\">\n",
       "      <th>Churn</th>\n",
       "      <th>No</th>\n",
       "      <th>Yes</th>\n",
       "    </tr>\n",
       "    <tr>\n",
       "      <th>PaymentMethod</th>\n",
       "      <th></th>\n",
       "      <th></th>\n",
       "    </tr>\n",
       "  </thead>\n",
       "  <tbody>\n",
       "    <tr>\n",
       "      <th>Bank transfer (automatic)</th>\n",
       "      <td>0.832902</td>\n",
       "      <td>0.167098</td>\n",
       "    </tr>\n",
       "    <tr>\n",
       "      <th>Credit card (automatic)</th>\n",
       "      <td>0.847569</td>\n",
       "      <td>0.152431</td>\n",
       "    </tr>\n",
       "    <tr>\n",
       "      <th>Electronic check</th>\n",
       "      <td>0.547146</td>\n",
       "      <td>0.452854</td>\n",
       "    </tr>\n",
       "    <tr>\n",
       "      <th>Mailed check</th>\n",
       "      <td>0.808933</td>\n",
       "      <td>0.191067</td>\n",
       "    </tr>\n",
       "  </tbody>\n",
       "</table>\n",
       "</div>"
      ],
      "text/plain": [
       "Churn                            No       Yes\n",
       "PaymentMethod                                \n",
       "Bank transfer (automatic)  0.832902  0.167098\n",
       "Credit card (automatic)    0.847569  0.152431\n",
       "Electronic check           0.547146  0.452854\n",
       "Mailed check               0.808933  0.191067"
      ]
     },
     "execution_count": 99,
     "metadata": {},
     "output_type": "execute_result"
    }
   ],
   "source": [
    "dict_pivot['PaymentMethod']"
   ]
  },
  {
   "cell_type": "markdown",
   "id": "9fc28987",
   "metadata": {},
   "source": [
    "# 3. Pre-Processing v1"
   ]
  },
  {
   "cell_type": "code",
   "execution_count": 12,
   "id": "cf2fdd34",
   "metadata": {},
   "outputs": [],
   "source": [
    "from sklearn.model_selection import cross_val_score"
   ]
  },
  {
   "cell_type": "code",
   "execution_count": 13,
   "id": "b9cf7957",
   "metadata": {},
   "outputs": [],
   "source": [
    "from sklearn.ensemble import RandomForestClassifier\n",
    "from sklearn.tree import DecisionTreeClassifier\n",
    "from sklearn.neural_network import MLPClassifier\n",
    "from sklearn.svm import SVC\n",
    "from xgboost import XGBClassifier"
   ]
  },
  {
   "cell_type": "markdown",
   "id": "9871a3ff",
   "metadata": {},
   "source": [
    "**Limpando os dados**"
   ]
  },
  {
   "cell_type": "code",
   "execution_count": 14,
   "id": "50bc25f0",
   "metadata": {},
   "outputs": [],
   "source": [
    "def sep_data(df, y_column='Churn'):\n",
    "    X = df.copy()\n",
    "    y = X.pop(y_column)\n",
    "    return X,y\n",
    "\n",
    "def preprocessing_data(df, y_column='Churn', remove_columns=['customerID']):\n",
    "    X,y = sep_data(df, y_column)\n",
    "    # Convertendo y para inteiro  \n",
    "    y = np.where(y == 'No', 0, 1)\n",
    "    # Removendo colunas irrelevantes  \n",
    "    X = X.drop(remove_columns, axis=1)\n",
    "    # Convertendo dados texto para inteiro\n",
    "    X = pd.get_dummies(X)\n",
    "    X = X.fillna(0)\n",
    "    return X,y"
   ]
  },
  {
   "cell_type": "code",
   "execution_count": 15,
   "id": "800f5253",
   "metadata": {},
   "outputs": [],
   "source": [
    "X,y = preprocessing_data(df_dados)"
   ]
  },
  {
   "cell_type": "markdown",
   "id": "19ce962b",
   "metadata": {},
   "source": [
    "#  4. Criando Baseline e fluxo de machine learning"
   ]
  },
  {
   "cell_type": "markdown",
   "id": "df9eb3af",
   "metadata": {},
   "source": [
    "**Testando algoritmos**"
   ]
  },
  {
   "cell_type": "code",
   "execution_count": 16,
   "id": "c58281c0",
   "metadata": {},
   "outputs": [],
   "source": [
    "dict_algo = {'RF':RandomForestClassifier(),\n",
    "             'XGbost': XGBClassifier(),\n",
    "             'DecisionTree': DecisionTreeClassifier(),\n",
    "             'Perceptron': MLPClassifier(max_iter=700),\n",
    "             'SVC':SVC()}"
   ]
  },
  {
   "cell_type": "code",
   "execution_count": 17,
   "id": "0ef8e22b",
   "metadata": {},
   "outputs": [
    {
     "name": "stdout",
     "output_type": "stream",
     "text": [
      "RF...\n",
      "XGbost...\n",
      "DecisionTree...\n",
      "Perceptron...\n",
      "SVC...\n"
     ]
    }
   ],
   "source": [
    "dict_scores = {}\n",
    "list_time = []\n",
    "for algo_name in dict_algo:\n",
    "    print(f'{algo_name}...')\n",
    "    clf = dict_algo[algo_name]\n",
    "    start_time = time.time()\n",
    "    scores = cross_val_score(clf, X, y, cv=5, scoring='f1')\n",
    "    end_time = time.time()\n",
    "    list_time.append(end_time-start_time)\n",
    "    dict_scores[algo_name] = scores"
   ]
  },
  {
   "cell_type": "code",
   "execution_count": 18,
   "id": "f8ecc896",
   "metadata": {},
   "outputs": [
    {
     "data": {
      "text/html": [
       "<div>\n",
       "<style scoped>\n",
       "    .dataframe tbody tr th:only-of-type {\n",
       "        vertical-align: middle;\n",
       "    }\n",
       "\n",
       "    .dataframe tbody tr th {\n",
       "        vertical-align: top;\n",
       "    }\n",
       "\n",
       "    .dataframe thead th {\n",
       "        text-align: right;\n",
       "    }\n",
       "</style>\n",
       "<table border=\"1\" class=\"dataframe\">\n",
       "  <thead>\n",
       "    <tr style=\"text-align: right;\">\n",
       "      <th></th>\n",
       "      <th>0</th>\n",
       "      <th>1</th>\n",
       "      <th>2</th>\n",
       "      <th>3</th>\n",
       "      <th>4</th>\n",
       "      <th>Mean</th>\n",
       "      <th>Time</th>\n",
       "    </tr>\n",
       "  </thead>\n",
       "  <tbody>\n",
       "    <tr>\n",
       "      <th>RF</th>\n",
       "      <td>0.424829</td>\n",
       "      <td>0.416580</td>\n",
       "      <td>0.052632</td>\n",
       "      <td>0.049759</td>\n",
       "      <td>0.005333</td>\n",
       "      <td>0.189827</td>\n",
       "      <td>3.471956</td>\n",
       "    </tr>\n",
       "    <tr>\n",
       "      <th>XGbost</th>\n",
       "      <td>0.420461</td>\n",
       "      <td>0.197685</td>\n",
       "      <td>0.008975</td>\n",
       "      <td>0.046757</td>\n",
       "      <td>0.005333</td>\n",
       "      <td>0.135842</td>\n",
       "      <td>1.742210</td>\n",
       "    </tr>\n",
       "    <tr>\n",
       "      <th>DecisionTree</th>\n",
       "      <td>0.420934</td>\n",
       "      <td>0.240253</td>\n",
       "      <td>0.011670</td>\n",
       "      <td>0.060124</td>\n",
       "      <td>0.005333</td>\n",
       "      <td>0.147663</td>\n",
       "      <td>0.229474</td>\n",
       "    </tr>\n",
       "    <tr>\n",
       "      <th>Perceptron</th>\n",
       "      <td>0.310559</td>\n",
       "      <td>0.603070</td>\n",
       "      <td>0.503185</td>\n",
       "      <td>0.430859</td>\n",
       "      <td>0.005333</td>\n",
       "      <td>0.370601</td>\n",
       "      <td>3.920732</td>\n",
       "    </tr>\n",
       "    <tr>\n",
       "      <th>SVC</th>\n",
       "      <td>0.000000</td>\n",
       "      <td>0.000000</td>\n",
       "      <td>0.000000</td>\n",
       "      <td>0.000000</td>\n",
       "      <td>0.000000</td>\n",
       "      <td>0.000000</td>\n",
       "      <td>9.041460</td>\n",
       "    </tr>\n",
       "  </tbody>\n",
       "</table>\n",
       "</div>"
      ],
      "text/plain": [
       "                     0         1         2         3         4      Mean  \\\n",
       "RF            0.424829  0.416580  0.052632  0.049759  0.005333  0.189827   \n",
       "XGbost        0.420461  0.197685  0.008975  0.046757  0.005333  0.135842   \n",
       "DecisionTree  0.420934  0.240253  0.011670  0.060124  0.005333  0.147663   \n",
       "Perceptron    0.310559  0.603070  0.503185  0.430859  0.005333  0.370601   \n",
       "SVC           0.000000  0.000000  0.000000  0.000000  0.000000  0.000000   \n",
       "\n",
       "                  Time  \n",
       "RF            3.471956  \n",
       "XGbost        1.742210  \n",
       "DecisionTree  0.229474  \n",
       "Perceptron    3.920732  \n",
       "SVC           9.041460  "
      ]
     },
     "execution_count": 18,
     "metadata": {},
     "output_type": "execute_result"
    }
   ],
   "source": [
    "df_scores = pd.DataFrame(dict_scores).transpose()\n",
    "df_scores['Mean'] = df_scores.mean(axis=1)\n",
    "df_scores['Time'] = list_time\n",
    "df_scores"
   ]
  },
  {
   "cell_type": "markdown",
   "id": "235a5e68",
   "metadata": {},
   "source": [
    "**Criando função para auxiliar os proximos passos**"
   ]
  },
  {
   "cell_type": "code",
   "execution_count": 19,
   "id": "40af5a48",
   "metadata": {},
   "outputs": [],
   "source": [
    "def test_algos(dict_algo, X, y, scoring='f1', random_seed=0):\n",
    "    #Garante que todos os exemplos tenham as mesmas divisões\n",
    "    np.random.seed(random_seed)\n",
    "    dict_scores = {}\n",
    "    list_time = []\n",
    "    for algo_name in dict_algo:\n",
    "        print(f'{algo_name}...')\n",
    "        clf = dict_algo[algo_name]\n",
    "        start_time = time.time()\n",
    "        scores = cross_val_score(clf, X, y, cv=5, scoring=scoring)\n",
    "        end_time = time.time()\n",
    "        dict_scores[algo_name] = scores\n",
    "        list_time.append(end_time - start_time)\n",
    "    df_scores = pd.DataFrame(dict_scores).transpose()\n",
    "    df_scores['Mean'] = df_scores.mean(axis=1)\n",
    "    df_scores['Time'] = list_time\n",
    "    return df_scores"
   ]
  },
  {
   "cell_type": "markdown",
   "id": "b3eab1b2",
   "metadata": {},
   "source": [
    "**Criando Função para comparar modelos**"
   ]
  },
  {
   "cell_type": "code",
   "execution_count": 20,
   "id": "91ddc410",
   "metadata": {},
   "outputs": [],
   "source": [
    "columns=['best_model', 'best_score', 'mean_score','std_score','mean_time','std_time','time_best_alg']\n",
    "df_models_comparation = pd.DataFrame(columns=columns)\n",
    "\n",
    "def add_score(df_scores, name_test, df_models_comparation=df_models_comparation, columns=columns):\n",
    "    best_model = df_scores['Mean'].idxmax()\n",
    "    best_score = df_scores['Mean'].max()\n",
    "    mean_score = df_scores['Mean'].mean()\n",
    "    std_score = df_scores['Mean'].std()\n",
    "    mean_time = df_scores['Time'].mean()\n",
    "    std_time = df_scores['Time'].std()\n",
    "    min_time = df_scores['Time'][best_model]\n",
    "    df_line = pd.DataFrame([[best_model, best_score, mean_score, std_score, mean_time, std_time, min_time]], \n",
    "                             columns=columns, index=[name_test])\n",
    "    df_output = pd.concat([df_models_comparation, df_line])\n",
    "    return df_output"
   ]
  },
  {
   "cell_type": "markdown",
   "id": "7e38f8e0",
   "metadata": {},
   "source": [
    "**Testando função**"
   ]
  },
  {
   "cell_type": "code",
   "execution_count": 21,
   "id": "1d66e257",
   "metadata": {},
   "outputs": [
    {
     "name": "stdout",
     "output_type": "stream",
     "text": [
      "RF...\n",
      "XGbost...\n",
      "DecisionTree...\n",
      "Perceptron...\n",
      "SVC...\n"
     ]
    },
    {
     "data": {
      "text/html": [
       "<div>\n",
       "<style scoped>\n",
       "    .dataframe tbody tr th:only-of-type {\n",
       "        vertical-align: middle;\n",
       "    }\n",
       "\n",
       "    .dataframe tbody tr th {\n",
       "        vertical-align: top;\n",
       "    }\n",
       "\n",
       "    .dataframe thead th {\n",
       "        text-align: right;\n",
       "    }\n",
       "</style>\n",
       "<table border=\"1\" class=\"dataframe\">\n",
       "  <thead>\n",
       "    <tr style=\"text-align: right;\">\n",
       "      <th></th>\n",
       "      <th>0</th>\n",
       "      <th>1</th>\n",
       "      <th>2</th>\n",
       "      <th>3</th>\n",
       "      <th>4</th>\n",
       "      <th>Mean</th>\n",
       "      <th>Time</th>\n",
       "    </tr>\n",
       "  </thead>\n",
       "  <tbody>\n",
       "    <tr>\n",
       "      <th>RF</th>\n",
       "      <td>0.424829</td>\n",
       "      <td>0.416580</td>\n",
       "      <td>0.052632</td>\n",
       "      <td>0.049759</td>\n",
       "      <td>0.005333</td>\n",
       "      <td>0.189827</td>\n",
       "      <td>3.907552</td>\n",
       "    </tr>\n",
       "    <tr>\n",
       "      <th>XGbost</th>\n",
       "      <td>0.420461</td>\n",
       "      <td>0.197685</td>\n",
       "      <td>0.008975</td>\n",
       "      <td>0.046757</td>\n",
       "      <td>0.005333</td>\n",
       "      <td>0.135842</td>\n",
       "      <td>1.715513</td>\n",
       "    </tr>\n",
       "    <tr>\n",
       "      <th>DecisionTree</th>\n",
       "      <td>0.420934</td>\n",
       "      <td>0.240253</td>\n",
       "      <td>0.011670</td>\n",
       "      <td>0.060124</td>\n",
       "      <td>0.005333</td>\n",
       "      <td>0.147663</td>\n",
       "      <td>0.216371</td>\n",
       "    </tr>\n",
       "    <tr>\n",
       "      <th>Perceptron</th>\n",
       "      <td>0.310559</td>\n",
       "      <td>0.603070</td>\n",
       "      <td>0.503185</td>\n",
       "      <td>0.430859</td>\n",
       "      <td>0.005333</td>\n",
       "      <td>0.370601</td>\n",
       "      <td>3.863168</td>\n",
       "    </tr>\n",
       "    <tr>\n",
       "      <th>SVC</th>\n",
       "      <td>0.000000</td>\n",
       "      <td>0.000000</td>\n",
       "      <td>0.000000</td>\n",
       "      <td>0.000000</td>\n",
       "      <td>0.000000</td>\n",
       "      <td>0.000000</td>\n",
       "      <td>8.963307</td>\n",
       "    </tr>\n",
       "  </tbody>\n",
       "</table>\n",
       "</div>"
      ],
      "text/plain": [
       "                     0         1         2         3         4      Mean  \\\n",
       "RF            0.424829  0.416580  0.052632  0.049759  0.005333  0.189827   \n",
       "XGbost        0.420461  0.197685  0.008975  0.046757  0.005333  0.135842   \n",
       "DecisionTree  0.420934  0.240253  0.011670  0.060124  0.005333  0.147663   \n",
       "Perceptron    0.310559  0.603070  0.503185  0.430859  0.005333  0.370601   \n",
       "SVC           0.000000  0.000000  0.000000  0.000000  0.000000  0.000000   \n",
       "\n",
       "                  Time  \n",
       "RF            3.907552  \n",
       "XGbost        1.715513  \n",
       "DecisionTree  0.216371  \n",
       "Perceptron    3.863168  \n",
       "SVC           8.963307  "
      ]
     },
     "execution_count": 21,
     "metadata": {},
     "output_type": "execute_result"
    }
   ],
   "source": [
    "df_scores = test_algos(dict_algo, X, y)\n",
    "df_scores"
   ]
  },
  {
   "cell_type": "code",
   "execution_count": 22,
   "id": "6b544f4d",
   "metadata": {},
   "outputs": [
    {
     "data": {
      "text/html": [
       "<div>\n",
       "<style scoped>\n",
       "    .dataframe tbody tr th:only-of-type {\n",
       "        vertical-align: middle;\n",
       "    }\n",
       "\n",
       "    .dataframe tbody tr th {\n",
       "        vertical-align: top;\n",
       "    }\n",
       "\n",
       "    .dataframe thead th {\n",
       "        text-align: right;\n",
       "    }\n",
       "</style>\n",
       "<table border=\"1\" class=\"dataframe\">\n",
       "  <thead>\n",
       "    <tr style=\"text-align: right;\">\n",
       "      <th></th>\n",
       "      <th>best_model</th>\n",
       "      <th>best_score</th>\n",
       "      <th>mean_score</th>\n",
       "      <th>std_score</th>\n",
       "      <th>mean_time</th>\n",
       "      <th>std_time</th>\n",
       "      <th>time_best_alg</th>\n",
       "    </tr>\n",
       "  </thead>\n",
       "  <tbody>\n",
       "    <tr>\n",
       "      <th>df_scores</th>\n",
       "      <td>Perceptron</td>\n",
       "      <td>0.370601</td>\n",
       "      <td>0.168787</td>\n",
       "      <td>0.133409</td>\n",
       "      <td>3.733182</td>\n",
       "      <td>3.310607</td>\n",
       "      <td>3.863168</td>\n",
       "    </tr>\n",
       "  </tbody>\n",
       "</table>\n",
       "</div>"
      ],
      "text/plain": [
       "           best_model  best_score  mean_score  std_score  mean_time  std_time  \\\n",
       "df_scores  Perceptron    0.370601    0.168787   0.133409   3.733182  3.310607   \n",
       "\n",
       "           time_best_alg  \n",
       "df_scores       3.863168  "
      ]
     },
     "execution_count": 22,
     "metadata": {},
     "output_type": "execute_result"
    }
   ],
   "source": [
    "df_models_comparation = add_score(df_scores, 'df_scores', df_models_comparation)\n",
    "df_models_comparation"
   ]
  },
  {
   "cell_type": "markdown",
   "id": "abaf353b",
   "metadata": {},
   "source": [
    "# 4. Melhorando Base "
   ]
  },
  {
   "cell_type": "markdown",
   "id": "a5eff0a1",
   "metadata": {},
   "source": [
    "**Balaceando target**"
   ]
  },
  {
   "cell_type": "code",
   "execution_count": 23,
   "id": "b47160ca",
   "metadata": {},
   "outputs": [],
   "source": [
    "df_dados_true = df_dados[df_dados['Churn'] == 'Yes'] \n",
    "df_dados_false = df_dados[df_dados['Churn'] == 'No']\n",
    "df_balanced = pd.concat([df_dados_false[:len(df_dados_true)], df_dados_true]).sample(frac = 1)"
   ]
  },
  {
   "cell_type": "code",
   "execution_count": 24,
   "id": "0df3e30b",
   "metadata": {},
   "outputs": [],
   "source": [
    "X_balanced, y_balanced = preprocessing_data(df_balanced)"
   ]
  },
  {
   "cell_type": "code",
   "execution_count": 25,
   "id": "160315ca",
   "metadata": {},
   "outputs": [
    {
     "name": "stdout",
     "output_type": "stream",
     "text": [
      "RF...\n",
      "XGbost...\n",
      "DecisionTree...\n",
      "Perceptron...\n",
      "SVC...\n"
     ]
    },
    {
     "data": {
      "text/html": [
       "<div>\n",
       "<style scoped>\n",
       "    .dataframe tbody tr th:only-of-type {\n",
       "        vertical-align: middle;\n",
       "    }\n",
       "\n",
       "    .dataframe tbody tr th {\n",
       "        vertical-align: top;\n",
       "    }\n",
       "\n",
       "    .dataframe thead th {\n",
       "        text-align: right;\n",
       "    }\n",
       "</style>\n",
       "<table border=\"1\" class=\"dataframe\">\n",
       "  <thead>\n",
       "    <tr style=\"text-align: right;\">\n",
       "      <th></th>\n",
       "      <th>0</th>\n",
       "      <th>1</th>\n",
       "      <th>2</th>\n",
       "      <th>3</th>\n",
       "      <th>4</th>\n",
       "      <th>Mean</th>\n",
       "      <th>Time</th>\n",
       "    </tr>\n",
       "  </thead>\n",
       "  <tbody>\n",
       "    <tr>\n",
       "      <th>RF</th>\n",
       "      <td>0.816552</td>\n",
       "      <td>0.805556</td>\n",
       "      <td>0.770745</td>\n",
       "      <td>0.808276</td>\n",
       "      <td>0.809328</td>\n",
       "      <td>0.802091</td>\n",
       "      <td>2.319650</td>\n",
       "    </tr>\n",
       "    <tr>\n",
       "      <th>XGbost</th>\n",
       "      <td>0.809264</td>\n",
       "      <td>0.779330</td>\n",
       "      <td>0.776371</td>\n",
       "      <td>0.785226</td>\n",
       "      <td>0.807163</td>\n",
       "      <td>0.791471</td>\n",
       "      <td>1.226189</td>\n",
       "    </tr>\n",
       "    <tr>\n",
       "      <th>DecisionTree</th>\n",
       "      <td>0.769025</td>\n",
       "      <td>0.729443</td>\n",
       "      <td>0.738095</td>\n",
       "      <td>0.768838</td>\n",
       "      <td>0.762155</td>\n",
       "      <td>0.753511</td>\n",
       "      <td>0.125600</td>\n",
       "    </tr>\n",
       "    <tr>\n",
       "      <th>Perceptron</th>\n",
       "      <td>0.759825</td>\n",
       "      <td>0.723697</td>\n",
       "      <td>0.753623</td>\n",
       "      <td>0.695327</td>\n",
       "      <td>0.792079</td>\n",
       "      <td>0.744910</td>\n",
       "      <td>2.341519</td>\n",
       "    </tr>\n",
       "    <tr>\n",
       "      <th>SVC</th>\n",
       "      <td>0.787551</td>\n",
       "      <td>0.771151</td>\n",
       "      <td>0.756164</td>\n",
       "      <td>0.779706</td>\n",
       "      <td>0.771350</td>\n",
       "      <td>0.773184</td>\n",
       "      <td>2.484144</td>\n",
       "    </tr>\n",
       "  </tbody>\n",
       "</table>\n",
       "</div>"
      ],
      "text/plain": [
       "                     0         1         2         3         4      Mean  \\\n",
       "RF            0.816552  0.805556  0.770745  0.808276  0.809328  0.802091   \n",
       "XGbost        0.809264  0.779330  0.776371  0.785226  0.807163  0.791471   \n",
       "DecisionTree  0.769025  0.729443  0.738095  0.768838  0.762155  0.753511   \n",
       "Perceptron    0.759825  0.723697  0.753623  0.695327  0.792079  0.744910   \n",
       "SVC           0.787551  0.771151  0.756164  0.779706  0.771350  0.773184   \n",
       "\n",
       "                  Time  \n",
       "RF            2.319650  \n",
       "XGbost        1.226189  \n",
       "DecisionTree  0.125600  \n",
       "Perceptron    2.341519  \n",
       "SVC           2.484144  "
      ]
     },
     "execution_count": 25,
     "metadata": {},
     "output_type": "execute_result"
    }
   ],
   "source": [
    "df_balanced_score = test_algos(dict_algo, X_balanced, y_balanced)\n",
    "df_balanced_score"
   ]
  },
  {
   "cell_type": "code",
   "execution_count": 26,
   "id": "68eb4736",
   "metadata": {},
   "outputs": [
    {
     "data": {
      "text/html": [
       "<div>\n",
       "<style scoped>\n",
       "    .dataframe tbody tr th:only-of-type {\n",
       "        vertical-align: middle;\n",
       "    }\n",
       "\n",
       "    .dataframe tbody tr th {\n",
       "        vertical-align: top;\n",
       "    }\n",
       "\n",
       "    .dataframe thead th {\n",
       "        text-align: right;\n",
       "    }\n",
       "</style>\n",
       "<table border=\"1\" class=\"dataframe\">\n",
       "  <thead>\n",
       "    <tr style=\"text-align: right;\">\n",
       "      <th></th>\n",
       "      <th>best_model</th>\n",
       "      <th>best_score</th>\n",
       "      <th>mean_score</th>\n",
       "      <th>std_score</th>\n",
       "      <th>mean_time</th>\n",
       "      <th>std_time</th>\n",
       "      <th>time_best_alg</th>\n",
       "    </tr>\n",
       "  </thead>\n",
       "  <tbody>\n",
       "    <tr>\n",
       "      <th>df_scores</th>\n",
       "      <td>Perceptron</td>\n",
       "      <td>0.370601</td>\n",
       "      <td>0.168787</td>\n",
       "      <td>0.133409</td>\n",
       "      <td>3.733182</td>\n",
       "      <td>3.310607</td>\n",
       "      <td>3.863168</td>\n",
       "    </tr>\n",
       "    <tr>\n",
       "      <th>df_balanced_score</th>\n",
       "      <td>RF</td>\n",
       "      <td>0.802091</td>\n",
       "      <td>0.773034</td>\n",
       "      <td>0.024271</td>\n",
       "      <td>1.699420</td>\n",
       "      <td>1.014104</td>\n",
       "      <td>2.319650</td>\n",
       "    </tr>\n",
       "  </tbody>\n",
       "</table>\n",
       "</div>"
      ],
      "text/plain": [
       "                   best_model  best_score  mean_score  std_score  mean_time  \\\n",
       "df_scores          Perceptron    0.370601    0.168787   0.133409   3.733182   \n",
       "df_balanced_score          RF    0.802091    0.773034   0.024271   1.699420   \n",
       "\n",
       "                   std_time  time_best_alg  \n",
       "df_scores          3.310607       3.863168  \n",
       "df_balanced_score  1.014104       2.319650  "
      ]
     },
     "execution_count": 26,
     "metadata": {},
     "output_type": "execute_result"
    }
   ],
   "source": [
    "df_models_comparation = add_score(df_balanced_score, 'df_balanced_score', df_models_comparation)\n",
    "df_models_comparation"
   ]
  },
  {
   "cell_type": "markdown",
   "id": "d6827b6c",
   "metadata": {},
   "source": [
    "**Standardization dados**"
   ]
  },
  {
   "cell_type": "code",
   "execution_count": 27,
   "id": "c9ff6d0c",
   "metadata": {},
   "outputs": [],
   "source": [
    "from sklearn.preprocessing import StandardScaler"
   ]
  },
  {
   "cell_type": "code",
   "execution_count": 28,
   "id": "cec12b5b",
   "metadata": {},
   "outputs": [
    {
     "name": "stdout",
     "output_type": "stream",
     "text": [
      "SeniorCitizen\n",
      "tenure\n",
      "MonthlyCharges\n",
      "TotalCharges\n"
     ]
    }
   ],
   "source": [
    "df_stand = df_balanced.copy()\n",
    "\n",
    "numerical_columns ='SeniorCitizen', 'tenure', 'MonthlyCharges', 'TotalCharges'\n",
    "for column in numerical_columns:\n",
    "    print(column)\n",
    "    scaler = StandardScaler()\n",
    "    column_trans = scaler.fit_transform(df_stand[[column]])\n",
    "    df_stand[column] = np.squeeze(column_trans, axis=1)"
   ]
  },
  {
   "cell_type": "code",
   "execution_count": 29,
   "id": "6481bb46",
   "metadata": {},
   "outputs": [],
   "source": [
    "X_stand, y_stand = preprocessing_data(df_stand)"
   ]
  },
  {
   "cell_type": "code",
   "execution_count": 30,
   "id": "e6482b53",
   "metadata": {},
   "outputs": [
    {
     "name": "stdout",
     "output_type": "stream",
     "text": [
      "RF...\n",
      "XGbost...\n",
      "DecisionTree...\n",
      "Perceptron...\n"
     ]
    },
    {
     "name": "stderr",
     "output_type": "stream",
     "text": [
      "C:\\Users\\vinic\\anaconda3\\lib\\site-packages\\sklearn\\neural_network\\_multilayer_perceptron.py:679: ConvergenceWarning: Stochastic Optimizer: Maximum iterations (700) reached and the optimization hasn't converged yet.\n",
      "  warnings.warn(\n"
     ]
    },
    {
     "name": "stdout",
     "output_type": "stream",
     "text": [
      "SVC...\n"
     ]
    },
    {
     "data": {
      "text/html": [
       "<div>\n",
       "<style scoped>\n",
       "    .dataframe tbody tr th:only-of-type {\n",
       "        vertical-align: middle;\n",
       "    }\n",
       "\n",
       "    .dataframe tbody tr th {\n",
       "        vertical-align: top;\n",
       "    }\n",
       "\n",
       "    .dataframe thead th {\n",
       "        text-align: right;\n",
       "    }\n",
       "</style>\n",
       "<table border=\"1\" class=\"dataframe\">\n",
       "  <thead>\n",
       "    <tr style=\"text-align: right;\">\n",
       "      <th></th>\n",
       "      <th>0</th>\n",
       "      <th>1</th>\n",
       "      <th>2</th>\n",
       "      <th>3</th>\n",
       "      <th>4</th>\n",
       "      <th>Mean</th>\n",
       "      <th>Time</th>\n",
       "    </tr>\n",
       "  </thead>\n",
       "  <tbody>\n",
       "    <tr>\n",
       "      <th>RF</th>\n",
       "      <td>0.816552</td>\n",
       "      <td>0.792768</td>\n",
       "      <td>0.767932</td>\n",
       "      <td>0.809458</td>\n",
       "      <td>0.804408</td>\n",
       "      <td>0.798223</td>\n",
       "      <td>2.368828</td>\n",
       "    </tr>\n",
       "    <tr>\n",
       "      <th>XGbost</th>\n",
       "      <td>0.819892</td>\n",
       "      <td>0.782369</td>\n",
       "      <td>0.776371</td>\n",
       "      <td>0.786885</td>\n",
       "      <td>0.795640</td>\n",
       "      <td>0.792232</td>\n",
       "      <td>1.223599</td>\n",
       "    </tr>\n",
       "    <tr>\n",
       "      <th>DecisionTree</th>\n",
       "      <td>0.770667</td>\n",
       "      <td>0.725828</td>\n",
       "      <td>0.739073</td>\n",
       "      <td>0.764479</td>\n",
       "      <td>0.761905</td>\n",
       "      <td>0.752390</td>\n",
       "      <td>0.125438</td>\n",
       "    </tr>\n",
       "    <tr>\n",
       "      <th>Perceptron</th>\n",
       "      <td>0.785515</td>\n",
       "      <td>0.774366</td>\n",
       "      <td>0.737430</td>\n",
       "      <td>0.775956</td>\n",
       "      <td>0.766977</td>\n",
       "      <td>0.768049</td>\n",
       "      <td>51.309637</td>\n",
       "    </tr>\n",
       "    <tr>\n",
       "      <th>SVC</th>\n",
       "      <td>0.824011</td>\n",
       "      <td>0.792916</td>\n",
       "      <td>0.789189</td>\n",
       "      <td>0.812921</td>\n",
       "      <td>0.809328</td>\n",
       "      <td>0.805673</td>\n",
       "      <td>2.243395</td>\n",
       "    </tr>\n",
       "  </tbody>\n",
       "</table>\n",
       "</div>"
      ],
      "text/plain": [
       "                     0         1         2         3         4      Mean  \\\n",
       "RF            0.816552  0.792768  0.767932  0.809458  0.804408  0.798223   \n",
       "XGbost        0.819892  0.782369  0.776371  0.786885  0.795640  0.792232   \n",
       "DecisionTree  0.770667  0.725828  0.739073  0.764479  0.761905  0.752390   \n",
       "Perceptron    0.785515  0.774366  0.737430  0.775956  0.766977  0.768049   \n",
       "SVC           0.824011  0.792916  0.789189  0.812921  0.809328  0.805673   \n",
       "\n",
       "                   Time  \n",
       "RF             2.368828  \n",
       "XGbost         1.223599  \n",
       "DecisionTree   0.125438  \n",
       "Perceptron    51.309637  \n",
       "SVC            2.243395  "
      ]
     },
     "execution_count": 30,
     "metadata": {},
     "output_type": "execute_result"
    }
   ],
   "source": [
    "df_stand_score = test_algos(dict_algo, X_stand, y_stand)\n",
    "df_stand_score"
   ]
  },
  {
   "cell_type": "code",
   "execution_count": 31,
   "id": "ab99539e",
   "metadata": {},
   "outputs": [
    {
     "data": {
      "text/html": [
       "<div>\n",
       "<style scoped>\n",
       "    .dataframe tbody tr th:only-of-type {\n",
       "        vertical-align: middle;\n",
       "    }\n",
       "\n",
       "    .dataframe tbody tr th {\n",
       "        vertical-align: top;\n",
       "    }\n",
       "\n",
       "    .dataframe thead th {\n",
       "        text-align: right;\n",
       "    }\n",
       "</style>\n",
       "<table border=\"1\" class=\"dataframe\">\n",
       "  <thead>\n",
       "    <tr style=\"text-align: right;\">\n",
       "      <th></th>\n",
       "      <th>best_model</th>\n",
       "      <th>best_score</th>\n",
       "      <th>mean_score</th>\n",
       "      <th>std_score</th>\n",
       "      <th>mean_time</th>\n",
       "      <th>std_time</th>\n",
       "      <th>time_best_alg</th>\n",
       "    </tr>\n",
       "  </thead>\n",
       "  <tbody>\n",
       "    <tr>\n",
       "      <th>df_scores</th>\n",
       "      <td>Perceptron</td>\n",
       "      <td>0.370601</td>\n",
       "      <td>0.168787</td>\n",
       "      <td>0.133409</td>\n",
       "      <td>3.733182</td>\n",
       "      <td>3.310607</td>\n",
       "      <td>3.863168</td>\n",
       "    </tr>\n",
       "    <tr>\n",
       "      <th>df_balanced_score</th>\n",
       "      <td>RF</td>\n",
       "      <td>0.802091</td>\n",
       "      <td>0.773034</td>\n",
       "      <td>0.024271</td>\n",
       "      <td>1.699420</td>\n",
       "      <td>1.014104</td>\n",
       "      <td>2.319650</td>\n",
       "    </tr>\n",
       "    <tr>\n",
       "      <th>df_stand_score</th>\n",
       "      <td>SVC</td>\n",
       "      <td>0.805673</td>\n",
       "      <td>0.783313</td>\n",
       "      <td>0.022311</td>\n",
       "      <td>11.454180</td>\n",
       "      <td>22.298233</td>\n",
       "      <td>2.243395</td>\n",
       "    </tr>\n",
       "  </tbody>\n",
       "</table>\n",
       "</div>"
      ],
      "text/plain": [
       "                   best_model  best_score  mean_score  std_score  mean_time  \\\n",
       "df_scores          Perceptron    0.370601    0.168787   0.133409   3.733182   \n",
       "df_balanced_score          RF    0.802091    0.773034   0.024271   1.699420   \n",
       "df_stand_score            SVC    0.805673    0.783313   0.022311  11.454180   \n",
       "\n",
       "                    std_time  time_best_alg  \n",
       "df_scores           3.310607       3.863168  \n",
       "df_balanced_score   1.014104       2.319650  \n",
       "df_stand_score     22.298233       2.243395  "
      ]
     },
     "execution_count": 31,
     "metadata": {},
     "output_type": "execute_result"
    }
   ],
   "source": [
    "df_models_comparation = add_score(df_stand_score, 'df_stand_score', df_models_comparation)\n",
    "df_models_comparation"
   ]
  },
  {
   "cell_type": "markdown",
   "id": "6ffc43e1",
   "metadata": {},
   "source": [
    "**Convertendo Colunas com dois valores (Ex. Yes/No) para binario**"
   ]
  },
  {
   "cell_type": "code",
   "execution_count": 32,
   "id": "65b7db38",
   "metadata": {},
   "outputs": [
    {
     "name": "stdout",
     "output_type": "stream",
     "text": [
      "{'gender': array(['Male', 'Female'], dtype=object), 'Partner': array(['No', 'Yes'], dtype=object), 'Dependents': array(['No', 'Yes'], dtype=object), 'PhoneService': array(['Yes', 'No'], dtype=object), 'PaperlessBilling': array(['Yes', 'No'], dtype=object)}\n"
     ]
    }
   ],
   "source": [
    "df_convert = df_stand.copy()\n",
    "\n",
    "dict_two_value_columns = {}\n",
    "for column in df_convert:\n",
    "    if df_convert[column].dtype == object and df_convert[column].nunique() == 2 and column != 'Churn': \n",
    "        dict_two_value_columns[column] = df_convert[column].unique()\n",
    "print(dict_two_value_columns)"
   ]
  },
  {
   "cell_type": "code",
   "execution_count": 33,
   "id": "713196e2",
   "metadata": {},
   "outputs": [],
   "source": [
    "for column in dict_two_value_columns:\n",
    "    list_data = dict_two_value_columns[column]\n",
    "    variable_1 = 'Yes' if 'Yes' in  list_data else list_data[0] \n",
    "    df_convert[column] = np.where(df_convert[column] == variable_1, 1, 0)"
   ]
  },
  {
   "cell_type": "code",
   "execution_count": 34,
   "id": "04a9d1c0",
   "metadata": {},
   "outputs": [
    {
     "name": "stdout",
     "output_type": "stream",
     "text": [
      "RF...\n",
      "XGbost...\n",
      "DecisionTree...\n",
      "Perceptron...\n"
     ]
    },
    {
     "name": "stderr",
     "output_type": "stream",
     "text": [
      "C:\\Users\\vinic\\anaconda3\\lib\\site-packages\\sklearn\\neural_network\\_multilayer_perceptron.py:679: ConvergenceWarning: Stochastic Optimizer: Maximum iterations (700) reached and the optimization hasn't converged yet.\n",
      "  warnings.warn(\n"
     ]
    },
    {
     "name": "stdout",
     "output_type": "stream",
     "text": [
      "SVC...\n"
     ]
    },
    {
     "data": {
      "text/html": [
       "<div>\n",
       "<style scoped>\n",
       "    .dataframe tbody tr th:only-of-type {\n",
       "        vertical-align: middle;\n",
       "    }\n",
       "\n",
       "    .dataframe tbody tr th {\n",
       "        vertical-align: top;\n",
       "    }\n",
       "\n",
       "    .dataframe thead th {\n",
       "        text-align: right;\n",
       "    }\n",
       "</style>\n",
       "<table border=\"1\" class=\"dataframe\">\n",
       "  <thead>\n",
       "    <tr style=\"text-align: right;\">\n",
       "      <th></th>\n",
       "      <th>0</th>\n",
       "      <th>1</th>\n",
       "      <th>2</th>\n",
       "      <th>3</th>\n",
       "      <th>4</th>\n",
       "      <th>Mean</th>\n",
       "      <th>Time</th>\n",
       "    </tr>\n",
       "  </thead>\n",
       "  <tbody>\n",
       "    <tr>\n",
       "      <th>RF</th>\n",
       "      <td>0.810056</td>\n",
       "      <td>0.794444</td>\n",
       "      <td>0.776078</td>\n",
       "      <td>0.808276</td>\n",
       "      <td>0.811475</td>\n",
       "      <td>0.800066</td>\n",
       "      <td>2.348588</td>\n",
       "    </tr>\n",
       "    <tr>\n",
       "      <th>XGbost</th>\n",
       "      <td>0.817439</td>\n",
       "      <td>0.782369</td>\n",
       "      <td>0.760446</td>\n",
       "      <td>0.786885</td>\n",
       "      <td>0.801653</td>\n",
       "      <td>0.789758</td>\n",
       "      <td>1.195101</td>\n",
       "    </tr>\n",
       "    <tr>\n",
       "      <th>DecisionTree</th>\n",
       "      <td>0.772487</td>\n",
       "      <td>0.733775</td>\n",
       "      <td>0.733154</td>\n",
       "      <td>0.771795</td>\n",
       "      <td>0.755614</td>\n",
       "      <td>0.753365</td>\n",
       "      <td>0.109997</td>\n",
       "    </tr>\n",
       "    <tr>\n",
       "      <th>Perceptron</th>\n",
       "      <td>0.784530</td>\n",
       "      <td>0.776471</td>\n",
       "      <td>0.750663</td>\n",
       "      <td>0.778833</td>\n",
       "      <td>0.789062</td>\n",
       "      <td>0.775912</td>\n",
       "      <td>47.925595</td>\n",
       "    </tr>\n",
       "    <tr>\n",
       "      <th>SVC</th>\n",
       "      <td>0.824011</td>\n",
       "      <td>0.794558</td>\n",
       "      <td>0.790257</td>\n",
       "      <td>0.810229</td>\n",
       "      <td>0.809264</td>\n",
       "      <td>0.805664</td>\n",
       "      <td>2.188422</td>\n",
       "    </tr>\n",
       "  </tbody>\n",
       "</table>\n",
       "</div>"
      ],
      "text/plain": [
       "                     0         1         2         3         4      Mean  \\\n",
       "RF            0.810056  0.794444  0.776078  0.808276  0.811475  0.800066   \n",
       "XGbost        0.817439  0.782369  0.760446  0.786885  0.801653  0.789758   \n",
       "DecisionTree  0.772487  0.733775  0.733154  0.771795  0.755614  0.753365   \n",
       "Perceptron    0.784530  0.776471  0.750663  0.778833  0.789062  0.775912   \n",
       "SVC           0.824011  0.794558  0.790257  0.810229  0.809264  0.805664   \n",
       "\n",
       "                   Time  \n",
       "RF             2.348588  \n",
       "XGbost         1.195101  \n",
       "DecisionTree   0.109997  \n",
       "Perceptron    47.925595  \n",
       "SVC            2.188422  "
      ]
     },
     "execution_count": 34,
     "metadata": {},
     "output_type": "execute_result"
    }
   ],
   "source": [
    "X_convert, y_convert = preprocessing_data(df_convert)\n",
    "df_convert_score = test_algos(dict_algo, X_convert, y_convert)\n",
    "df_convert_score"
   ]
  },
  {
   "cell_type": "code",
   "execution_count": 35,
   "id": "a4989e29",
   "metadata": {},
   "outputs": [
    {
     "data": {
      "text/html": [
       "<div>\n",
       "<style scoped>\n",
       "    .dataframe tbody tr th:only-of-type {\n",
       "        vertical-align: middle;\n",
       "    }\n",
       "\n",
       "    .dataframe tbody tr th {\n",
       "        vertical-align: top;\n",
       "    }\n",
       "\n",
       "    .dataframe thead th {\n",
       "        text-align: right;\n",
       "    }\n",
       "</style>\n",
       "<table border=\"1\" class=\"dataframe\">\n",
       "  <thead>\n",
       "    <tr style=\"text-align: right;\">\n",
       "      <th></th>\n",
       "      <th>best_model</th>\n",
       "      <th>best_score</th>\n",
       "      <th>mean_score</th>\n",
       "      <th>std_score</th>\n",
       "      <th>mean_time</th>\n",
       "      <th>std_time</th>\n",
       "      <th>time_best_alg</th>\n",
       "    </tr>\n",
       "  </thead>\n",
       "  <tbody>\n",
       "    <tr>\n",
       "      <th>df_scores</th>\n",
       "      <td>Perceptron</td>\n",
       "      <td>0.370601</td>\n",
       "      <td>0.168787</td>\n",
       "      <td>0.133409</td>\n",
       "      <td>3.733182</td>\n",
       "      <td>3.310607</td>\n",
       "      <td>3.863168</td>\n",
       "    </tr>\n",
       "    <tr>\n",
       "      <th>df_balanced_score</th>\n",
       "      <td>RF</td>\n",
       "      <td>0.802091</td>\n",
       "      <td>0.773034</td>\n",
       "      <td>0.024271</td>\n",
       "      <td>1.699420</td>\n",
       "      <td>1.014104</td>\n",
       "      <td>2.319650</td>\n",
       "    </tr>\n",
       "    <tr>\n",
       "      <th>df_stand_score</th>\n",
       "      <td>SVC</td>\n",
       "      <td>0.805673</td>\n",
       "      <td>0.783313</td>\n",
       "      <td>0.022311</td>\n",
       "      <td>11.454180</td>\n",
       "      <td>22.298233</td>\n",
       "      <td>2.243395</td>\n",
       "    </tr>\n",
       "    <tr>\n",
       "      <th>df_convert_score</th>\n",
       "      <td>SVC</td>\n",
       "      <td>0.805664</td>\n",
       "      <td>0.784953</td>\n",
       "      <td>0.020976</td>\n",
       "      <td>10.753540</td>\n",
       "      <td>20.799128</td>\n",
       "      <td>2.188422</td>\n",
       "    </tr>\n",
       "  </tbody>\n",
       "</table>\n",
       "</div>"
      ],
      "text/plain": [
       "                   best_model  best_score  mean_score  std_score  mean_time  \\\n",
       "df_scores          Perceptron    0.370601    0.168787   0.133409   3.733182   \n",
       "df_balanced_score          RF    0.802091    0.773034   0.024271   1.699420   \n",
       "df_stand_score            SVC    0.805673    0.783313   0.022311  11.454180   \n",
       "df_convert_score          SVC    0.805664    0.784953   0.020976  10.753540   \n",
       "\n",
       "                    std_time  time_best_alg  \n",
       "df_scores           3.310607       3.863168  \n",
       "df_balanced_score   1.014104       2.319650  \n",
       "df_stand_score     22.298233       2.243395  \n",
       "df_convert_score   20.799128       2.188422  "
      ]
     },
     "execution_count": 35,
     "metadata": {},
     "output_type": "execute_result"
    }
   ],
   "source": [
    "df_models_comparation = add_score(df_convert_score, 'df_convert_score', df_models_comparation)\n",
    "df_models_comparation"
   ]
  },
  {
   "cell_type": "markdown",
   "id": "4ae2b991",
   "metadata": {},
   "source": [
    "**Obervando features com 3 caracteristicas**"
   ]
  },
  {
   "cell_type": "code",
   "execution_count": 36,
   "id": "78e3b1a4",
   "metadata": {},
   "outputs": [
    {
     "name": "stdout",
     "output_type": "stream",
     "text": [
      "MultipleLines ['Yes' 'No' 'No phone service']\n",
      "InternetService ['Fiber optic' 'DSL' 'No']\n",
      "OnlineSecurity ['Yes' 'No' 'No internet service']\n",
      "OnlineBackup ['Yes' 'No' 'No internet service']\n",
      "DeviceProtection ['No' 'Yes' 'No internet service']\n",
      "TechSupport ['No' 'Yes' 'No internet service']\n",
      "StreamingTV ['No' 'Yes' 'No internet service']\n",
      "StreamingMovies ['No' 'Yes' 'No internet service']\n",
      "Contract ['Month-to-month' 'Two year' 'One year']\n"
     ]
    }
   ],
   "source": [
    "df_convert_2 = df_convert.copy()\n",
    "\n",
    "dict_three_value_columns = {}\n",
    "for column in df_convert:\n",
    "    if df_convert_2[column].dtype == object and df_convert_2[column].nunique() == 3 and column != 'Churn': \n",
    "        dict_three_value_columns[column] = df_convert_2[column].unique()\n",
    "\n",
    "for column in dict_three_value_columns:       \n",
    "    print(column, dict_three_value_columns[column])"
   ]
  },
  {
   "cell_type": "code",
   "execution_count": 37,
   "id": "f655c8f8",
   "metadata": {},
   "outputs": [],
   "source": [
    "for column in dict_two_value_columns:\n",
    "    list_data = dict_two_value_columns[column] \n",
    "    if 'Yes' in list_data and 'No' in list_data: \n",
    "        df_convert_2[column] = np.where(df_convert[column] == 'Yes', 1, np.where(df_convert[column] == 'No', 0, -1))"
   ]
  },
  {
   "cell_type": "code",
   "execution_count": 38,
   "id": "41e7e95e",
   "metadata": {},
   "outputs": [
    {
     "name": "stdout",
     "output_type": "stream",
     "text": [
      "RF...\n",
      "XGbost...\n",
      "DecisionTree...\n",
      "Perceptron...\n",
      "SVC...\n"
     ]
    },
    {
     "data": {
      "text/html": [
       "<div>\n",
       "<style scoped>\n",
       "    .dataframe tbody tr th:only-of-type {\n",
       "        vertical-align: middle;\n",
       "    }\n",
       "\n",
       "    .dataframe tbody tr th {\n",
       "        vertical-align: top;\n",
       "    }\n",
       "\n",
       "    .dataframe thead th {\n",
       "        text-align: right;\n",
       "    }\n",
       "</style>\n",
       "<table border=\"1\" class=\"dataframe\">\n",
       "  <thead>\n",
       "    <tr style=\"text-align: right;\">\n",
       "      <th></th>\n",
       "      <th>0</th>\n",
       "      <th>1</th>\n",
       "      <th>2</th>\n",
       "      <th>3</th>\n",
       "      <th>4</th>\n",
       "      <th>Mean</th>\n",
       "      <th>Time</th>\n",
       "    </tr>\n",
       "  </thead>\n",
       "  <tbody>\n",
       "    <tr>\n",
       "      <th>RF</th>\n",
       "      <td>0.816438</td>\n",
       "      <td>0.782247</td>\n",
       "      <td>0.766252</td>\n",
       "      <td>0.797829</td>\n",
       "      <td>0.793388</td>\n",
       "      <td>0.791231</td>\n",
       "      <td>2.309212</td>\n",
       "    </tr>\n",
       "    <tr>\n",
       "      <th>XGbost</th>\n",
       "      <td>0.810298</td>\n",
       "      <td>0.779944</td>\n",
       "      <td>0.771784</td>\n",
       "      <td>0.797799</td>\n",
       "      <td>0.809524</td>\n",
       "      <td>0.793870</td>\n",
       "      <td>1.179006</td>\n",
       "    </tr>\n",
       "    <tr>\n",
       "      <th>DecisionTree</th>\n",
       "      <td>0.782493</td>\n",
       "      <td>0.759259</td>\n",
       "      <td>0.740541</td>\n",
       "      <td>0.757333</td>\n",
       "      <td>0.765789</td>\n",
       "      <td>0.761083</td>\n",
       "      <td>0.109927</td>\n",
       "    </tr>\n",
       "    <tr>\n",
       "      <th>Perceptron</th>\n",
       "      <td>0.808054</td>\n",
       "      <td>0.770235</td>\n",
       "      <td>0.771277</td>\n",
       "      <td>0.786189</td>\n",
       "      <td>0.798408</td>\n",
       "      <td>0.786832</td>\n",
       "      <td>35.518499</td>\n",
       "    </tr>\n",
       "    <tr>\n",
       "      <th>SVC</th>\n",
       "      <td>0.818554</td>\n",
       "      <td>0.801083</td>\n",
       "      <td>0.790323</td>\n",
       "      <td>0.806971</td>\n",
       "      <td>0.809717</td>\n",
       "      <td>0.805329</td>\n",
       "      <td>1.992327</td>\n",
       "    </tr>\n",
       "  </tbody>\n",
       "</table>\n",
       "</div>"
      ],
      "text/plain": [
       "                     0         1         2         3         4      Mean  \\\n",
       "RF            0.816438  0.782247  0.766252  0.797829  0.793388  0.791231   \n",
       "XGbost        0.810298  0.779944  0.771784  0.797799  0.809524  0.793870   \n",
       "DecisionTree  0.782493  0.759259  0.740541  0.757333  0.765789  0.761083   \n",
       "Perceptron    0.808054  0.770235  0.771277  0.786189  0.798408  0.786832   \n",
       "SVC           0.818554  0.801083  0.790323  0.806971  0.809717  0.805329   \n",
       "\n",
       "                   Time  \n",
       "RF             2.309212  \n",
       "XGbost         1.179006  \n",
       "DecisionTree   0.109927  \n",
       "Perceptron    35.518499  \n",
       "SVC            1.992327  "
      ]
     },
     "execution_count": 38,
     "metadata": {},
     "output_type": "execute_result"
    }
   ],
   "source": [
    "X_convert_2, y_convert_2 = preprocessing_data(df_convert_2)\n",
    "df_convert_2_score = test_algos(dict_algo, X_convert_2, y_convert_2)\n",
    "df_convert_2_score"
   ]
  },
  {
   "cell_type": "code",
   "execution_count": 39,
   "id": "e7e7f9aa",
   "metadata": {},
   "outputs": [
    {
     "data": {
      "text/html": [
       "<div>\n",
       "<style scoped>\n",
       "    .dataframe tbody tr th:only-of-type {\n",
       "        vertical-align: middle;\n",
       "    }\n",
       "\n",
       "    .dataframe tbody tr th {\n",
       "        vertical-align: top;\n",
       "    }\n",
       "\n",
       "    .dataframe thead th {\n",
       "        text-align: right;\n",
       "    }\n",
       "</style>\n",
       "<table border=\"1\" class=\"dataframe\">\n",
       "  <thead>\n",
       "    <tr style=\"text-align: right;\">\n",
       "      <th></th>\n",
       "      <th>best_model</th>\n",
       "      <th>best_score</th>\n",
       "      <th>mean_score</th>\n",
       "      <th>std_score</th>\n",
       "      <th>mean_time</th>\n",
       "      <th>std_time</th>\n",
       "      <th>time_best_alg</th>\n",
       "    </tr>\n",
       "  </thead>\n",
       "  <tbody>\n",
       "    <tr>\n",
       "      <th>df_scores</th>\n",
       "      <td>Perceptron</td>\n",
       "      <td>0.370601</td>\n",
       "      <td>0.168787</td>\n",
       "      <td>0.133409</td>\n",
       "      <td>3.733182</td>\n",
       "      <td>3.310607</td>\n",
       "      <td>3.863168</td>\n",
       "    </tr>\n",
       "    <tr>\n",
       "      <th>df_balanced_score</th>\n",
       "      <td>RF</td>\n",
       "      <td>0.802091</td>\n",
       "      <td>0.773034</td>\n",
       "      <td>0.024271</td>\n",
       "      <td>1.699420</td>\n",
       "      <td>1.014104</td>\n",
       "      <td>2.319650</td>\n",
       "    </tr>\n",
       "    <tr>\n",
       "      <th>df_stand_score</th>\n",
       "      <td>SVC</td>\n",
       "      <td>0.805673</td>\n",
       "      <td>0.783313</td>\n",
       "      <td>0.022311</td>\n",
       "      <td>11.454180</td>\n",
       "      <td>22.298233</td>\n",
       "      <td>2.243395</td>\n",
       "    </tr>\n",
       "    <tr>\n",
       "      <th>df_convert_score</th>\n",
       "      <td>SVC</td>\n",
       "      <td>0.805664</td>\n",
       "      <td>0.784953</td>\n",
       "      <td>0.020976</td>\n",
       "      <td>10.753540</td>\n",
       "      <td>20.799128</td>\n",
       "      <td>2.188422</td>\n",
       "    </tr>\n",
       "    <tr>\n",
       "      <th>df_convert_2_score</th>\n",
       "      <td>SVC</td>\n",
       "      <td>0.805329</td>\n",
       "      <td>0.787669</td>\n",
       "      <td>0.016359</td>\n",
       "      <td>8.221794</td>\n",
       "      <td>15.282983</td>\n",
       "      <td>1.992327</td>\n",
       "    </tr>\n",
       "  </tbody>\n",
       "</table>\n",
       "</div>"
      ],
      "text/plain": [
       "                    best_model  best_score  mean_score  std_score  mean_time  \\\n",
       "df_scores           Perceptron    0.370601    0.168787   0.133409   3.733182   \n",
       "df_balanced_score           RF    0.802091    0.773034   0.024271   1.699420   \n",
       "df_stand_score             SVC    0.805673    0.783313   0.022311  11.454180   \n",
       "df_convert_score           SVC    0.805664    0.784953   0.020976  10.753540   \n",
       "df_convert_2_score         SVC    0.805329    0.787669   0.016359   8.221794   \n",
       "\n",
       "                     std_time  time_best_alg  \n",
       "df_scores            3.310607       3.863168  \n",
       "df_balanced_score    1.014104       2.319650  \n",
       "df_stand_score      22.298233       2.243395  \n",
       "df_convert_score    20.799128       2.188422  \n",
       "df_convert_2_score  15.282983       1.992327  "
      ]
     },
     "execution_count": 39,
     "metadata": {},
     "output_type": "execute_result"
    }
   ],
   "source": [
    "df_models_comparation = add_score(df_convert_2_score, 'df_convert_2_score', df_models_comparation)\n",
    "df_models_comparation"
   ]
  },
  {
   "cell_type": "markdown",
   "id": "200ec6fe",
   "metadata": {},
   "source": [
    "# Label Selection "
   ]
  },
  {
   "cell_type": "markdown",
   "id": "16850864",
   "metadata": {},
   "source": [
    "**Observando correlação**"
   ]
  },
  {
   "cell_type": "code",
   "execution_count": 40,
   "id": "b761fe7e",
   "metadata": {},
   "outputs": [
    {
     "data": {
      "text/html": [
       "<div>\n",
       "<style scoped>\n",
       "    .dataframe tbody tr th:only-of-type {\n",
       "        vertical-align: middle;\n",
       "    }\n",
       "\n",
       "    .dataframe tbody tr th {\n",
       "        vertical-align: top;\n",
       "    }\n",
       "\n",
       "    .dataframe thead th {\n",
       "        text-align: right;\n",
       "    }\n",
       "</style>\n",
       "<table border=\"1\" class=\"dataframe\">\n",
       "  <thead>\n",
       "    <tr style=\"text-align: right;\">\n",
       "      <th></th>\n",
       "      <th>gender</th>\n",
       "      <th>SeniorCitizen</th>\n",
       "      <th>Partner</th>\n",
       "      <th>Dependents</th>\n",
       "      <th>tenure</th>\n",
       "      <th>PhoneService</th>\n",
       "      <th>PaperlessBilling</th>\n",
       "      <th>MonthlyCharges</th>\n",
       "      <th>TotalCharges</th>\n",
       "      <th>MultipleLines_No</th>\n",
       "      <th>...</th>\n",
       "      <th>StreamingMovies_No</th>\n",
       "      <th>StreamingMovies_No internet service</th>\n",
       "      <th>StreamingMovies_Yes</th>\n",
       "      <th>Contract_Month-to-month</th>\n",
       "      <th>Contract_One year</th>\n",
       "      <th>Contract_Two year</th>\n",
       "      <th>PaymentMethod_Bank transfer (automatic)</th>\n",
       "      <th>PaymentMethod_Credit card (automatic)</th>\n",
       "      <th>PaymentMethod_Electronic check</th>\n",
       "      <th>PaymentMethod_Mailed check</th>\n",
       "    </tr>\n",
       "  </thead>\n",
       "  <tbody>\n",
       "    <tr>\n",
       "      <th>gender</th>\n",
       "      <td>1.000000</td>\n",
       "      <td>-0.018072</td>\n",
       "      <td>0.026748</td>\n",
       "      <td>0.013485</td>\n",
       "      <td>0.013915</td>\n",
       "      <td>-0.012957</td>\n",
       "      <td>-0.013603</td>\n",
       "      <td>-0.014485</td>\n",
       "      <td>0.007533</td>\n",
       "      <td>-0.004579</td>\n",
       "      <td>...</td>\n",
       "      <td>0.003172</td>\n",
       "      <td>0.001657</td>\n",
       "      <td>-0.003708</td>\n",
       "      <td>-0.003749</td>\n",
       "      <td>0.005892</td>\n",
       "      <td>-0.001131</td>\n",
       "      <td>-0.027376</td>\n",
       "      <td>-0.017047</td>\n",
       "      <td>0.030533</td>\n",
       "      <td>0.008329</td>\n",
       "    </tr>\n",
       "    <tr>\n",
       "      <th>SeniorCitizen</th>\n",
       "      <td>-0.018072</td>\n",
       "      <td>1.000000</td>\n",
       "      <td>0.023555</td>\n",
       "      <td>-0.208298</td>\n",
       "      <td>-0.003039</td>\n",
       "      <td>-0.013614</td>\n",
       "      <td>0.110606</td>\n",
       "      <td>0.080598</td>\n",
       "      <td>0.006487</td>\n",
       "      <td>-0.091918</td>\n",
       "      <td>...</td>\n",
       "      <td>-0.001301</td>\n",
       "      <td>-0.078675</td>\n",
       "      <td>0.028617</td>\n",
       "      <td>0.115176</td>\n",
       "      <td>-0.030262</td>\n",
       "      <td>-0.113042</td>\n",
       "      <td>-0.034806</td>\n",
       "      <td>-0.034298</td>\n",
       "      <td>0.117431</td>\n",
       "      <td>-0.093144</td>\n",
       "    </tr>\n",
       "    <tr>\n",
       "      <th>Partner</th>\n",
       "      <td>0.026748</td>\n",
       "      <td>0.023555</td>\n",
       "      <td>1.000000</td>\n",
       "      <td>0.408139</td>\n",
       "      <td>0.411213</td>\n",
       "      <td>0.055580</td>\n",
       "      <td>-0.009621</td>\n",
       "      <td>0.232946</td>\n",
       "      <td>0.398913</td>\n",
       "      <td>-0.154468</td>\n",
       "      <td>...</td>\n",
       "      <td>-0.152262</td>\n",
       "      <td>-0.081054</td>\n",
       "      <td>0.178526</td>\n",
       "      <td>-0.296696</td>\n",
       "      <td>0.120099</td>\n",
       "      <td>0.249890</td>\n",
       "      <td>0.117034</td>\n",
       "      <td>0.089970</td>\n",
       "      <td>-0.092063</td>\n",
       "      <td>-0.114774</td>\n",
       "    </tr>\n",
       "    <tr>\n",
       "      <th>Dependents</th>\n",
       "      <td>0.013485</td>\n",
       "      <td>-0.208298</td>\n",
       "      <td>0.408139</td>\n",
       "      <td>1.000000</td>\n",
       "      <td>0.181680</td>\n",
       "      <td>0.052801</td>\n",
       "      <td>-0.074631</td>\n",
       "      <td>0.056977</td>\n",
       "      <td>0.169655</td>\n",
       "      <td>-0.002835</td>\n",
       "      <td>...</td>\n",
       "      <td>-0.054801</td>\n",
       "      <td>0.003905</td>\n",
       "      <td>0.052762</td>\n",
       "      <td>-0.196618</td>\n",
       "      <td>0.064713</td>\n",
       "      <td>0.180181</td>\n",
       "      <td>0.082010</td>\n",
       "      <td>0.063772</td>\n",
       "      <td>-0.120525</td>\n",
       "      <td>0.003580</td>\n",
       "    </tr>\n",
       "    <tr>\n",
       "      <th>tenure</th>\n",
       "      <td>0.013915</td>\n",
       "      <td>-0.003039</td>\n",
       "      <td>0.411213</td>\n",
       "      <td>0.181680</td>\n",
       "      <td>1.000000</td>\n",
       "      <td>0.148406</td>\n",
       "      <td>-0.003683</td>\n",
       "      <td>0.530236</td>\n",
       "      <td>0.973556</td>\n",
       "      <td>-0.361616</td>\n",
       "      <td>...</td>\n",
       "      <td>-0.341641</td>\n",
       "      <td>-0.172842</td>\n",
       "      <td>0.397436</td>\n",
       "      <td>-0.714729</td>\n",
       "      <td>0.302952</td>\n",
       "      <td>0.588606</td>\n",
       "      <td>0.242171</td>\n",
       "      <td>0.261867</td>\n",
       "      <td>-0.267253</td>\n",
       "      <td>-0.213556</td>\n",
       "    </tr>\n",
       "  </tbody>\n",
       "</table>\n",
       "<p>5 rows × 40 columns</p>\n",
       "</div>"
      ],
      "text/plain": [
       "                 gender  SeniorCitizen   Partner  Dependents    tenure  \\\n",
       "gender         1.000000      -0.018072  0.026748    0.013485  0.013915   \n",
       "SeniorCitizen -0.018072       1.000000  0.023555   -0.208298 -0.003039   \n",
       "Partner        0.026748       0.023555  1.000000    0.408139  0.411213   \n",
       "Dependents     0.013485      -0.208298  0.408139    1.000000  0.181680   \n",
       "tenure         0.013915      -0.003039  0.411213    0.181680  1.000000   \n",
       "\n",
       "               PhoneService  PaperlessBilling  MonthlyCharges  TotalCharges  \\\n",
       "gender            -0.012957         -0.013603       -0.014485      0.007533   \n",
       "SeniorCitizen     -0.013614          0.110606        0.080598      0.006487   \n",
       "Partner            0.055580         -0.009621        0.232946      0.398913   \n",
       "Dependents         0.052801         -0.074631        0.056977      0.169655   \n",
       "tenure             0.148406         -0.003683        0.530236      0.973556   \n",
       "\n",
       "               MultipleLines_No  ...  StreamingMovies_No  \\\n",
       "gender                -0.004579  ...            0.003172   \n",
       "SeniorCitizen         -0.091918  ...           -0.001301   \n",
       "Partner               -0.154468  ...           -0.152262   \n",
       "Dependents            -0.002835  ...           -0.054801   \n",
       "tenure                -0.361616  ...           -0.341641   \n",
       "\n",
       "               StreamingMovies_No internet service  StreamingMovies_Yes  \\\n",
       "gender                                    0.001657            -0.003708   \n",
       "SeniorCitizen                            -0.078675             0.028617   \n",
       "Partner                                  -0.081054             0.178526   \n",
       "Dependents                                0.003905             0.052762   \n",
       "tenure                                   -0.172842             0.397436   \n",
       "\n",
       "               Contract_Month-to-month  Contract_One year  Contract_Two year  \\\n",
       "gender                       -0.003749           0.005892          -0.001131   \n",
       "SeniorCitizen                 0.115176          -0.030262          -0.113042   \n",
       "Partner                      -0.296696           0.120099           0.249890   \n",
       "Dependents                   -0.196618           0.064713           0.180181   \n",
       "tenure                       -0.714729           0.302952           0.588606   \n",
       "\n",
       "               PaymentMethod_Bank transfer (automatic)  \\\n",
       "gender                                       -0.027376   \n",
       "SeniorCitizen                                -0.034806   \n",
       "Partner                                       0.117034   \n",
       "Dependents                                    0.082010   \n",
       "tenure                                        0.242171   \n",
       "\n",
       "               PaymentMethod_Credit card (automatic)  \\\n",
       "gender                                     -0.017047   \n",
       "SeniorCitizen                              -0.034298   \n",
       "Partner                                     0.089970   \n",
       "Dependents                                  0.063772   \n",
       "tenure                                      0.261867   \n",
       "\n",
       "               PaymentMethod_Electronic check  PaymentMethod_Mailed check  \n",
       "gender                               0.030533                    0.008329  \n",
       "SeniorCitizen                        0.117431                   -0.093144  \n",
       "Partner                             -0.092063                   -0.114774  \n",
       "Dependents                          -0.120525                    0.003580  \n",
       "tenure                              -0.267253                   -0.213556  \n",
       "\n",
       "[5 rows x 40 columns]"
      ]
     },
     "execution_count": 40,
     "metadata": {},
     "output_type": "execute_result"
    }
   ],
   "source": [
    "X_corr = X_convert.copy()\n",
    "df_corr = X_corr.corr()\n",
    "df_corr.head()"
   ]
  },
  {
   "cell_type": "code",
   "execution_count": 41,
   "id": "d2b3e9a7",
   "metadata": {},
   "outputs": [
    {
     "data": {
      "text/plain": [
       "array(['tenure', 'InternetService_No',\n",
       "       'OnlineSecurity_No internet service',\n",
       "       'OnlineBackup_No internet service',\n",
       "       'DeviceProtection_No internet service',\n",
       "       'TechSupport_No internet service',\n",
       "       'StreamingTV_No internet service'], dtype=object)"
      ]
     },
     "execution_count": 41,
     "metadata": {},
     "output_type": "execute_result"
    }
   ],
   "source": [
    "num_itens = len(df_corr.columns)\n",
    "thresold = 0.95\n",
    "\n",
    "matrix_similares = []\n",
    "for cont_row in range(0, num_itens-1):\n",
    "    for cont_line in range(cont_row+1, num_itens-1):\n",
    "        linha = df_corr.index[cont_line] \n",
    "        row = df_corr.columns[cont_row]\n",
    "        if df_corr[linha][row] > thresold:\n",
    "            matrix_similares.append([linha, row, df_corr[linha][row]])\n",
    "\n",
    "df_remove_itens = pd.DataFrame(matrix_similares, columns=['item_1', 'item_2', 'valor'])\n",
    "list_itens_remove = df_remove_itens['item_2'].unique()\n",
    "list_itens_remove"
   ]
  },
  {
   "cell_type": "code",
   "execution_count": 42,
   "id": "1fff4e87",
   "metadata": {},
   "outputs": [],
   "source": [
    "X_clean = X_corr.drop(list_itens_remove, axis=1)"
   ]
  },
  {
   "cell_type": "code",
   "execution_count": 73,
   "id": "93210206",
   "metadata": {},
   "outputs": [
    {
     "data": {
      "text/plain": [
       "(3738, 33)"
      ]
     },
     "execution_count": 73,
     "metadata": {},
     "output_type": "execute_result"
    }
   ],
   "source": [
    "X_clean.shape"
   ]
  },
  {
   "cell_type": "code",
   "execution_count": 43,
   "id": "043e339b",
   "metadata": {},
   "outputs": [
    {
     "name": "stdout",
     "output_type": "stream",
     "text": [
      "RF...\n",
      "XGbost...\n",
      "DecisionTree...\n",
      "Perceptron...\n"
     ]
    },
    {
     "name": "stderr",
     "output_type": "stream",
     "text": [
      "C:\\Users\\vinic\\anaconda3\\lib\\site-packages\\sklearn\\neural_network\\_multilayer_perceptron.py:679: ConvergenceWarning: Stochastic Optimizer: Maximum iterations (700) reached and the optimization hasn't converged yet.\n",
      "  warnings.warn(\n",
      "C:\\Users\\vinic\\anaconda3\\lib\\site-packages\\sklearn\\neural_network\\_multilayer_perceptron.py:679: ConvergenceWarning: Stochastic Optimizer: Maximum iterations (700) reached and the optimization hasn't converged yet.\n",
      "  warnings.warn(\n"
     ]
    },
    {
     "name": "stdout",
     "output_type": "stream",
     "text": [
      "SVC...\n"
     ]
    },
    {
     "data": {
      "text/html": [
       "<div>\n",
       "<style scoped>\n",
       "    .dataframe tbody tr th:only-of-type {\n",
       "        vertical-align: middle;\n",
       "    }\n",
       "\n",
       "    .dataframe tbody tr th {\n",
       "        vertical-align: top;\n",
       "    }\n",
       "\n",
       "    .dataframe thead th {\n",
       "        text-align: right;\n",
       "    }\n",
       "</style>\n",
       "<table border=\"1\" class=\"dataframe\">\n",
       "  <thead>\n",
       "    <tr style=\"text-align: right;\">\n",
       "      <th></th>\n",
       "      <th>0</th>\n",
       "      <th>1</th>\n",
       "      <th>2</th>\n",
       "      <th>3</th>\n",
       "      <th>4</th>\n",
       "      <th>Mean</th>\n",
       "      <th>Time</th>\n",
       "    </tr>\n",
       "  </thead>\n",
       "  <tbody>\n",
       "    <tr>\n",
       "      <th>RF</th>\n",
       "      <td>0.804438</td>\n",
       "      <td>0.784530</td>\n",
       "      <td>0.776536</td>\n",
       "      <td>0.798343</td>\n",
       "      <td>0.804979</td>\n",
       "      <td>0.793765</td>\n",
       "      <td>2.257068</td>\n",
       "    </tr>\n",
       "    <tr>\n",
       "      <th>XGbost</th>\n",
       "      <td>0.801097</td>\n",
       "      <td>0.781032</td>\n",
       "      <td>0.768156</td>\n",
       "      <td>0.787380</td>\n",
       "      <td>0.804408</td>\n",
       "      <td>0.788415</td>\n",
       "      <td>1.141508</td>\n",
       "    </tr>\n",
       "    <tr>\n",
       "      <th>DecisionTree</th>\n",
       "      <td>0.771466</td>\n",
       "      <td>0.741633</td>\n",
       "      <td>0.732510</td>\n",
       "      <td>0.778489</td>\n",
       "      <td>0.747368</td>\n",
       "      <td>0.754293</td>\n",
       "      <td>0.094148</td>\n",
       "    </tr>\n",
       "    <tr>\n",
       "      <th>Perceptron</th>\n",
       "      <td>0.789404</td>\n",
       "      <td>0.776280</td>\n",
       "      <td>0.763298</td>\n",
       "      <td>0.785714</td>\n",
       "      <td>0.767160</td>\n",
       "      <td>0.776371</td>\n",
       "      <td>54.290706</td>\n",
       "    </tr>\n",
       "    <tr>\n",
       "      <th>SVC</th>\n",
       "      <td>0.826739</td>\n",
       "      <td>0.799458</td>\n",
       "      <td>0.790823</td>\n",
       "      <td>0.804845</td>\n",
       "      <td>0.813605</td>\n",
       "      <td>0.807094</td>\n",
       "      <td>3.122592</td>\n",
       "    </tr>\n",
       "  </tbody>\n",
       "</table>\n",
       "</div>"
      ],
      "text/plain": [
       "                     0         1         2         3         4      Mean  \\\n",
       "RF            0.804438  0.784530  0.776536  0.798343  0.804979  0.793765   \n",
       "XGbost        0.801097  0.781032  0.768156  0.787380  0.804408  0.788415   \n",
       "DecisionTree  0.771466  0.741633  0.732510  0.778489  0.747368  0.754293   \n",
       "Perceptron    0.789404  0.776280  0.763298  0.785714  0.767160  0.776371   \n",
       "SVC           0.826739  0.799458  0.790823  0.804845  0.813605  0.807094   \n",
       "\n",
       "                   Time  \n",
       "RF             2.257068  \n",
       "XGbost         1.141508  \n",
       "DecisionTree   0.094148  \n",
       "Perceptron    54.290706  \n",
       "SVC            3.122592  "
      ]
     },
     "execution_count": 43,
     "metadata": {},
     "output_type": "execute_result"
    }
   ],
   "source": [
    "df_corr_score = test_algos(dict_algo, X_clean, y_convert)\n",
    "df_corr_score"
   ]
  },
  {
   "cell_type": "code",
   "execution_count": 44,
   "id": "d964b236",
   "metadata": {},
   "outputs": [
    {
     "data": {
      "text/html": [
       "<div>\n",
       "<style scoped>\n",
       "    .dataframe tbody tr th:only-of-type {\n",
       "        vertical-align: middle;\n",
       "    }\n",
       "\n",
       "    .dataframe tbody tr th {\n",
       "        vertical-align: top;\n",
       "    }\n",
       "\n",
       "    .dataframe thead th {\n",
       "        text-align: right;\n",
       "    }\n",
       "</style>\n",
       "<table border=\"1\" class=\"dataframe\">\n",
       "  <thead>\n",
       "    <tr style=\"text-align: right;\">\n",
       "      <th></th>\n",
       "      <th>best_model</th>\n",
       "      <th>best_score</th>\n",
       "      <th>mean_score</th>\n",
       "      <th>std_score</th>\n",
       "      <th>mean_time</th>\n",
       "      <th>std_time</th>\n",
       "      <th>time_best_alg</th>\n",
       "    </tr>\n",
       "  </thead>\n",
       "  <tbody>\n",
       "    <tr>\n",
       "      <th>df_scores</th>\n",
       "      <td>Perceptron</td>\n",
       "      <td>0.370601</td>\n",
       "      <td>0.168787</td>\n",
       "      <td>0.133409</td>\n",
       "      <td>3.733182</td>\n",
       "      <td>3.310607</td>\n",
       "      <td>3.863168</td>\n",
       "    </tr>\n",
       "    <tr>\n",
       "      <th>df_balanced_score</th>\n",
       "      <td>RF</td>\n",
       "      <td>0.802091</td>\n",
       "      <td>0.773034</td>\n",
       "      <td>0.024271</td>\n",
       "      <td>1.699420</td>\n",
       "      <td>1.014104</td>\n",
       "      <td>2.319650</td>\n",
       "    </tr>\n",
       "    <tr>\n",
       "      <th>df_stand_score</th>\n",
       "      <td>SVC</td>\n",
       "      <td>0.805673</td>\n",
       "      <td>0.783313</td>\n",
       "      <td>0.022311</td>\n",
       "      <td>11.454180</td>\n",
       "      <td>22.298233</td>\n",
       "      <td>2.243395</td>\n",
       "    </tr>\n",
       "    <tr>\n",
       "      <th>df_convert_score</th>\n",
       "      <td>SVC</td>\n",
       "      <td>0.805664</td>\n",
       "      <td>0.784953</td>\n",
       "      <td>0.020976</td>\n",
       "      <td>10.753540</td>\n",
       "      <td>20.799128</td>\n",
       "      <td>2.188422</td>\n",
       "    </tr>\n",
       "    <tr>\n",
       "      <th>df_convert_2_score</th>\n",
       "      <td>SVC</td>\n",
       "      <td>0.805329</td>\n",
       "      <td>0.787669</td>\n",
       "      <td>0.016359</td>\n",
       "      <td>8.221794</td>\n",
       "      <td>15.282983</td>\n",
       "      <td>1.992327</td>\n",
       "    </tr>\n",
       "    <tr>\n",
       "      <th>df_corr_score</th>\n",
       "      <td>SVC</td>\n",
       "      <td>0.807094</td>\n",
       "      <td>0.783988</td>\n",
       "      <td>0.019930</td>\n",
       "      <td>12.181204</td>\n",
       "      <td>23.567610</td>\n",
       "      <td>3.122592</td>\n",
       "    </tr>\n",
       "  </tbody>\n",
       "</table>\n",
       "</div>"
      ],
      "text/plain": [
       "                    best_model  best_score  mean_score  std_score  mean_time  \\\n",
       "df_scores           Perceptron    0.370601    0.168787   0.133409   3.733182   \n",
       "df_balanced_score           RF    0.802091    0.773034   0.024271   1.699420   \n",
       "df_stand_score             SVC    0.805673    0.783313   0.022311  11.454180   \n",
       "df_convert_score           SVC    0.805664    0.784953   0.020976  10.753540   \n",
       "df_convert_2_score         SVC    0.805329    0.787669   0.016359   8.221794   \n",
       "df_corr_score              SVC    0.807094    0.783988   0.019930  12.181204   \n",
       "\n",
       "                     std_time  time_best_alg  \n",
       "df_scores            3.310607       3.863168  \n",
       "df_balanced_score    1.014104       2.319650  \n",
       "df_stand_score      22.298233       2.243395  \n",
       "df_convert_score    20.799128       2.188422  \n",
       "df_convert_2_score  15.282983       1.992327  \n",
       "df_corr_score       23.567610       3.122592  "
      ]
     },
     "execution_count": 44,
     "metadata": {},
     "output_type": "execute_result"
    }
   ],
   "source": [
    "df_models_comparation = add_score(df_corr_score, 'df_corr_score', df_models_comparation)\n",
    "df_models_comparation"
   ]
  },
  {
   "cell_type": "markdown",
   "id": "e46b031b",
   "metadata": {},
   "source": [
    "**Boruta**"
   ]
  },
  {
   "cell_type": "code",
   "execution_count": 45,
   "id": "0dd91ba5",
   "metadata": {},
   "outputs": [],
   "source": [
    "# define random forest classifier, with utilising all cores and\n",
    "# sampling in proportion to y labels\n",
    "X_boruta = X_convert.copy().values\n",
    "y_boruta = y_convert.copy().ravel()\n",
    "\n",
    "clf = RandomForestClassifier(n_estimators=200, n_jobs=-1, max_depth=5)\n",
    "\n",
    "feat_selector = BorutaPy(clf, random_state=42, verbose=0)\n",
    "\n",
    "# find all relevant features - 5 features should be selected\n",
    "feat_selector.fit(X_boruta, y_boruta)\n",
    "\n",
    "# check selected features - first 5 features are selected\n",
    "feat_selector.support_\n",
    "\n",
    "# check ranking of features\n",
    "feat_selector.ranking_\n",
    "\n",
    "# call transform() on X to filter it down to selected features\n",
    "X_filtered = X_convert[X_convert.columns[feat_selector.support_]]"
   ]
  },
  {
   "cell_type": "code",
   "execution_count": 74,
   "id": "f58a56a9",
   "metadata": {},
   "outputs": [
    {
     "data": {
      "text/plain": [
       "(3738, 25)"
      ]
     },
     "execution_count": 74,
     "metadata": {},
     "output_type": "execute_result"
    }
   ],
   "source": [
    "X_filtered.shape"
   ]
  },
  {
   "cell_type": "code",
   "execution_count": 46,
   "id": "6c0fa5d0",
   "metadata": {},
   "outputs": [
    {
     "name": "stdout",
     "output_type": "stream",
     "text": [
      "RF...\n",
      "XGbost...\n",
      "DecisionTree...\n",
      "Perceptron...\n",
      "SVC...\n"
     ]
    },
    {
     "data": {
      "text/html": [
       "<div>\n",
       "<style scoped>\n",
       "    .dataframe tbody tr th:only-of-type {\n",
       "        vertical-align: middle;\n",
       "    }\n",
       "\n",
       "    .dataframe tbody tr th {\n",
       "        vertical-align: top;\n",
       "    }\n",
       "\n",
       "    .dataframe thead th {\n",
       "        text-align: right;\n",
       "    }\n",
       "</style>\n",
       "<table border=\"1\" class=\"dataframe\">\n",
       "  <thead>\n",
       "    <tr style=\"text-align: right;\">\n",
       "      <th></th>\n",
       "      <th>0</th>\n",
       "      <th>1</th>\n",
       "      <th>2</th>\n",
       "      <th>3</th>\n",
       "      <th>4</th>\n",
       "      <th>Mean</th>\n",
       "      <th>Time</th>\n",
       "    </tr>\n",
       "  </thead>\n",
       "  <tbody>\n",
       "    <tr>\n",
       "      <th>RF</th>\n",
       "      <td>0.821282</td>\n",
       "      <td>0.779944</td>\n",
       "      <td>0.784741</td>\n",
       "      <td>0.797241</td>\n",
       "      <td>0.807640</td>\n",
       "      <td>0.798170</td>\n",
       "      <td>2.410618</td>\n",
       "    </tr>\n",
       "    <tr>\n",
       "      <th>XGbost</th>\n",
       "      <td>0.804945</td>\n",
       "      <td>0.775453</td>\n",
       "      <td>0.773743</td>\n",
       "      <td>0.800000</td>\n",
       "      <td>0.803256</td>\n",
       "      <td>0.791480</td>\n",
       "      <td>1.083637</td>\n",
       "    </tr>\n",
       "    <tr>\n",
       "      <th>DecisionTree</th>\n",
       "      <td>0.769231</td>\n",
       "      <td>0.769640</td>\n",
       "      <td>0.737968</td>\n",
       "      <td>0.765563</td>\n",
       "      <td>0.777174</td>\n",
       "      <td>0.763915</td>\n",
       "      <td>0.100156</td>\n",
       "    </tr>\n",
       "    <tr>\n",
       "      <th>Perceptron</th>\n",
       "      <td>0.811554</td>\n",
       "      <td>0.758523</td>\n",
       "      <td>0.778378</td>\n",
       "      <td>0.790761</td>\n",
       "      <td>0.802244</td>\n",
       "      <td>0.788292</td>\n",
       "      <td>34.908466</td>\n",
       "    </tr>\n",
       "    <tr>\n",
       "      <th>SVC</th>\n",
       "      <td>0.814208</td>\n",
       "      <td>0.805970</td>\n",
       "      <td>0.789688</td>\n",
       "      <td>0.809019</td>\n",
       "      <td>0.805930</td>\n",
       "      <td>0.804963</td>\n",
       "      <td>1.872504</td>\n",
       "    </tr>\n",
       "  </tbody>\n",
       "</table>\n",
       "</div>"
      ],
      "text/plain": [
       "                     0         1         2         3         4      Mean  \\\n",
       "RF            0.821282  0.779944  0.784741  0.797241  0.807640  0.798170   \n",
       "XGbost        0.804945  0.775453  0.773743  0.800000  0.803256  0.791480   \n",
       "DecisionTree  0.769231  0.769640  0.737968  0.765563  0.777174  0.763915   \n",
       "Perceptron    0.811554  0.758523  0.778378  0.790761  0.802244  0.788292   \n",
       "SVC           0.814208  0.805970  0.789688  0.809019  0.805930  0.804963   \n",
       "\n",
       "                   Time  \n",
       "RF             2.410618  \n",
       "XGbost         1.083637  \n",
       "DecisionTree   0.100156  \n",
       "Perceptron    34.908466  \n",
       "SVC            1.872504  "
      ]
     },
     "execution_count": 46,
     "metadata": {},
     "output_type": "execute_result"
    }
   ],
   "source": [
    "df_boruta_score = test_algos(dict_algo, X_filtered, y_convert)\n",
    "df_boruta_score"
   ]
  },
  {
   "cell_type": "code",
   "execution_count": 47,
   "id": "cbdf08f9",
   "metadata": {},
   "outputs": [
    {
     "data": {
      "text/html": [
       "<div>\n",
       "<style scoped>\n",
       "    .dataframe tbody tr th:only-of-type {\n",
       "        vertical-align: middle;\n",
       "    }\n",
       "\n",
       "    .dataframe tbody tr th {\n",
       "        vertical-align: top;\n",
       "    }\n",
       "\n",
       "    .dataframe thead th {\n",
       "        text-align: right;\n",
       "    }\n",
       "</style>\n",
       "<table border=\"1\" class=\"dataframe\">\n",
       "  <thead>\n",
       "    <tr style=\"text-align: right;\">\n",
       "      <th></th>\n",
       "      <th>best_model</th>\n",
       "      <th>best_score</th>\n",
       "      <th>mean_score</th>\n",
       "      <th>std_score</th>\n",
       "      <th>mean_time</th>\n",
       "      <th>std_time</th>\n",
       "      <th>time_best_alg</th>\n",
       "    </tr>\n",
       "  </thead>\n",
       "  <tbody>\n",
       "    <tr>\n",
       "      <th>df_scores</th>\n",
       "      <td>Perceptron</td>\n",
       "      <td>0.370601</td>\n",
       "      <td>0.168787</td>\n",
       "      <td>0.133409</td>\n",
       "      <td>3.733182</td>\n",
       "      <td>3.310607</td>\n",
       "      <td>3.863168</td>\n",
       "    </tr>\n",
       "    <tr>\n",
       "      <th>df_balanced_score</th>\n",
       "      <td>RF</td>\n",
       "      <td>0.802091</td>\n",
       "      <td>0.773034</td>\n",
       "      <td>0.024271</td>\n",
       "      <td>1.699420</td>\n",
       "      <td>1.014104</td>\n",
       "      <td>2.319650</td>\n",
       "    </tr>\n",
       "    <tr>\n",
       "      <th>df_stand_score</th>\n",
       "      <td>SVC</td>\n",
       "      <td>0.805673</td>\n",
       "      <td>0.783313</td>\n",
       "      <td>0.022311</td>\n",
       "      <td>11.454180</td>\n",
       "      <td>22.298233</td>\n",
       "      <td>2.243395</td>\n",
       "    </tr>\n",
       "    <tr>\n",
       "      <th>df_convert_score</th>\n",
       "      <td>SVC</td>\n",
       "      <td>0.805664</td>\n",
       "      <td>0.784953</td>\n",
       "      <td>0.020976</td>\n",
       "      <td>10.753540</td>\n",
       "      <td>20.799128</td>\n",
       "      <td>2.188422</td>\n",
       "    </tr>\n",
       "    <tr>\n",
       "      <th>df_convert_2_score</th>\n",
       "      <td>SVC</td>\n",
       "      <td>0.805329</td>\n",
       "      <td>0.787669</td>\n",
       "      <td>0.016359</td>\n",
       "      <td>8.221794</td>\n",
       "      <td>15.282983</td>\n",
       "      <td>1.992327</td>\n",
       "    </tr>\n",
       "    <tr>\n",
       "      <th>df_corr_score</th>\n",
       "      <td>SVC</td>\n",
       "      <td>0.807094</td>\n",
       "      <td>0.783988</td>\n",
       "      <td>0.019930</td>\n",
       "      <td>12.181204</td>\n",
       "      <td>23.567610</td>\n",
       "      <td>3.122592</td>\n",
       "    </tr>\n",
       "    <tr>\n",
       "      <th>df_boruta</th>\n",
       "      <td>SVC</td>\n",
       "      <td>0.804963</td>\n",
       "      <td>0.789364</td>\n",
       "      <td>0.015606</td>\n",
       "      <td>8.075076</td>\n",
       "      <td>15.025548</td>\n",
       "      <td>1.872504</td>\n",
       "    </tr>\n",
       "  </tbody>\n",
       "</table>\n",
       "</div>"
      ],
      "text/plain": [
       "                    best_model  best_score  mean_score  std_score  mean_time  \\\n",
       "df_scores           Perceptron    0.370601    0.168787   0.133409   3.733182   \n",
       "df_balanced_score           RF    0.802091    0.773034   0.024271   1.699420   \n",
       "df_stand_score             SVC    0.805673    0.783313   0.022311  11.454180   \n",
       "df_convert_score           SVC    0.805664    0.784953   0.020976  10.753540   \n",
       "df_convert_2_score         SVC    0.805329    0.787669   0.016359   8.221794   \n",
       "df_corr_score              SVC    0.807094    0.783988   0.019930  12.181204   \n",
       "df_boruta                  SVC    0.804963    0.789364   0.015606   8.075076   \n",
       "\n",
       "                     std_time  time_best_alg  \n",
       "df_scores            3.310607       3.863168  \n",
       "df_balanced_score    1.014104       2.319650  \n",
       "df_stand_score      22.298233       2.243395  \n",
       "df_convert_score    20.799128       2.188422  \n",
       "df_convert_2_score  15.282983       1.992327  \n",
       "df_corr_score       23.567610       3.122592  \n",
       "df_boruta           15.025548       1.872504  "
      ]
     },
     "execution_count": 47,
     "metadata": {},
     "output_type": "execute_result"
    }
   ],
   "source": [
    "df_models_comparation = add_score(df_boruta_score, 'df_boruta', df_models_comparation)\n",
    "df_models_comparation"
   ]
  },
  {
   "cell_type": "markdown",
   "id": "10294614",
   "metadata": {},
   "source": [
    "**Utilizando Feature importance**"
   ]
  },
  {
   "cell_type": "code",
   "execution_count": 48,
   "id": "d26cd9ff",
   "metadata": {},
   "outputs": [],
   "source": [
    "# define random forest classifier, with utilising all cores and\n",
    "# sampling in proportion to y labels\n",
    "X_feat_importance = X_convert.copy()\n",
    "y_feat_importance = y_convert.copy()\n",
    "\n",
    "forest = RandomForestClassifier()\n",
    "\n",
    "forest.fit(X_filtered, y_feat_importance)\n",
    "importances = forest.feature_importances_\n",
    "\n",
    "std = np.std([tree.feature_importances_ for tree in forest.estimators_], axis=0)\n",
    "forest_importances = pd.Series(importances, index=X_filtered.columns)"
   ]
  },
  {
   "cell_type": "code",
   "execution_count": 49,
   "id": "9d3cd3e5",
   "metadata": {},
   "outputs": [
    {
     "data": {
      "text/plain": [
       "count    25.000000\n",
       "mean      0.040000\n",
       "std       0.069726\n",
       "min       0.002432\n",
       "25%       0.010699\n",
       "50%       0.014056\n",
       "75%       0.023594\n",
       "max       0.264120\n",
       "dtype: float64"
      ]
     },
     "execution_count": 49,
     "metadata": {},
     "output_type": "execute_result"
    }
   ],
   "source": [
    "forest_importances.describe()"
   ]
  },
  {
   "cell_type": "code",
   "execution_count": 50,
   "id": "5cfe0993",
   "metadata": {},
   "outputs": [
    {
     "data": {
      "image/png": "[encoded data removed]",
      "text/plain": [
       "<Figure size 1000x500 with 1 Axes>"
      ]
     },
     "metadata": {},
     "output_type": "display_data"
    }
   ],
   "source": [
    "forest_importances.sort_values(ascending=False, inplace=True)\n",
    "fig, ax = plt.subplots(figsize=(10,5))\n",
    "forest_importances.plot.bar(yerr=std, ax=ax)\n",
    "ax.set_title(\"Feature importances using MDI\")\n",
    "ax.set_ylabel(\"Mean decrease in impurity\")\n",
    "fig.tight_layout()"
   ]
  },
  {
   "cell_type": "markdown",
   "id": "14d560f0",
   "metadata": {},
   "source": [
    "**Analisando numero ideal**"
   ]
  },
  {
   "cell_type": "code",
   "execution_count": 51,
   "id": "bf87a64a",
   "metadata": {},
   "outputs": [],
   "source": [
    "# Aux function\n",
    "\n",
    "def test_alg(clf, X, y):\n",
    "    start_time = time.time()\n",
    "    scores = cross_val_score(clf, X, y, cv=5, scoring='f1')\n",
    "    end_time = time.time()\n",
    "    return scores.mean(), end_time - start_time"
   ]
  },
  {
   "cell_type": "code",
   "execution_count": 52,
   "id": "c860e95c",
   "metadata": {},
   "outputs": [
    {
     "name": "stderr",
     "output_type": "stream",
     "text": [
      "100%|██████████████████████████████████████████████████████████████████████████| 25/25 [00:53<00:00,  2.14s/it]\n"
     ]
    }
   ],
   "source": [
    "forest_importances.sort_values(ascending=False, inplace=True)\n",
    "list_features = []\n",
    "list_metrics = []\n",
    "clf = SVC()\n",
    "\n",
    "for feat in tqdm(forest_importances.index):\n",
    "    list_features.append(feat)\n",
    "    X_feats = X_convert[list_features]\n",
    "    metrics = test_alg(clf, X_feats, y_convert)\n",
    "    list_metrics.append(metrics)\n",
    "\n",
    "df_comparation = pd.DataFrame(list_metrics, columns=['f1_score','time'])"
   ]
  },
  {
   "cell_type": "code",
   "execution_count": 75,
   "id": "0396d87c",
   "metadata": {},
   "outputs": [
    {
     "data": {
      "text/plain": [
       "(3738, 13)"
      ]
     },
     "execution_count": 75,
     "metadata": {},
     "output_type": "execute_result"
    }
   ],
   "source": [
    "X_best_feats.shape"
   ]
  },
  {
   "cell_type": "code",
   "execution_count": 53,
   "id": "154e72d6",
   "metadata": {},
   "outputs": [
    {
     "data": {
      "text/plain": [
       "(14, 0.8081659962782627)"
      ]
     },
     "execution_count": 53,
     "metadata": {},
     "output_type": "execute_result"
    }
   ],
   "source": [
    "df_comparation['f1_score'].idxmax(), df_comparation['f1_score'].max()"
   ]
  },
  {
   "cell_type": "code",
   "execution_count": 54,
   "id": "f1cf6461",
   "metadata": {},
   "outputs": [
    {
     "name": "stdout",
     "output_type": "stream",
     "text": [
      "RF...\n",
      "XGbost...\n",
      "DecisionTree...\n",
      "Perceptron...\n",
      "SVC...\n"
     ]
    },
    {
     "data": {
      "text/html": [
       "<div>\n",
       "<style scoped>\n",
       "    .dataframe tbody tr th:only-of-type {\n",
       "        vertical-align: middle;\n",
       "    }\n",
       "\n",
       "    .dataframe tbody tr th {\n",
       "        vertical-align: top;\n",
       "    }\n",
       "\n",
       "    .dataframe thead th {\n",
       "        text-align: right;\n",
       "    }\n",
       "</style>\n",
       "<table border=\"1\" class=\"dataframe\">\n",
       "  <thead>\n",
       "    <tr style=\"text-align: right;\">\n",
       "      <th></th>\n",
       "      <th>0</th>\n",
       "      <th>1</th>\n",
       "      <th>2</th>\n",
       "      <th>3</th>\n",
       "      <th>4</th>\n",
       "      <th>Mean</th>\n",
       "      <th>Time</th>\n",
       "    </tr>\n",
       "  </thead>\n",
       "  <tbody>\n",
       "    <tr>\n",
       "      <th>RF</th>\n",
       "      <td>0.817680</td>\n",
       "      <td>0.773296</td>\n",
       "      <td>0.777778</td>\n",
       "      <td>0.792190</td>\n",
       "      <td>0.812672</td>\n",
       "      <td>0.794723</td>\n",
       "      <td>2.283160</td>\n",
       "    </tr>\n",
       "    <tr>\n",
       "      <th>XGbost</th>\n",
       "      <td>0.810667</td>\n",
       "      <td>0.784916</td>\n",
       "      <td>0.763889</td>\n",
       "      <td>0.802740</td>\n",
       "      <td>0.797799</td>\n",
       "      <td>0.792002</td>\n",
       "      <td>0.997948</td>\n",
       "    </tr>\n",
       "    <tr>\n",
       "      <th>DecisionTree</th>\n",
       "      <td>0.781579</td>\n",
       "      <td>0.755674</td>\n",
       "      <td>0.730871</td>\n",
       "      <td>0.765563</td>\n",
       "      <td>0.786003</td>\n",
       "      <td>0.763938</td>\n",
       "      <td>0.090368</td>\n",
       "    </tr>\n",
       "    <tr>\n",
       "      <th>Perceptron</th>\n",
       "      <td>0.814614</td>\n",
       "      <td>0.801619</td>\n",
       "      <td>0.766667</td>\n",
       "      <td>0.815825</td>\n",
       "      <td>0.809461</td>\n",
       "      <td>0.801637</td>\n",
       "      <td>37.378120</td>\n",
       "    </tr>\n",
       "    <tr>\n",
       "      <th>SVC</th>\n",
       "      <td>0.824324</td>\n",
       "      <td>0.802183</td>\n",
       "      <td>0.788618</td>\n",
       "      <td>0.811245</td>\n",
       "      <td>0.811398</td>\n",
       "      <td>0.807554</td>\n",
       "      <td>1.754658</td>\n",
       "    </tr>\n",
       "  </tbody>\n",
       "</table>\n",
       "</div>"
      ],
      "text/plain": [
       "                     0         1         2         3         4      Mean  \\\n",
       "RF            0.817680  0.773296  0.777778  0.792190  0.812672  0.794723   \n",
       "XGbost        0.810667  0.784916  0.763889  0.802740  0.797799  0.792002   \n",
       "DecisionTree  0.781579  0.755674  0.730871  0.765563  0.786003  0.763938   \n",
       "Perceptron    0.814614  0.801619  0.766667  0.815825  0.809461  0.801637   \n",
       "SVC           0.824324  0.802183  0.788618  0.811245  0.811398  0.807554   \n",
       "\n",
       "                   Time  \n",
       "RF             2.283160  \n",
       "XGbost         0.997948  \n",
       "DecisionTree   0.090368  \n",
       "Perceptron    37.378120  \n",
       "SVC            1.754658  "
      ]
     },
     "execution_count": 54,
     "metadata": {},
     "output_type": "execute_result"
    }
   ],
   "source": [
    "best_feats = list_features[:13]\n",
    "X_best_feats = X_convert[best_feats]\n",
    "df_best_feats_score = test_algos(dict_algo, X_best_feats, y_convert)\n",
    "df_best_feats_score"
   ]
  },
  {
   "cell_type": "code",
   "execution_count": 55,
   "id": "d117eb0d",
   "metadata": {},
   "outputs": [
    {
     "data": {
      "text/html": [
       "<div>\n",
       "<style scoped>\n",
       "    .dataframe tbody tr th:only-of-type {\n",
       "        vertical-align: middle;\n",
       "    }\n",
       "\n",
       "    .dataframe tbody tr th {\n",
       "        vertical-align: top;\n",
       "    }\n",
       "\n",
       "    .dataframe thead th {\n",
       "        text-align: right;\n",
       "    }\n",
       "</style>\n",
       "<table border=\"1\" class=\"dataframe\">\n",
       "  <thead>\n",
       "    <tr style=\"text-align: right;\">\n",
       "      <th></th>\n",
       "      <th>best_model</th>\n",
       "      <th>best_score</th>\n",
       "      <th>mean_score</th>\n",
       "      <th>std_score</th>\n",
       "      <th>mean_time</th>\n",
       "      <th>std_time</th>\n",
       "      <th>time_best_alg</th>\n",
       "    </tr>\n",
       "  </thead>\n",
       "  <tbody>\n",
       "    <tr>\n",
       "      <th>df_scores</th>\n",
       "      <td>Perceptron</td>\n",
       "      <td>0.370601</td>\n",
       "      <td>0.168787</td>\n",
       "      <td>0.133409</td>\n",
       "      <td>3.733182</td>\n",
       "      <td>3.310607</td>\n",
       "      <td>3.863168</td>\n",
       "    </tr>\n",
       "    <tr>\n",
       "      <th>df_balanced_score</th>\n",
       "      <td>RF</td>\n",
       "      <td>0.802091</td>\n",
       "      <td>0.773034</td>\n",
       "      <td>0.024271</td>\n",
       "      <td>1.699420</td>\n",
       "      <td>1.014104</td>\n",
       "      <td>2.319650</td>\n",
       "    </tr>\n",
       "    <tr>\n",
       "      <th>df_stand_score</th>\n",
       "      <td>SVC</td>\n",
       "      <td>0.805673</td>\n",
       "      <td>0.783313</td>\n",
       "      <td>0.022311</td>\n",
       "      <td>11.454180</td>\n",
       "      <td>22.298233</td>\n",
       "      <td>2.243395</td>\n",
       "    </tr>\n",
       "    <tr>\n",
       "      <th>df_convert_score</th>\n",
       "      <td>SVC</td>\n",
       "      <td>0.805664</td>\n",
       "      <td>0.784953</td>\n",
       "      <td>0.020976</td>\n",
       "      <td>10.753540</td>\n",
       "      <td>20.799128</td>\n",
       "      <td>2.188422</td>\n",
       "    </tr>\n",
       "    <tr>\n",
       "      <th>df_convert_2_score</th>\n",
       "      <td>SVC</td>\n",
       "      <td>0.805329</td>\n",
       "      <td>0.787669</td>\n",
       "      <td>0.016359</td>\n",
       "      <td>8.221794</td>\n",
       "      <td>15.282983</td>\n",
       "      <td>1.992327</td>\n",
       "    </tr>\n",
       "    <tr>\n",
       "      <th>df_corr_score</th>\n",
       "      <td>SVC</td>\n",
       "      <td>0.807094</td>\n",
       "      <td>0.783988</td>\n",
       "      <td>0.019930</td>\n",
       "      <td>12.181204</td>\n",
       "      <td>23.567610</td>\n",
       "      <td>3.122592</td>\n",
       "    </tr>\n",
       "    <tr>\n",
       "      <th>df_boruta</th>\n",
       "      <td>SVC</td>\n",
       "      <td>0.804963</td>\n",
       "      <td>0.789364</td>\n",
       "      <td>0.015606</td>\n",
       "      <td>8.075076</td>\n",
       "      <td>15.025548</td>\n",
       "      <td>1.872504</td>\n",
       "    </tr>\n",
       "    <tr>\n",
       "      <th>df_best_feats</th>\n",
       "      <td>SVC</td>\n",
       "      <td>0.807554</td>\n",
       "      <td>0.791971</td>\n",
       "      <td>0.016805</td>\n",
       "      <td>8.500851</td>\n",
       "      <td>16.163982</td>\n",
       "      <td>1.754658</td>\n",
       "    </tr>\n",
       "  </tbody>\n",
       "</table>\n",
       "</div>"
      ],
      "text/plain": [
       "                    best_model  best_score  mean_score  std_score  mean_time  \\\n",
       "df_scores           Perceptron    0.370601    0.168787   0.133409   3.733182   \n",
       "df_balanced_score           RF    0.802091    0.773034   0.024271   1.699420   \n",
       "df_stand_score             SVC    0.805673    0.783313   0.022311  11.454180   \n",
       "df_convert_score           SVC    0.805664    0.784953   0.020976  10.753540   \n",
       "df_convert_2_score         SVC    0.805329    0.787669   0.016359   8.221794   \n",
       "df_corr_score              SVC    0.807094    0.783988   0.019930  12.181204   \n",
       "df_boruta                  SVC    0.804963    0.789364   0.015606   8.075076   \n",
       "df_best_feats              SVC    0.807554    0.791971   0.016805   8.500851   \n",
       "\n",
       "                     std_time  time_best_alg  \n",
       "df_scores            3.310607       3.863168  \n",
       "df_balanced_score    1.014104       2.319650  \n",
       "df_stand_score      22.298233       2.243395  \n",
       "df_convert_score    20.799128       2.188422  \n",
       "df_convert_2_score  15.282983       1.992327  \n",
       "df_corr_score       23.567610       3.122592  \n",
       "df_boruta           15.025548       1.872504  \n",
       "df_best_feats       16.163982       1.754658  "
      ]
     },
     "execution_count": 55,
     "metadata": {},
     "output_type": "execute_result"
    }
   ],
   "source": [
    "df_models_comparation = add_score(df_best_feats_score, 'df_best_feats', df_models_comparation)\n",
    "df_models_comparation"
   ]
  },
  {
   "cell_type": "markdown",
   "id": "9c385f65",
   "metadata": {},
   "source": [
    "**Utilizando PCA sobre todas as features**"
   ]
  },
  {
   "cell_type": "code",
   "execution_count": 56,
   "id": "9e08f482",
   "metadata": {
    "scrolled": false
   },
   "outputs": [
    {
     "name": "stderr",
     "output_type": "stream",
     "text": [
      "100%|██████████████████████████████████████████████████████████████████████████| 39/39 [01:17<00:00,  1.99s/it]"
     ]
    },
    {
     "name": "stdout",
     "output_type": "stream",
     "text": [
      "Melhor metrica: 0.8059175897897329 Numero de parametros: 20\n"
     ]
    },
    {
     "name": "stderr",
     "output_type": "stream",
     "text": [
      "\n"
     ]
    }
   ],
   "source": [
    "from sklearn.decomposition import PCA\n",
    "list_features = []\n",
    "list_metrics = []\n",
    "clf = SVC()\n",
    "\n",
    "for num_feats in tqdm(range(1, len(X_convert.columns))):\n",
    "    pca = PCA(n_components=num_feats)\n",
    "    X_pca = pca.fit_transform(X_convert)\n",
    "    metrics = test_alg(clf, X_pca, y_convert)\n",
    "    list_metrics.append(metrics)\n",
    "\n",
    "df_comparation = pd.DataFrame(list_metrics, columns=['f1_score','time'])\n",
    "best_num_pca = df_comparation['f1_score'].idxmax()+1\n",
    "print(\"Melhor metrica:\", df_comparation['f1_score'].max(), \"Numero de parametros:\", best_num_pca)"
   ]
  },
  {
   "cell_type": "code",
   "execution_count": 76,
   "id": "7d3d515f",
   "metadata": {},
   "outputs": [
    {
     "name": "stdout",
     "output_type": "stream",
     "text": [
      "RF...\n",
      "XGbost...\n",
      "DecisionTree...\n",
      "Perceptron...\n"
     ]
    },
    {
     "name": "stderr",
     "output_type": "stream",
     "text": [
      "C:\\Users\\vinic\\anaconda3\\lib\\site-packages\\sklearn\\neural_network\\_multilayer_perceptron.py:679: ConvergenceWarning: Stochastic Optimizer: Maximum iterations (700) reached and the optimization hasn't converged yet.\n",
      "  warnings.warn(\n",
      "C:\\Users\\vinic\\anaconda3\\lib\\site-packages\\sklearn\\neural_network\\_multilayer_perceptron.py:679: ConvergenceWarning: Stochastic Optimizer: Maximum iterations (700) reached and the optimization hasn't converged yet.\n",
      "  warnings.warn(\n",
      "C:\\Users\\vinic\\anaconda3\\lib\\site-packages\\sklearn\\neural_network\\_multilayer_perceptron.py:679: ConvergenceWarning: Stochastic Optimizer: Maximum iterations (700) reached and the optimization hasn't converged yet.\n",
      "  warnings.warn(\n",
      "C:\\Users\\vinic\\anaconda3\\lib\\site-packages\\sklearn\\neural_network\\_multilayer_perceptron.py:679: ConvergenceWarning: Stochastic Optimizer: Maximum iterations (700) reached and the optimization hasn't converged yet.\n",
      "  warnings.warn(\n",
      "C:\\Users\\vinic\\anaconda3\\lib\\site-packages\\sklearn\\neural_network\\_multilayer_perceptron.py:679: ConvergenceWarning: Stochastic Optimizer: Maximum iterations (700) reached and the optimization hasn't converged yet.\n",
      "  warnings.warn(\n"
     ]
    },
    {
     "name": "stdout",
     "output_type": "stream",
     "text": [
      "SVC...\n"
     ]
    },
    {
     "data": {
      "text/html": [
       "<div>\n",
       "<style scoped>\n",
       "    .dataframe tbody tr th:only-of-type {\n",
       "        vertical-align: middle;\n",
       "    }\n",
       "\n",
       "    .dataframe tbody tr th {\n",
       "        vertical-align: top;\n",
       "    }\n",
       "\n",
       "    .dataframe thead th {\n",
       "        text-align: right;\n",
       "    }\n",
       "</style>\n",
       "<table border=\"1\" class=\"dataframe\">\n",
       "  <thead>\n",
       "    <tr style=\"text-align: right;\">\n",
       "      <th></th>\n",
       "      <th>0</th>\n",
       "      <th>1</th>\n",
       "      <th>2</th>\n",
       "      <th>3</th>\n",
       "      <th>4</th>\n",
       "      <th>Mean</th>\n",
       "      <th>Time</th>\n",
       "    </tr>\n",
       "  </thead>\n",
       "  <tbody>\n",
       "    <tr>\n",
       "      <th>RF</th>\n",
       "      <td>0.793914</td>\n",
       "      <td>0.778689</td>\n",
       "      <td>0.754144</td>\n",
       "      <td>0.795048</td>\n",
       "      <td>0.774898</td>\n",
       "      <td>0.779338</td>\n",
       "      <td>8.227072</td>\n",
       "    </tr>\n",
       "    <tr>\n",
       "      <th>XGbost</th>\n",
       "      <td>0.788966</td>\n",
       "      <td>0.766938</td>\n",
       "      <td>0.764626</td>\n",
       "      <td>0.789189</td>\n",
       "      <td>0.781421</td>\n",
       "      <td>0.778228</td>\n",
       "      <td>1.982175</td>\n",
       "    </tr>\n",
       "    <tr>\n",
       "      <th>DecisionTree</th>\n",
       "      <td>0.732543</td>\n",
       "      <td>0.713158</td>\n",
       "      <td>0.704762</td>\n",
       "      <td>0.748336</td>\n",
       "      <td>0.729023</td>\n",
       "      <td>0.725564</td>\n",
       "      <td>0.331867</td>\n",
       "    </tr>\n",
       "    <tr>\n",
       "      <th>Perceptron</th>\n",
       "      <td>0.773585</td>\n",
       "      <td>0.770861</td>\n",
       "      <td>0.755376</td>\n",
       "      <td>0.776439</td>\n",
       "      <td>0.772789</td>\n",
       "      <td>0.769810</td>\n",
       "      <td>52.929976</td>\n",
       "    </tr>\n",
       "    <tr>\n",
       "      <th>SVC</th>\n",
       "      <td>0.827869</td>\n",
       "      <td>0.796726</td>\n",
       "      <td>0.789757</td>\n",
       "      <td>0.802139</td>\n",
       "      <td>0.813097</td>\n",
       "      <td>0.805918</td>\n",
       "      <td>1.779421</td>\n",
       "    </tr>\n",
       "  </tbody>\n",
       "</table>\n",
       "</div>"
      ],
      "text/plain": [
       "                     0         1         2         3         4      Mean  \\\n",
       "RF            0.793914  0.778689  0.754144  0.795048  0.774898  0.779338   \n",
       "XGbost        0.788966  0.766938  0.764626  0.789189  0.781421  0.778228   \n",
       "DecisionTree  0.732543  0.713158  0.704762  0.748336  0.729023  0.725564   \n",
       "Perceptron    0.773585  0.770861  0.755376  0.776439  0.772789  0.769810   \n",
       "SVC           0.827869  0.796726  0.789757  0.802139  0.813097  0.805918   \n",
       "\n",
       "                   Time  \n",
       "RF             8.227072  \n",
       "XGbost         1.982175  \n",
       "DecisionTree   0.331867  \n",
       "Perceptron    52.929976  \n",
       "SVC            1.779421  "
      ]
     },
     "execution_count": 76,
     "metadata": {},
     "output_type": "execute_result"
    }
   ],
   "source": [
    "pca = PCA(n_components=best_num_pca)\n",
    "X_pca = pca.fit_transform(X_convert)\n",
    "df_pca = test_algos(dict_algo, X_pca, y_convert)\n",
    "df_pca"
   ]
  },
  {
   "cell_type": "code",
   "execution_count": 77,
   "id": "6929d7a6",
   "metadata": {},
   "outputs": [
    {
     "data": {
      "text/html": [
       "<div>\n",
       "<style scoped>\n",
       "    .dataframe tbody tr th:only-of-type {\n",
       "        vertical-align: middle;\n",
       "    }\n",
       "\n",
       "    .dataframe tbody tr th {\n",
       "        vertical-align: top;\n",
       "    }\n",
       "\n",
       "    .dataframe thead th {\n",
       "        text-align: right;\n",
       "    }\n",
       "</style>\n",
       "<table border=\"1\" class=\"dataframe\">\n",
       "  <thead>\n",
       "    <tr style=\"text-align: right;\">\n",
       "      <th></th>\n",
       "      <th>best_model</th>\n",
       "      <th>best_score</th>\n",
       "      <th>mean_score</th>\n",
       "      <th>std_score</th>\n",
       "      <th>mean_time</th>\n",
       "      <th>std_time</th>\n",
       "      <th>time_best_alg</th>\n",
       "    </tr>\n",
       "  </thead>\n",
       "  <tbody>\n",
       "    <tr>\n",
       "      <th>df_scores</th>\n",
       "      <td>Perceptron</td>\n",
       "      <td>0.370601</td>\n",
       "      <td>0.168787</td>\n",
       "      <td>0.133409</td>\n",
       "      <td>3.733182</td>\n",
       "      <td>3.310607</td>\n",
       "      <td>3.863168</td>\n",
       "    </tr>\n",
       "    <tr>\n",
       "      <th>df_balanced_score</th>\n",
       "      <td>RF</td>\n",
       "      <td>0.802091</td>\n",
       "      <td>0.773034</td>\n",
       "      <td>0.024271</td>\n",
       "      <td>1.699420</td>\n",
       "      <td>1.014104</td>\n",
       "      <td>2.319650</td>\n",
       "    </tr>\n",
       "    <tr>\n",
       "      <th>df_stand_score</th>\n",
       "      <td>SVC</td>\n",
       "      <td>0.805673</td>\n",
       "      <td>0.783313</td>\n",
       "      <td>0.022311</td>\n",
       "      <td>11.454180</td>\n",
       "      <td>22.298233</td>\n",
       "      <td>2.243395</td>\n",
       "    </tr>\n",
       "    <tr>\n",
       "      <th>df_convert_score</th>\n",
       "      <td>SVC</td>\n",
       "      <td>0.805664</td>\n",
       "      <td>0.784953</td>\n",
       "      <td>0.020976</td>\n",
       "      <td>10.753540</td>\n",
       "      <td>20.799128</td>\n",
       "      <td>2.188422</td>\n",
       "    </tr>\n",
       "    <tr>\n",
       "      <th>df_convert_2_score</th>\n",
       "      <td>SVC</td>\n",
       "      <td>0.805329</td>\n",
       "      <td>0.787669</td>\n",
       "      <td>0.016359</td>\n",
       "      <td>8.221794</td>\n",
       "      <td>15.282983</td>\n",
       "      <td>1.992327</td>\n",
       "    </tr>\n",
       "    <tr>\n",
       "      <th>df_corr_score</th>\n",
       "      <td>SVC</td>\n",
       "      <td>0.807094</td>\n",
       "      <td>0.783988</td>\n",
       "      <td>0.019930</td>\n",
       "      <td>12.181204</td>\n",
       "      <td>23.567610</td>\n",
       "      <td>3.122592</td>\n",
       "    </tr>\n",
       "    <tr>\n",
       "      <th>df_boruta</th>\n",
       "      <td>SVC</td>\n",
       "      <td>0.804963</td>\n",
       "      <td>0.789364</td>\n",
       "      <td>0.015606</td>\n",
       "      <td>8.075076</td>\n",
       "      <td>15.025548</td>\n",
       "      <td>1.872504</td>\n",
       "    </tr>\n",
       "    <tr>\n",
       "      <th>df_best_feats</th>\n",
       "      <td>SVC</td>\n",
       "      <td>0.807554</td>\n",
       "      <td>0.791971</td>\n",
       "      <td>0.016805</td>\n",
       "      <td>8.500851</td>\n",
       "      <td>16.163982</td>\n",
       "      <td>1.754658</td>\n",
       "    </tr>\n",
       "    <tr>\n",
       "      <th>df_pca</th>\n",
       "      <td>SVC</td>\n",
       "      <td>0.807554</td>\n",
       "      <td>0.791971</td>\n",
       "      <td>0.016805</td>\n",
       "      <td>8.544581</td>\n",
       "      <td>16.237415</td>\n",
       "      <td>1.775950</td>\n",
       "    </tr>\n",
       "    <tr>\n",
       "      <th>df_pca_2</th>\n",
       "      <td>SVC</td>\n",
       "      <td>0.807554</td>\n",
       "      <td>0.791971</td>\n",
       "      <td>0.016805</td>\n",
       "      <td>8.601890</td>\n",
       "      <td>16.340341</td>\n",
       "      <td>1.775953</td>\n",
       "    </tr>\n",
       "    <tr>\n",
       "      <th>df_pca</th>\n",
       "      <td>SVC</td>\n",
       "      <td>0.805918</td>\n",
       "      <td>0.771772</td>\n",
       "      <td>0.029171</td>\n",
       "      <td>13.050102</td>\n",
       "      <td>22.499704</td>\n",
       "      <td>1.779421</td>\n",
       "    </tr>\n",
       "  </tbody>\n",
       "</table>\n",
       "</div>"
      ],
      "text/plain": [
       "                    best_model  best_score  mean_score  std_score  mean_time  \\\n",
       "df_scores           Perceptron    0.370601    0.168787   0.133409   3.733182   \n",
       "df_balanced_score           RF    0.802091    0.773034   0.024271   1.699420   \n",
       "df_stand_score             SVC    0.805673    0.783313   0.022311  11.454180   \n",
       "df_convert_score           SVC    0.805664    0.784953   0.020976  10.753540   \n",
       "df_convert_2_score         SVC    0.805329    0.787669   0.016359   8.221794   \n",
       "df_corr_score              SVC    0.807094    0.783988   0.019930  12.181204   \n",
       "df_boruta                  SVC    0.804963    0.789364   0.015606   8.075076   \n",
       "df_best_feats              SVC    0.807554    0.791971   0.016805   8.500851   \n",
       "df_pca                     SVC    0.807554    0.791971   0.016805   8.544581   \n",
       "df_pca_2                   SVC    0.807554    0.791971   0.016805   8.601890   \n",
       "df_pca                     SVC    0.805918    0.771772   0.029171  13.050102   \n",
       "\n",
       "                     std_time  time_best_alg  \n",
       "df_scores            3.310607       3.863168  \n",
       "df_balanced_score    1.014104       2.319650  \n",
       "df_stand_score      22.298233       2.243395  \n",
       "df_convert_score    20.799128       2.188422  \n",
       "df_convert_2_score  15.282983       1.992327  \n",
       "df_corr_score       23.567610       3.122592  \n",
       "df_boruta           15.025548       1.872504  \n",
       "df_best_feats       16.163982       1.754658  \n",
       "df_pca              16.237415       1.775950  \n",
       "df_pca_2            16.340341       1.775953  \n",
       "df_pca              22.499704       1.779421  "
      ]
     },
     "execution_count": 77,
     "metadata": {},
     "output_type": "execute_result"
    }
   ],
   "source": [
    "df_models_comparation = add_score(df_pca, 'df_pca', df_models_comparation)\n",
    "df_models_comparation"
   ]
  },
  {
   "cell_type": "markdown",
   "id": "8dc7cbd7",
   "metadata": {},
   "source": [
    "**Utilizando PCA sobre melhores as features**"
   ]
  },
  {
   "cell_type": "code",
   "execution_count": 78,
   "id": "44ecd5ed",
   "metadata": {},
   "outputs": [
    {
     "name": "stderr",
     "output_type": "stream",
     "text": [
      "100%|██████████████████████████████████████████████████████████████████████████| 12/12 [00:21<00:00,  1.78s/it]"
     ]
    },
    {
     "name": "stdout",
     "output_type": "stream",
     "text": [
      "0.8073352847051913 20\n"
     ]
    },
    {
     "name": "stderr",
     "output_type": "stream",
     "text": [
      "\n"
     ]
    }
   ],
   "source": [
    "from sklearn.decomposition import PCA\n",
    "list_features = []\n",
    "list_metrics = []\n",
    "clf = SVC()\n",
    "\n",
    "for num_feats in tqdm(range(1, len(X_best_feats.columns))):\n",
    "    pca = PCA(n_components=num_feats)\n",
    "    X_pca = pca.fit_transform(X_best_feats)\n",
    "    metrics = test_alg(clf, X_pca, y_convert)\n",
    "    list_metrics.append(metrics)\n",
    "\n",
    "df_comparation_2 = pd.DataFrame(list_metrics, columns=['f1_score','time'])\n",
    "best_num_pca_2 = df_comparation_2['f1_score'].idxmax()+1\n",
    "print(df_comparation_2['f1_score'].max(), best_num_pca)"
   ]
  },
  {
   "cell_type": "code",
   "execution_count": 79,
   "id": "c611d424",
   "metadata": {},
   "outputs": [
    {
     "name": "stdout",
     "output_type": "stream",
     "text": [
      "RF...\n",
      "XGbost...\n",
      "DecisionTree...\n",
      "Perceptron...\n"
     ]
    },
    {
     "name": "stderr",
     "output_type": "stream",
     "text": [
      "C:\\Users\\vinic\\anaconda3\\lib\\site-packages\\sklearn\\neural_network\\_multilayer_perceptron.py:679: ConvergenceWarning: Stochastic Optimizer: Maximum iterations (700) reached and the optimization hasn't converged yet.\n",
      "  warnings.warn(\n",
      "C:\\Users\\vinic\\anaconda3\\lib\\site-packages\\sklearn\\neural_network\\_multilayer_perceptron.py:679: ConvergenceWarning: Stochastic Optimizer: Maximum iterations (700) reached and the optimization hasn't converged yet.\n",
      "  warnings.warn(\n",
      "C:\\Users\\vinic\\anaconda3\\lib\\site-packages\\sklearn\\neural_network\\_multilayer_perceptron.py:679: ConvergenceWarning: Stochastic Optimizer: Maximum iterations (700) reached and the optimization hasn't converged yet.\n",
      "  warnings.warn(\n",
      "C:\\Users\\vinic\\anaconda3\\lib\\site-packages\\sklearn\\neural_network\\_multilayer_perceptron.py:679: ConvergenceWarning: Stochastic Optimizer: Maximum iterations (700) reached and the optimization hasn't converged yet.\n",
      "  warnings.warn(\n",
      "C:\\Users\\vinic\\anaconda3\\lib\\site-packages\\sklearn\\neural_network\\_multilayer_perceptron.py:679: ConvergenceWarning: Stochastic Optimizer: Maximum iterations (700) reached and the optimization hasn't converged yet.\n",
      "  warnings.warn(\n"
     ]
    },
    {
     "name": "stdout",
     "output_type": "stream",
     "text": [
      "SVC...\n"
     ]
    },
    {
     "data": {
      "text/html": [
       "<div>\n",
       "<style scoped>\n",
       "    .dataframe tbody tr th:only-of-type {\n",
       "        vertical-align: middle;\n",
       "    }\n",
       "\n",
       "    .dataframe tbody tr th {\n",
       "        vertical-align: top;\n",
       "    }\n",
       "\n",
       "    .dataframe thead th {\n",
       "        text-align: right;\n",
       "    }\n",
       "</style>\n",
       "<table border=\"1\" class=\"dataframe\">\n",
       "  <thead>\n",
       "    <tr style=\"text-align: right;\">\n",
       "      <th></th>\n",
       "      <th>0</th>\n",
       "      <th>1</th>\n",
       "      <th>2</th>\n",
       "      <th>3</th>\n",
       "      <th>4</th>\n",
       "      <th>Mean</th>\n",
       "      <th>Time</th>\n",
       "    </tr>\n",
       "  </thead>\n",
       "  <tbody>\n",
       "    <tr>\n",
       "      <th>RF</th>\n",
       "      <td>0.801664</td>\n",
       "      <td>0.766434</td>\n",
       "      <td>0.781421</td>\n",
       "      <td>0.797260</td>\n",
       "      <td>0.799443</td>\n",
       "      <td>0.789244</td>\n",
       "      <td>6.277853</td>\n",
       "    </tr>\n",
       "    <tr>\n",
       "      <th>XGbost</th>\n",
       "      <td>0.796748</td>\n",
       "      <td>0.747613</td>\n",
       "      <td>0.766304</td>\n",
       "      <td>0.784574</td>\n",
       "      <td>0.769231</td>\n",
       "      <td>0.772894</td>\n",
       "      <td>1.521670</td>\n",
       "    </tr>\n",
       "    <tr>\n",
       "      <th>DecisionTree</th>\n",
       "      <td>0.748031</td>\n",
       "      <td>0.747051</td>\n",
       "      <td>0.727513</td>\n",
       "      <td>0.729730</td>\n",
       "      <td>0.756972</td>\n",
       "      <td>0.741860</td>\n",
       "      <td>0.203971</td>\n",
       "    </tr>\n",
       "    <tr>\n",
       "      <th>Perceptron</th>\n",
       "      <td>0.809202</td>\n",
       "      <td>0.770289</td>\n",
       "      <td>0.784946</td>\n",
       "      <td>0.800000</td>\n",
       "      <td>0.802667</td>\n",
       "      <td>0.793421</td>\n",
       "      <td>50.572815</td>\n",
       "    </tr>\n",
       "    <tr>\n",
       "      <th>SVC</th>\n",
       "      <td>0.824324</td>\n",
       "      <td>0.800546</td>\n",
       "      <td>0.790761</td>\n",
       "      <td>0.810160</td>\n",
       "      <td>0.810884</td>\n",
       "      <td>0.807335</td>\n",
       "      <td>1.601510</td>\n",
       "    </tr>\n",
       "  </tbody>\n",
       "</table>\n",
       "</div>"
      ],
      "text/plain": [
       "                     0         1         2         3         4      Mean  \\\n",
       "RF            0.801664  0.766434  0.781421  0.797260  0.799443  0.789244   \n",
       "XGbost        0.796748  0.747613  0.766304  0.784574  0.769231  0.772894   \n",
       "DecisionTree  0.748031  0.747051  0.727513  0.729730  0.756972  0.741860   \n",
       "Perceptron    0.809202  0.770289  0.784946  0.800000  0.802667  0.793421   \n",
       "SVC           0.824324  0.800546  0.790761  0.810160  0.810884  0.807335   \n",
       "\n",
       "                   Time  \n",
       "RF             6.277853  \n",
       "XGbost         1.521670  \n",
       "DecisionTree   0.203971  \n",
       "Perceptron    50.572815  \n",
       "SVC            1.601510  "
      ]
     },
     "execution_count": 79,
     "metadata": {},
     "output_type": "execute_result"
    }
   ],
   "source": [
    "pca = PCA(n_components=best_num_pca_2)\n",
    "X_pca_2 = pca.fit_transform(X_best_feats)\n",
    "df_pca_2 = test_algos(dict_algo, X_pca_2, y_convert)\n",
    "df_pca_2"
   ]
  },
  {
   "cell_type": "code",
   "execution_count": 80,
   "id": "838a98a5",
   "metadata": {},
   "outputs": [
    {
     "data": {
      "text/html": [
       "<div>\n",
       "<style scoped>\n",
       "    .dataframe tbody tr th:only-of-type {\n",
       "        vertical-align: middle;\n",
       "    }\n",
       "\n",
       "    .dataframe tbody tr th {\n",
       "        vertical-align: top;\n",
       "    }\n",
       "\n",
       "    .dataframe thead th {\n",
       "        text-align: right;\n",
       "    }\n",
       "</style>\n",
       "<table border=\"1\" class=\"dataframe\">\n",
       "  <thead>\n",
       "    <tr style=\"text-align: right;\">\n",
       "      <th></th>\n",
       "      <th>best_model</th>\n",
       "      <th>best_score</th>\n",
       "      <th>mean_score</th>\n",
       "      <th>std_score</th>\n",
       "      <th>mean_time</th>\n",
       "      <th>std_time</th>\n",
       "      <th>time_best_alg</th>\n",
       "    </tr>\n",
       "  </thead>\n",
       "  <tbody>\n",
       "    <tr>\n",
       "      <th>df_scores</th>\n",
       "      <td>Perceptron</td>\n",
       "      <td>0.370601</td>\n",
       "      <td>0.168787</td>\n",
       "      <td>0.133409</td>\n",
       "      <td>3.733182</td>\n",
       "      <td>3.310607</td>\n",
       "      <td>3.863168</td>\n",
       "    </tr>\n",
       "    <tr>\n",
       "      <th>df_balanced_score</th>\n",
       "      <td>RF</td>\n",
       "      <td>0.802091</td>\n",
       "      <td>0.773034</td>\n",
       "      <td>0.024271</td>\n",
       "      <td>1.699420</td>\n",
       "      <td>1.014104</td>\n",
       "      <td>2.319650</td>\n",
       "    </tr>\n",
       "    <tr>\n",
       "      <th>df_stand_score</th>\n",
       "      <td>SVC</td>\n",
       "      <td>0.805673</td>\n",
       "      <td>0.783313</td>\n",
       "      <td>0.022311</td>\n",
       "      <td>11.454180</td>\n",
       "      <td>22.298233</td>\n",
       "      <td>2.243395</td>\n",
       "    </tr>\n",
       "    <tr>\n",
       "      <th>df_convert_score</th>\n",
       "      <td>SVC</td>\n",
       "      <td>0.805664</td>\n",
       "      <td>0.784953</td>\n",
       "      <td>0.020976</td>\n",
       "      <td>10.753540</td>\n",
       "      <td>20.799128</td>\n",
       "      <td>2.188422</td>\n",
       "    </tr>\n",
       "    <tr>\n",
       "      <th>df_convert_2_score</th>\n",
       "      <td>SVC</td>\n",
       "      <td>0.805329</td>\n",
       "      <td>0.787669</td>\n",
       "      <td>0.016359</td>\n",
       "      <td>8.221794</td>\n",
       "      <td>15.282983</td>\n",
       "      <td>1.992327</td>\n",
       "    </tr>\n",
       "    <tr>\n",
       "      <th>df_corr_score</th>\n",
       "      <td>SVC</td>\n",
       "      <td>0.807094</td>\n",
       "      <td>0.783988</td>\n",
       "      <td>0.019930</td>\n",
       "      <td>12.181204</td>\n",
       "      <td>23.567610</td>\n",
       "      <td>3.122592</td>\n",
       "    </tr>\n",
       "    <tr>\n",
       "      <th>df_boruta</th>\n",
       "      <td>SVC</td>\n",
       "      <td>0.804963</td>\n",
       "      <td>0.789364</td>\n",
       "      <td>0.015606</td>\n",
       "      <td>8.075076</td>\n",
       "      <td>15.025548</td>\n",
       "      <td>1.872504</td>\n",
       "    </tr>\n",
       "    <tr>\n",
       "      <th>df_best_feats</th>\n",
       "      <td>SVC</td>\n",
       "      <td>0.807554</td>\n",
       "      <td>0.791971</td>\n",
       "      <td>0.016805</td>\n",
       "      <td>8.500851</td>\n",
       "      <td>16.163982</td>\n",
       "      <td>1.754658</td>\n",
       "    </tr>\n",
       "    <tr>\n",
       "      <th>df_pca</th>\n",
       "      <td>SVC</td>\n",
       "      <td>0.807554</td>\n",
       "      <td>0.791971</td>\n",
       "      <td>0.016805</td>\n",
       "      <td>8.544581</td>\n",
       "      <td>16.237415</td>\n",
       "      <td>1.775950</td>\n",
       "    </tr>\n",
       "    <tr>\n",
       "      <th>df_pca_2</th>\n",
       "      <td>SVC</td>\n",
       "      <td>0.807554</td>\n",
       "      <td>0.791971</td>\n",
       "      <td>0.016805</td>\n",
       "      <td>8.601890</td>\n",
       "      <td>16.340341</td>\n",
       "      <td>1.775953</td>\n",
       "    </tr>\n",
       "    <tr>\n",
       "      <th>df_pca</th>\n",
       "      <td>SVC</td>\n",
       "      <td>0.805918</td>\n",
       "      <td>0.771772</td>\n",
       "      <td>0.029171</td>\n",
       "      <td>13.050102</td>\n",
       "      <td>22.499704</td>\n",
       "      <td>1.779421</td>\n",
       "    </tr>\n",
       "    <tr>\n",
       "      <th>df_pca_2</th>\n",
       "      <td>SVC</td>\n",
       "      <td>0.807335</td>\n",
       "      <td>0.780951</td>\n",
       "      <td>0.025067</td>\n",
       "      <td>12.035564</td>\n",
       "      <td>21.666039</td>\n",
       "      <td>1.601510</td>\n",
       "    </tr>\n",
       "  </tbody>\n",
       "</table>\n",
       "</div>"
      ],
      "text/plain": [
       "                    best_model  best_score  mean_score  std_score  mean_time  \\\n",
       "df_scores           Perceptron    0.370601    0.168787   0.133409   3.733182   \n",
       "df_balanced_score           RF    0.802091    0.773034   0.024271   1.699420   \n",
       "df_stand_score             SVC    0.805673    0.783313   0.022311  11.454180   \n",
       "df_convert_score           SVC    0.805664    0.784953   0.020976  10.753540   \n",
       "df_convert_2_score         SVC    0.805329    0.787669   0.016359   8.221794   \n",
       "df_corr_score              SVC    0.807094    0.783988   0.019930  12.181204   \n",
       "df_boruta                  SVC    0.804963    0.789364   0.015606   8.075076   \n",
       "df_best_feats              SVC    0.807554    0.791971   0.016805   8.500851   \n",
       "df_pca                     SVC    0.807554    0.791971   0.016805   8.544581   \n",
       "df_pca_2                   SVC    0.807554    0.791971   0.016805   8.601890   \n",
       "df_pca                     SVC    0.805918    0.771772   0.029171  13.050102   \n",
       "df_pca_2                   SVC    0.807335    0.780951   0.025067  12.035564   \n",
       "\n",
       "                     std_time  time_best_alg  \n",
       "df_scores            3.310607       3.863168  \n",
       "df_balanced_score    1.014104       2.319650  \n",
       "df_stand_score      22.298233       2.243395  \n",
       "df_convert_score    20.799128       2.188422  \n",
       "df_convert_2_score  15.282983       1.992327  \n",
       "df_corr_score       23.567610       3.122592  \n",
       "df_boruta           15.025548       1.872504  \n",
       "df_best_feats       16.163982       1.754658  \n",
       "df_pca              16.237415       1.775950  \n",
       "df_pca_2            16.340341       1.775953  \n",
       "df_pca              22.499704       1.779421  \n",
       "df_pca_2            21.666039       1.601510  "
      ]
     },
     "execution_count": 80,
     "metadata": {},
     "output_type": "execute_result"
    }
   ],
   "source": [
    "df_models_comparation = add_score(df_pca_2, 'df_pca_2', df_models_comparation)\n",
    "df_models_comparation"
   ]
  },
  {
   "cell_type": "markdown",
   "id": "3903ab84",
   "metadata": {},
   "source": [
    "# 5. Tunning"
   ]
  },
  {
   "cell_type": "markdown",
   "id": "35ab1a48",
   "metadata": {},
   "source": [
    "**Obs:** Para o tunning será usado a base de PCA, com 20 componetes, pois demonstrou ter a melhor performace/tempo, e será analisado os dois melhores algoritmo (SVM e RandoForest). Enquanto para escolha dos hyperparametros será utilizando o o metodo bayesian search. "
   ]
  },
  {
   "cell_type": "markdown",
   "id": "2423f892",
   "metadata": {},
   "source": [
    "**Tunning SVM**"
   ]
  },
  {
   "cell_type": "code",
   "execution_count": 62,
   "id": "1d665087",
   "metadata": {},
   "outputs": [],
   "source": [
    "from sklearn.model_selection import StratifiedKFold\n",
    "from skopt.space import Real, Categorical, Integer\n",
    "from skopt import BayesSearchCV\n",
    "\n",
    "clf = SVC()\n",
    "\n",
    "ITERATIONS = 10\n",
    "\n",
    "search_paramns = {\n",
    "                  'C': Real(1e-6, 1e+6, prior='log-uniform'),\n",
    "                  'gamma': Real(1e-6, 1e+1, prior='log-uniform'),\n",
    "                  'degree': Integer(1,8),\n",
    "                  'kernel': Categorical(['linear', 'poly', 'rbf']),\n",
    "                }\n",
    "\n",
    "cv = StratifiedKFold(n_splits=5, shuffle=True)\n",
    "\n",
    "bayes_cv_tuner = BayesSearchCV(estimator=clf, search_spaces=search_paramns, refit = True,\n",
    "                               scoring='f1', cv=cv, n_iter = ITERATIONS)"
   ]
  },
  {
   "cell_type": "code",
   "execution_count": 63,
   "id": "282c5d9e",
   "metadata": {},
   "outputs": [
    {
     "name": "stdout",
     "output_type": "stream",
     "text": [
      "Iteration No: 1 started. Searching for the next optimal point.\n"
     ]
    }
   ],
   "source": [
    "from skopt.callbacks import VerboseCallback\n",
    "callback = VerboseCallback(0)"
   ]
  },
  {
   "cell_type": "code",
   "execution_count": 64,
   "id": "35725cbe",
   "metadata": {},
   "outputs": [
    {
     "name": "stdout",
     "output_type": "stream",
     "text": [
      "Iteration No: 1 ended. Search finished for the next optimal point.\n",
      "Time taken: 4.1319\n",
      "Function value obtained: -0.7765\n",
      "Current minimum: -0.7765\n",
      "Iteration No: 2 ended. Search finished for the next optimal point.\n",
      "Time taken: 6.0328\n",
      "Function value obtained: -0.4489\n",
      "Current minimum: -0.7765\n",
      "Iteration No: 3 ended. Search finished for the next optimal point.\n",
      "Time taken: 12.2280\n",
      "Function value obtained: -0.7566\n",
      "Current minimum: -0.7765\n",
      "Iteration No: 4 ended. Search finished for the next optimal point.\n",
      "Time taken: 14.1454\n",
      "Function value obtained: -0.4485\n",
      "Current minimum: -0.7765\n",
      "Iteration No: 5 ended. Search finished for the next optimal point.\n",
      "Time taken: 16.2029\n",
      "Function value obtained: -0.2394\n",
      "Current minimum: -0.7765\n",
      "Iteration No: 6 ended. Search finished for the next optimal point.\n",
      "Time taken: 18.5115\n",
      "Function value obtained: -0.7936\n",
      "Current minimum: -0.7936\n",
      "Iteration No: 7 ended. Search finished for the next optimal point.\n",
      "Time taken: 22.0299\n",
      "Function value obtained: -0.7274\n",
      "Current minimum: -0.7936\n",
      "Iteration No: 8 ended. Search finished for the next optimal point.\n",
      "Time taken: 23.9157\n",
      "Function value obtained: -0.6099\n",
      "Current minimum: -0.7936\n",
      "Iteration No: 9 ended. Search finished for the next optimal point.\n",
      "Time taken: 25.9117\n",
      "Function value obtained: -0.2646\n",
      "Current minimum: -0.7936\n",
      "Iteration No: 10 ended. Search finished for the next optimal point.\n",
      "Time taken: 28.6923\n",
      "Function value obtained: -0.2347\n",
      "Current minimum: -0.7936\n",
      "Tempo cpu:29.132\n"
     ]
    }
   ],
   "source": [
    "start = time.time()\n",
    "# Fit the model\n",
    "result_cpu = bayes_cv_tuner.fit(X_pca, y_convert, callback=callback)\n",
    "time_model_cpu = round(time.time() - start, 3)\n",
    "print(f\"Tempo cpu:{time_model_cpu}\")"
   ]
  },
  {
   "cell_type": "markdown",
   "id": "89e035cd",
   "metadata": {},
   "source": [
    "**Tuning Random Forest**"
   ]
  },
  {
   "cell_type": "code",
   "execution_count": 65,
   "id": "a27b19f8",
   "metadata": {},
   "outputs": [],
   "source": [
    "rf_clf = RandomForestClassifier()\n",
    "\n",
    "ITERATIONS = 20\n",
    "\n",
    "search_paramns = {\n",
    "                     'bootstrap': (True, False),\n",
    "                     'max_depth': (10, 10000, 'log-uniform'),\n",
    "                     'max_features': ('auto', 'sqrt'),\n",
    "                     'min_samples_leaf': (1, 5, 'log-uniform'),\n",
    "                     'min_samples_split': (2, 10, 'log-uniform'),\n",
    "                     'n_estimators': (100, 2000, 'log-uniform')\n",
    "                }\n",
    "\n",
    "cv = StratifiedKFold(n_splits=5, shuffle=True)\n",
    "\n",
    "bayes_cv_tuner = BayesSearchCV(estimator=rf_clf, search_spaces=search_paramns, refit = True,\n",
    "                               scoring='f1', cv=cv, n_iter = ITERATIONS)"
   ]
  },
  {
   "cell_type": "code",
   "execution_count": 66,
   "id": "0613d3c9",
   "metadata": {},
   "outputs": [
    {
     "name": "stdout",
     "output_type": "stream",
     "text": [
      "Iteration No: 11 ended. Search finished for the next optimal point.\n",
      "Time taken: 64.9439\n",
      "Function value obtained: -0.7752\n",
      "Current minimum: -0.7752\n",
      "Iteration No: 12 ended. Search finished for the next optimal point.\n",
      "Time taken: 84.3149\n",
      "Function value obtained: -0.7812\n",
      "Current minimum: -0.7812\n",
      "Iteration No: 13 ended. Search finished for the next optimal point.\n",
      "Time taken: 122.2996\n",
      "Function value obtained: -0.7823\n",
      "Current minimum: -0.7823\n",
      "Iteration No: 14 ended. Search finished for the next optimal point.\n",
      "Time taken: 207.3197\n",
      "Function value obtained: -0.7864\n",
      "Current minimum: -0.7864\n"
     ]
    },
    {
     "name": "stderr",
     "output_type": "stream",
     "text": [
      "C:\\Users\\vinic\\anaconda3\\lib\\site-packages\\sklearn\\ensemble\\_forest.py:425: FutureWarning: `max_features='auto'` has been deprecated in 1.1 and will be removed in 1.3. To keep the past behaviour, explicitly set `max_features='sqrt'` or remove this parameter as it is also the default value for RandomForestClassifiers and ExtraTreesClassifiers.\n",
      "  warn(\n",
      "C:\\Users\\vinic\\anaconda3\\lib\\site-packages\\sklearn\\ensemble\\_forest.py:425: FutureWarning: `max_features='auto'` has been deprecated in 1.1 and will be removed in 1.3. To keep the past behaviour, explicitly set `max_features='sqrt'` or remove this parameter as it is also the default value for RandomForestClassifiers and ExtraTreesClassifiers.\n",
      "  warn(\n",
      "C:\\Users\\vinic\\anaconda3\\lib\\site-packages\\sklearn\\ensemble\\_forest.py:425: FutureWarning: `max_features='auto'` has been deprecated in 1.1 and will be removed in 1.3. To keep the past behaviour, explicitly set `max_features='sqrt'` or remove this parameter as it is also the default value for RandomForestClassifiers and ExtraTreesClassifiers.\n",
      "  warn(\n",
      "C:\\Users\\vinic\\anaconda3\\lib\\site-packages\\sklearn\\ensemble\\_forest.py:425: FutureWarning: `max_features='auto'` has been deprecated in 1.1 and will be removed in 1.3. To keep the past behaviour, explicitly set `max_features='sqrt'` or remove this parameter as it is also the default value for RandomForestClassifiers and ExtraTreesClassifiers.\n",
      "  warn(\n",
      "C:\\Users\\vinic\\anaconda3\\lib\\site-packages\\sklearn\\ensemble\\_forest.py:425: FutureWarning: `max_features='auto'` has been deprecated in 1.1 and will be removed in 1.3. To keep the past behaviour, explicitly set `max_features='sqrt'` or remove this parameter as it is also the default value for RandomForestClassifiers and ExtraTreesClassifiers.\n",
      "  warn(\n"
     ]
    },
    {
     "name": "stdout",
     "output_type": "stream",
     "text": [
      "Iteration No: 15 ended. Search finished for the next optimal point.\n",
      "Time taken: 213.6554\n",
      "Function value obtained: -0.7894\n",
      "Current minimum: -0.7894\n"
     ]
    },
    {
     "name": "stderr",
     "output_type": "stream",
     "text": [
      "C:\\Users\\vinic\\anaconda3\\lib\\site-packages\\sklearn\\ensemble\\_forest.py:425: FutureWarning: `max_features='auto'` has been deprecated in 1.1 and will be removed in 1.3. To keep the past behaviour, explicitly set `max_features='sqrt'` or remove this parameter as it is also the default value for RandomForestClassifiers and ExtraTreesClassifiers.\n",
      "  warn(\n",
      "C:\\Users\\vinic\\anaconda3\\lib\\site-packages\\sklearn\\ensemble\\_forest.py:425: FutureWarning: `max_features='auto'` has been deprecated in 1.1 and will be removed in 1.3. To keep the past behaviour, explicitly set `max_features='sqrt'` or remove this parameter as it is also the default value for RandomForestClassifiers and ExtraTreesClassifiers.\n",
      "  warn(\n",
      "C:\\Users\\vinic\\anaconda3\\lib\\site-packages\\sklearn\\ensemble\\_forest.py:425: FutureWarning: `max_features='auto'` has been deprecated in 1.1 and will be removed in 1.3. To keep the past behaviour, explicitly set `max_features='sqrt'` or remove this parameter as it is also the default value for RandomForestClassifiers and ExtraTreesClassifiers.\n",
      "  warn(\n",
      "C:\\Users\\vinic\\anaconda3\\lib\\site-packages\\sklearn\\ensemble\\_forest.py:425: FutureWarning: `max_features='auto'` has been deprecated in 1.1 and will be removed in 1.3. To keep the past behaviour, explicitly set `max_features='sqrt'` or remove this parameter as it is also the default value for RandomForestClassifiers and ExtraTreesClassifiers.\n",
      "  warn(\n",
      "C:\\Users\\vinic\\anaconda3\\lib\\site-packages\\sklearn\\ensemble\\_forest.py:425: FutureWarning: `max_features='auto'` has been deprecated in 1.1 and will be removed in 1.3. To keep the past behaviour, explicitly set `max_features='sqrt'` or remove this parameter as it is also the default value for RandomForestClassifiers and ExtraTreesClassifiers.\n",
      "  warn(\n"
     ]
    },
    {
     "name": "stdout",
     "output_type": "stream",
     "text": [
      "Iteration No: 16 ended. Search finished for the next optimal point.\n",
      "Time taken: 271.6799\n",
      "Function value obtained: -0.7946\n",
      "Current minimum: -0.7946\n"
     ]
    },
    {
     "name": "stderr",
     "output_type": "stream",
     "text": [
      "C:\\Users\\vinic\\anaconda3\\lib\\site-packages\\sklearn\\ensemble\\_forest.py:425: FutureWarning: `max_features='auto'` has been deprecated in 1.1 and will be removed in 1.3. To keep the past behaviour, explicitly set `max_features='sqrt'` or remove this parameter as it is also the default value for RandomForestClassifiers and ExtraTreesClassifiers.\n",
      "  warn(\n",
      "C:\\Users\\vinic\\anaconda3\\lib\\site-packages\\sklearn\\ensemble\\_forest.py:425: FutureWarning: `max_features='auto'` has been deprecated in 1.1 and will be removed in 1.3. To keep the past behaviour, explicitly set `max_features='sqrt'` or remove this parameter as it is also the default value for RandomForestClassifiers and ExtraTreesClassifiers.\n",
      "  warn(\n",
      "C:\\Users\\vinic\\anaconda3\\lib\\site-packages\\sklearn\\ensemble\\_forest.py:425: FutureWarning: `max_features='auto'` has been deprecated in 1.1 and will be removed in 1.3. To keep the past behaviour, explicitly set `max_features='sqrt'` or remove this parameter as it is also the default value for RandomForestClassifiers and ExtraTreesClassifiers.\n",
      "  warn(\n",
      "C:\\Users\\vinic\\anaconda3\\lib\\site-packages\\sklearn\\ensemble\\_forest.py:425: FutureWarning: `max_features='auto'` has been deprecated in 1.1 and will be removed in 1.3. To keep the past behaviour, explicitly set `max_features='sqrt'` or remove this parameter as it is also the default value for RandomForestClassifiers and ExtraTreesClassifiers.\n",
      "  warn(\n",
      "C:\\Users\\vinic\\anaconda3\\lib\\site-packages\\sklearn\\ensemble\\_forest.py:425: FutureWarning: `max_features='auto'` has been deprecated in 1.1 and will be removed in 1.3. To keep the past behaviour, explicitly set `max_features='sqrt'` or remove this parameter as it is also the default value for RandomForestClassifiers and ExtraTreesClassifiers.\n",
      "  warn(\n"
     ]
    },
    {
     "name": "stdout",
     "output_type": "stream",
     "text": [
      "Iteration No: 17 ended. Search finished for the next optimal point.\n",
      "Time taken: 291.7397\n",
      "Function value obtained: -0.7961\n",
      "Current minimum: -0.7961\n",
      "Iteration No: 18 ended. Search finished for the next optimal point.\n",
      "Time taken: 316.0113\n",
      "Function value obtained: -0.7904\n",
      "Current minimum: -0.7961\n",
      "Iteration No: 19 ended. Search finished for the next optimal point.\n",
      "Time taken: 333.6940\n",
      "Function value obtained: -0.7891\n",
      "Current minimum: -0.7961\n",
      "Iteration No: 20 ended. Search finished for the next optimal point.\n",
      "Time taken: 342.3412\n",
      "Function value obtained: -0.7823\n",
      "Current minimum: -0.7961\n"
     ]
    },
    {
     "name": "stderr",
     "output_type": "stream",
     "text": [
      "C:\\Users\\vinic\\anaconda3\\lib\\site-packages\\sklearn\\ensemble\\_forest.py:425: FutureWarning: `max_features='auto'` has been deprecated in 1.1 and will be removed in 1.3. To keep the past behaviour, explicitly set `max_features='sqrt'` or remove this parameter as it is also the default value for RandomForestClassifiers and ExtraTreesClassifiers.\n",
      "  warn(\n",
      "C:\\Users\\vinic\\anaconda3\\lib\\site-packages\\sklearn\\ensemble\\_forest.py:425: FutureWarning: `max_features='auto'` has been deprecated in 1.1 and will be removed in 1.3. To keep the past behaviour, explicitly set `max_features='sqrt'` or remove this parameter as it is also the default value for RandomForestClassifiers and ExtraTreesClassifiers.\n",
      "  warn(\n",
      "C:\\Users\\vinic\\anaconda3\\lib\\site-packages\\sklearn\\ensemble\\_forest.py:425: FutureWarning: `max_features='auto'` has been deprecated in 1.1 and will be removed in 1.3. To keep the past behaviour, explicitly set `max_features='sqrt'` or remove this parameter as it is also the default value for RandomForestClassifiers and ExtraTreesClassifiers.\n",
      "  warn(\n",
      "C:\\Users\\vinic\\anaconda3\\lib\\site-packages\\sklearn\\ensemble\\_forest.py:425: FutureWarning: `max_features='auto'` has been deprecated in 1.1 and will be removed in 1.3. To keep the past behaviour, explicitly set `max_features='sqrt'` or remove this parameter as it is also the default value for RandomForestClassifiers and ExtraTreesClassifiers.\n",
      "  warn(\n",
      "C:\\Users\\vinic\\anaconda3\\lib\\site-packages\\sklearn\\ensemble\\_forest.py:425: FutureWarning: `max_features='auto'` has been deprecated in 1.1 and will be removed in 1.3. To keep the past behaviour, explicitly set `max_features='sqrt'` or remove this parameter as it is also the default value for RandomForestClassifiers and ExtraTreesClassifiers.\n",
      "  warn(\n"
     ]
    },
    {
     "name": "stdout",
     "output_type": "stream",
     "text": [
      "Iteration No: 21 ended. Search finished for the next optimal point.\n",
      "Time taken: 449.2522\n",
      "Function value obtained: -0.7905\n",
      "Current minimum: -0.7961\n"
     ]
    },
    {
     "name": "stderr",
     "output_type": "stream",
     "text": [
      "C:\\Users\\vinic\\anaconda3\\lib\\site-packages\\sklearn\\ensemble\\_forest.py:425: FutureWarning: `max_features='auto'` has been deprecated in 1.1 and will be removed in 1.3. To keep the past behaviour, explicitly set `max_features='sqrt'` or remove this parameter as it is also the default value for RandomForestClassifiers and ExtraTreesClassifiers.\n",
      "  warn(\n",
      "C:\\Users\\vinic\\anaconda3\\lib\\site-packages\\sklearn\\ensemble\\_forest.py:425: FutureWarning: `max_features='auto'` has been deprecated in 1.1 and will be removed in 1.3. To keep the past behaviour, explicitly set `max_features='sqrt'` or remove this parameter as it is also the default value for RandomForestClassifiers and ExtraTreesClassifiers.\n",
      "  warn(\n",
      "C:\\Users\\vinic\\anaconda3\\lib\\site-packages\\sklearn\\ensemble\\_forest.py:425: FutureWarning: `max_features='auto'` has been deprecated in 1.1 and will be removed in 1.3. To keep the past behaviour, explicitly set `max_features='sqrt'` or remove this parameter as it is also the default value for RandomForestClassifiers and ExtraTreesClassifiers.\n",
      "  warn(\n",
      "C:\\Users\\vinic\\anaconda3\\lib\\site-packages\\sklearn\\ensemble\\_forest.py:425: FutureWarning: `max_features='auto'` has been deprecated in 1.1 and will be removed in 1.3. To keep the past behaviour, explicitly set `max_features='sqrt'` or remove this parameter as it is also the default value for RandomForestClassifiers and ExtraTreesClassifiers.\n",
      "  warn(\n",
      "C:\\Users\\vinic\\anaconda3\\lib\\site-packages\\sklearn\\ensemble\\_forest.py:425: FutureWarning: `max_features='auto'` has been deprecated in 1.1 and will be removed in 1.3. To keep the past behaviour, explicitly set `max_features='sqrt'` or remove this parameter as it is also the default value for RandomForestClassifiers and ExtraTreesClassifiers.\n",
      "  warn(\n"
     ]
    },
    {
     "name": "stdout",
     "output_type": "stream",
     "text": [
      "Iteration No: 22 ended. Search finished for the next optimal point.\n",
      "Time taken: 463.8205\n",
      "Function value obtained: -0.7874\n",
      "Current minimum: -0.7961\n"
     ]
    },
    {
     "name": "stderr",
     "output_type": "stream",
     "text": [
      "C:\\Users\\vinic\\anaconda3\\lib\\site-packages\\sklearn\\ensemble\\_forest.py:425: FutureWarning: `max_features='auto'` has been deprecated in 1.1 and will be removed in 1.3. To keep the past behaviour, explicitly set `max_features='sqrt'` or remove this parameter as it is also the default value for RandomForestClassifiers and ExtraTreesClassifiers.\n",
      "  warn(\n",
      "C:\\Users\\vinic\\anaconda3\\lib\\site-packages\\sklearn\\ensemble\\_forest.py:425: FutureWarning: `max_features='auto'` has been deprecated in 1.1 and will be removed in 1.3. To keep the past behaviour, explicitly set `max_features='sqrt'` or remove this parameter as it is also the default value for RandomForestClassifiers and ExtraTreesClassifiers.\n",
      "  warn(\n",
      "C:\\Users\\vinic\\anaconda3\\lib\\site-packages\\sklearn\\ensemble\\_forest.py:425: FutureWarning: `max_features='auto'` has been deprecated in 1.1 and will be removed in 1.3. To keep the past behaviour, explicitly set `max_features='sqrt'` or remove this parameter as it is also the default value for RandomForestClassifiers and ExtraTreesClassifiers.\n",
      "  warn(\n",
      "C:\\Users\\vinic\\anaconda3\\lib\\site-packages\\sklearn\\ensemble\\_forest.py:425: FutureWarning: `max_features='auto'` has been deprecated in 1.1 and will be removed in 1.3. To keep the past behaviour, explicitly set `max_features='sqrt'` or remove this parameter as it is also the default value for RandomForestClassifiers and ExtraTreesClassifiers.\n",
      "  warn(\n",
      "C:\\Users\\vinic\\anaconda3\\lib\\site-packages\\sklearn\\ensemble\\_forest.py:425: FutureWarning: `max_features='auto'` has been deprecated in 1.1 and will be removed in 1.3. To keep the past behaviour, explicitly set `max_features='sqrt'` or remove this parameter as it is also the default value for RandomForestClassifiers and ExtraTreesClassifiers.\n",
      "  warn(\n"
     ]
    },
    {
     "name": "stdout",
     "output_type": "stream",
     "text": [
      "Iteration No: 23 ended. Search finished for the next optimal point.\n",
      "Time taken: 531.8868\n",
      "Function value obtained: -0.7947\n",
      "Current minimum: -0.7961\n"
     ]
    },
    {
     "name": "stderr",
     "output_type": "stream",
     "text": [
      "C:\\Users\\vinic\\anaconda3\\lib\\site-packages\\sklearn\\ensemble\\_forest.py:425: FutureWarning: `max_features='auto'` has been deprecated in 1.1 and will be removed in 1.3. To keep the past behaviour, explicitly set `max_features='sqrt'` or remove this parameter as it is also the default value for RandomForestClassifiers and ExtraTreesClassifiers.\n",
      "  warn(\n",
      "C:\\Users\\vinic\\anaconda3\\lib\\site-packages\\sklearn\\ensemble\\_forest.py:425: FutureWarning: `max_features='auto'` has been deprecated in 1.1 and will be removed in 1.3. To keep the past behaviour, explicitly set `max_features='sqrt'` or remove this parameter as it is also the default value for RandomForestClassifiers and ExtraTreesClassifiers.\n",
      "  warn(\n",
      "C:\\Users\\vinic\\anaconda3\\lib\\site-packages\\sklearn\\ensemble\\_forest.py:425: FutureWarning: `max_features='auto'` has been deprecated in 1.1 and will be removed in 1.3. To keep the past behaviour, explicitly set `max_features='sqrt'` or remove this parameter as it is also the default value for RandomForestClassifiers and ExtraTreesClassifiers.\n",
      "  warn(\n",
      "C:\\Users\\vinic\\anaconda3\\lib\\site-packages\\sklearn\\ensemble\\_forest.py:425: FutureWarning: `max_features='auto'` has been deprecated in 1.1 and will be removed in 1.3. To keep the past behaviour, explicitly set `max_features='sqrt'` or remove this parameter as it is also the default value for RandomForestClassifiers and ExtraTreesClassifiers.\n",
      "  warn(\n",
      "C:\\Users\\vinic\\anaconda3\\lib\\site-packages\\sklearn\\ensemble\\_forest.py:425: FutureWarning: `max_features='auto'` has been deprecated in 1.1 and will be removed in 1.3. To keep the past behaviour, explicitly set `max_features='sqrt'` or remove this parameter as it is also the default value for RandomForestClassifiers and ExtraTreesClassifiers.\n",
      "  warn(\n"
     ]
    },
    {
     "name": "stdout",
     "output_type": "stream",
     "text": [
      "Iteration No: 24 ended. Search finished for the next optimal point.\n",
      "Time taken: 540.9018\n",
      "Function value obtained: -0.7965\n",
      "Current minimum: -0.7965\n"
     ]
    },
    {
     "name": "stderr",
     "output_type": "stream",
     "text": [
      "C:\\Users\\vinic\\anaconda3\\lib\\site-packages\\sklearn\\ensemble\\_forest.py:425: FutureWarning: `max_features='auto'` has been deprecated in 1.1 and will be removed in 1.3. To keep the past behaviour, explicitly set `max_features='sqrt'` or remove this parameter as it is also the default value for RandomForestClassifiers and ExtraTreesClassifiers.\n",
      "  warn(\n",
      "C:\\Users\\vinic\\anaconda3\\lib\\site-packages\\sklearn\\ensemble\\_forest.py:425: FutureWarning: `max_features='auto'` has been deprecated in 1.1 and will be removed in 1.3. To keep the past behaviour, explicitly set `max_features='sqrt'` or remove this parameter as it is also the default value for RandomForestClassifiers and ExtraTreesClassifiers.\n",
      "  warn(\n",
      "C:\\Users\\vinic\\anaconda3\\lib\\site-packages\\sklearn\\ensemble\\_forest.py:425: FutureWarning: `max_features='auto'` has been deprecated in 1.1 and will be removed in 1.3. To keep the past behaviour, explicitly set `max_features='sqrt'` or remove this parameter as it is also the default value for RandomForestClassifiers and ExtraTreesClassifiers.\n",
      "  warn(\n",
      "C:\\Users\\vinic\\anaconda3\\lib\\site-packages\\sklearn\\ensemble\\_forest.py:425: FutureWarning: `max_features='auto'` has been deprecated in 1.1 and will be removed in 1.3. To keep the past behaviour, explicitly set `max_features='sqrt'` or remove this parameter as it is also the default value for RandomForestClassifiers and ExtraTreesClassifiers.\n",
      "  warn(\n",
      "C:\\Users\\vinic\\anaconda3\\lib\\site-packages\\sklearn\\ensemble\\_forest.py:425: FutureWarning: `max_features='auto'` has been deprecated in 1.1 and will be removed in 1.3. To keep the past behaviour, explicitly set `max_features='sqrt'` or remove this parameter as it is also the default value for RandomForestClassifiers and ExtraTreesClassifiers.\n",
      "  warn(\n"
     ]
    },
    {
     "name": "stdout",
     "output_type": "stream",
     "text": [
      "Iteration No: 25 ended. Search finished for the next optimal point.\n",
      "Time taken: 560.5256\n",
      "Function value obtained: -0.7876\n",
      "Current minimum: -0.7965\n"
     ]
    },
    {
     "name": "stderr",
     "output_type": "stream",
     "text": [
      "C:\\Users\\vinic\\anaconda3\\lib\\site-packages\\sklearn\\ensemble\\_forest.py:425: FutureWarning: `max_features='auto'` has been deprecated in 1.1 and will be removed in 1.3. To keep the past behaviour, explicitly set `max_features='sqrt'` or remove this parameter as it is also the default value for RandomForestClassifiers and ExtraTreesClassifiers.\n",
      "  warn(\n",
      "C:\\Users\\vinic\\anaconda3\\lib\\site-packages\\sklearn\\ensemble\\_forest.py:425: FutureWarning: `max_features='auto'` has been deprecated in 1.1 and will be removed in 1.3. To keep the past behaviour, explicitly set `max_features='sqrt'` or remove this parameter as it is also the default value for RandomForestClassifiers and ExtraTreesClassifiers.\n",
      "  warn(\n",
      "C:\\Users\\vinic\\anaconda3\\lib\\site-packages\\sklearn\\ensemble\\_forest.py:425: FutureWarning: `max_features='auto'` has been deprecated in 1.1 and will be removed in 1.3. To keep the past behaviour, explicitly set `max_features='sqrt'` or remove this parameter as it is also the default value for RandomForestClassifiers and ExtraTreesClassifiers.\n",
      "  warn(\n",
      "C:\\Users\\vinic\\anaconda3\\lib\\site-packages\\sklearn\\ensemble\\_forest.py:425: FutureWarning: `max_features='auto'` has been deprecated in 1.1 and will be removed in 1.3. To keep the past behaviour, explicitly set `max_features='sqrt'` or remove this parameter as it is also the default value for RandomForestClassifiers and ExtraTreesClassifiers.\n",
      "  warn(\n",
      "C:\\Users\\vinic\\anaconda3\\lib\\site-packages\\sklearn\\ensemble\\_forest.py:425: FutureWarning: `max_features='auto'` has been deprecated in 1.1 and will be removed in 1.3. To keep the past behaviour, explicitly set `max_features='sqrt'` or remove this parameter as it is also the default value for RandomForestClassifiers and ExtraTreesClassifiers.\n",
      "  warn(\n"
     ]
    },
    {
     "name": "stdout",
     "output_type": "stream",
     "text": [
      "Iteration No: 26 ended. Search finished for the next optimal point.\n",
      "Time taken: 634.6665\n",
      "Function value obtained: -0.7982\n",
      "Current minimum: -0.7982\n",
      "Iteration No: 27 ended. Search finished for the next optimal point.\n",
      "Time taken: 718.6776\n",
      "Function value obtained: -0.8050\n",
      "Current minimum: -0.8050\n",
      "Iteration No: 28 ended. Search finished for the next optimal point.\n",
      "Time taken: 817.3952\n",
      "Function value obtained: -0.7999\n",
      "Current minimum: -0.8050\n",
      "Iteration No: 29 ended. Search finished for the next optimal point.\n",
      "Time taken: 853.1373\n",
      "Function value obtained: -0.7935\n",
      "Current minimum: -0.8050\n"
     ]
    },
    {
     "name": "stderr",
     "output_type": "stream",
     "text": [
      "C:\\Users\\vinic\\anaconda3\\lib\\site-packages\\sklearn\\ensemble\\_forest.py:425: FutureWarning: `max_features='auto'` has been deprecated in 1.1 and will be removed in 1.3. To keep the past behaviour, explicitly set `max_features='sqrt'` or remove this parameter as it is also the default value for RandomForestClassifiers and ExtraTreesClassifiers.\n",
      "  warn(\n",
      "C:\\Users\\vinic\\anaconda3\\lib\\site-packages\\sklearn\\ensemble\\_forest.py:425: FutureWarning: `max_features='auto'` has been deprecated in 1.1 and will be removed in 1.3. To keep the past behaviour, explicitly set `max_features='sqrt'` or remove this parameter as it is also the default value for RandomForestClassifiers and ExtraTreesClassifiers.\n",
      "  warn(\n",
      "C:\\Users\\vinic\\anaconda3\\lib\\site-packages\\sklearn\\ensemble\\_forest.py:425: FutureWarning: `max_features='auto'` has been deprecated in 1.1 and will be removed in 1.3. To keep the past behaviour, explicitly set `max_features='sqrt'` or remove this parameter as it is also the default value for RandomForestClassifiers and ExtraTreesClassifiers.\n",
      "  warn(\n",
      "C:\\Users\\vinic\\anaconda3\\lib\\site-packages\\sklearn\\ensemble\\_forest.py:425: FutureWarning: `max_features='auto'` has been deprecated in 1.1 and will be removed in 1.3. To keep the past behaviour, explicitly set `max_features='sqrt'` or remove this parameter as it is also the default value for RandomForestClassifiers and ExtraTreesClassifiers.\n",
      "  warn(\n",
      "C:\\Users\\vinic\\anaconda3\\lib\\site-packages\\sklearn\\ensemble\\_forest.py:425: FutureWarning: `max_features='auto'` has been deprecated in 1.1 and will be removed in 1.3. To keep the past behaviour, explicitly set `max_features='sqrt'` or remove this parameter as it is also the default value for RandomForestClassifiers and ExtraTreesClassifiers.\n",
      "  warn(\n"
     ]
    },
    {
     "name": "stdout",
     "output_type": "stream",
     "text": [
      "Iteration No: 30 ended. Search finished for the next optimal point.\n",
      "Time taken: 883.6349\n",
      "Function value obtained: -0.7896\n",
      "Current minimum: -0.8050\n",
      "Tempo cpu:874.453\n"
     ]
    }
   ],
   "source": [
    "start = time.time()\n",
    "# Fit the model\n",
    "result_cpu = bayes_cv_tuner.fit(X_pca, y_convert, callback=callback)\n",
    "time_model_cpu = round(time.time() - start, 3)\n",
    "print(f\"Tempo cpu:{time_model_cpu}\")"
   ]
  },
  {
   "cell_type": "code",
   "execution_count": 69,
   "id": "d1a001c8",
   "metadata": {},
   "outputs": [
    {
     "data": {
      "text/plain": [
       "OrderedDict([('bootstrap', True),\n",
       "             ('max_depth', 10),\n",
       "             ('max_features', 'sqrt'),\n",
       "             ('min_samples_leaf', 1),\n",
       "             ('min_samples_split', 9),\n",
       "             ('n_estimators', 1582)])"
      ]
     },
     "execution_count": 69,
     "metadata": {},
     "output_type": "execute_result"
    }
   ],
   "source": [
    "result_cpu.best_params_"
   ]
  },
  {
   "cell_type": "code",
   "execution_count": 70,
   "id": "93e0151f",
   "metadata": {},
   "outputs": [
    {
     "data": {
      "text/plain": [
       "0.8049714629336606"
      ]
     },
     "execution_count": 70,
     "metadata": {},
     "output_type": "execute_result"
    }
   ],
   "source": [
    "result_cpu.best_score_"
   ]
  },
  {
   "cell_type": "code",
   "execution_count": 71,
   "id": "2c9fbb85",
   "metadata": {},
   "outputs": [
    {
     "name": "stdout",
     "output_type": "stream",
     "text": [
      "fit_time:8.25540269613266\n",
      "score_time:0.1533572340011597\n",
      "rank_score:[20 19 17 16 12  7  5 10 13 18  9 15  6  4 14  3  1  2  8 11]\n"
     ]
    }
   ],
   "source": [
    "print(f\"fit_time:{result_cpu.cv_results_['mean_fit_time'].mean()}\")\n",
    "print(f\"score_time:{result_cpu.cv_results_['mean_score_time'].mean()}\")\n",
    "print(f\"rank_score:{result_cpu.cv_results_['rank_test_score']}\")"
   ]
  },
  {
   "cell_type": "code",
   "execution_count": 68,
   "id": "e7ad4582",
   "metadata": {},
   "outputs": [
    {
     "data": {
      "text/plain": [
       "(3738, 40)"
      ]
     },
     "execution_count": 68,
     "metadata": {},
     "output_type": "execute_result"
    }
   ],
   "source": [
    "X_convert.shape"
   ]
  },
  {
   "cell_type": "code",
   "execution_count": null,
   "id": "d0f64ff6",
   "metadata": {},
   "outputs": [],
   "source": []
  }
 ],
 "metadata": {
  "kernelspec": {
   "display_name": "Python 3 (ipykernel)",
   "language": "python",
   "name": "python3"
  },
  "language_info": {
   "codemirror_mode": {
    "name": "ipython",
    "version": 3
   },
   "file_extension": ".py",
   "mimetype": "text/x-python",
   "name": "python",
   "nbconvert_exporter": "python",
   "pygments_lexer": "ipython3",
   "version": "3.10.9"
  }
 },
 "nbformat": 4,
 "nbformat_minor": 5
}
